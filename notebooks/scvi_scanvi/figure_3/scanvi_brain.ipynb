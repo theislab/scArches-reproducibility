{
 "cells": [
  {
   "cell_type": "code",
   "execution_count": null,
   "metadata": {},
   "outputs": [],
   "source": [
    "import os\n",
    "import matplotlib.pyplot as plt\n",
    "import scanpy as sc\n",
    "import torch\n",
    "import time\n",
    "import json\n",
    "import scvi\n",
    "import numpy as np"
   ]
  },
  {
   "cell_type": "code",
   "execution_count": null,
   "metadata": {},
   "outputs": [],
   "source": [
    "sc.set_figure_params(figsize=(4, 4))"
   ]
  },
  {
   "cell_type": "code",
   "execution_count": null,
   "metadata": {},
   "outputs": [],
   "source": [
    "deep_inject = True\n",
    "n_epochs_surgery = 300\n",
    "test_nr = 2\n",
    "batch_key = \"study\"\n",
    "cell_type_key = \"cell_type\""
   ]
  },
  {
   "cell_type": "code",
   "execution_count": null,
   "metadata": {},
   "outputs": [],
   "source": [
    "n_epochs_vae = 500\n",
    "n_epochs_scanvi = 300\n",
    "early_stopping_kwargs = {\n",
    "    \"early_stopping_metric\": \"elbo\",\n",
    "    \"save_best_state_metric\": \"elbo\",\n",
    "    \"patience\": 10,\n",
    "    \"threshold\": 0,\n",
    "    \"reduce_lr_on_plateau\": True,\n",
    "    \"lr_patience\": 8,\n",
    "    \"lr_factor\": 0.1,\n",
    "}\n",
    "early_stopping_kwargs_scanvi = {\n",
    "    \"early_stopping_metric\": \"accuracy\",\n",
    "    \"save_best_state_metric\": \"accuracy\",\n",
    "    \"on\": \"full_dataset\",\n",
    "    \"patience\": 10,\n",
    "    \"threshold\": 0.001,\n",
    "    \"reduce_lr_on_plateau\": True,\n",
    "    \"lr_patience\": 8,\n",
    "    \"lr_factor\": 0.1,\n",
    "}\n",
    "early_stopping_kwargs_surgery = {\n",
    "    \"early_stopping_metric\": \"elbo\",\n",
    "    \"save_best_state_metric\": \"elbo\",\n",
    "    \"on\": \"full_dataset\",\n",
    "    \"patience\": 10,\n",
    "    \"threshold\": 0.001,\n",
    "    \"reduce_lr_on_plateau\": True,\n",
    "    \"lr_patience\": 8,\n",
    "    \"lr_factor\": 0.1,\n",
    "}"
   ]
  },
  {
   "cell_type": "code",
   "execution_count": null,
   "metadata": {},
   "outputs": [],
   "source": [
    "# Save right dir path\n",
    "if deep_inject:\n",
    "    dir_path = os.path.expanduser(f'~/Documents/benchmarking_results/figure_3/scanvi/brain/test_{test_nr}_deep_cond/')\n",
    "else:\n",
    "    dir_path = os.path.expanduser(f'~/Documents/benchmarking_results/figure_3/scanvi/brain/test_{test_nr}_first_cond/')\n",
    "if not os.path.exists(dir_path):\n",
    "    os.makedirs(dir_path)\n",
    "control_path = f'{dir_path}controlling/'\n",
    "if not os.path.exists(control_path):\n",
    "    os.makedirs(control_path)"
   ]
  },
  {
   "cell_type": "markdown",
   "metadata": {},
   "source": [
    "# Adata Handling"
   ]
  },
  {
   "cell_type": "code",
   "execution_count": null,
   "metadata": {},
   "outputs": [],
   "source": [
    "adata_all = sc.read(os.path.expanduser(f'~/Documents/benchmarking_datasets/mouse_brain_subsampled_normalized_hvg.h5ad'))\n",
    "adata = adata_all.raw.to_adata()\n",
    "adata"
   ]
  },
  {
   "cell_type": "code",
   "execution_count": null,
   "metadata": {},
   "outputs": [],
   "source": [
    "if test_nr == 1:\n",
    "    reference = ['Rosenberg']\n",
    "    query = ['Saunders', 'Zeisel', 'Tabula_muris']\n",
    "elif test_nr == 2:\n",
    "    reference = ['Rosenberg', 'Saunders']\n",
    "    query = ['Zeisel', 'Tabula_muris']\n",
    "elif test_nr == 3:\n",
    "    reference = ['Rosenberg', 'Saunders', 'Zeisel']\n",
    "    query = ['Tabula_muris']"
   ]
  },
  {
   "cell_type": "code",
   "execution_count": null,
   "metadata": {},
   "outputs": [],
   "source": [
    "ref_ind = np.array([s in reference for s in adata.obs[batch_key]])\n",
    "query_ind = np.array([s in query for s in adata.obs[batch_key]])\n",
    "adata_ref = adata[ref_ind].copy()\n",
    "adata_query = adata[query_ind].copy()"
   ]
  },
  {
   "cell_type": "code",
   "execution_count": null,
   "metadata": {},
   "outputs": [],
   "source": [
    "adata_ref"
   ]
  },
  {
   "cell_type": "code",
   "execution_count": null,
   "metadata": {},
   "outputs": [],
   "source": [
    "adata_query"
   ]
  },
  {
   "cell_type": "code",
   "execution_count": null,
   "metadata": {},
   "outputs": [],
   "source": [
    "scvi.data.setup_anndata(adata_ref, batch_key=batch_key, labels_key=cell_type_key)"
   ]
  },
  {
   "cell_type": "markdown",
   "metadata": {},
   "source": [
    "# Create SCANVI model and train"
   ]
  },
  {
   "cell_type": "code",
   "execution_count": null,
   "metadata": {},
   "outputs": [],
   "source": [
    "vae = scvi.model.SCANVI(\n",
    "    adata_ref,\n",
    "    \"Unknown\",\n",
    "    n_layers=2,\n",
    "    use_cuda=True,\n",
    "    encode_covariates=True,\n",
    "    deeply_inject_covariates=deep_inject,\n",
    "    use_layer_norm=\"both\",\n",
    "    use_batch_norm=\"none\",\n",
    "    use_observed_lib_size=True,\n",
    ")"
   ]
  },
  {
   "cell_type": "code",
   "execution_count": null,
   "metadata": {},
   "outputs": [],
   "source": [
    "print(adata_ref.obs[cell_type_key].unique().tolist())\n",
    "print(adata_ref.obs[\"_scvi_labels\"].unique().tolist())\n",
    "print(adata_ref.obs[batch_key].unique().tolist())\n",
    "print(adata_ref.obs[\"_scvi_batch\"].unique().tolist())\n",
    "print(\"Labelled Indices: \", len(vae._labeled_indices))\n",
    "print(\"Unlabelled Indices: \", len(vae._unlabeled_indices))"
   ]
  },
  {
   "cell_type": "code",
   "execution_count": null,
   "metadata": {},
   "outputs": [],
   "source": [
    "ref_time = time.time()\n",
    "vae.train(\n",
    "    n_epochs_unsupervised=n_epochs_vae,\n",
    "    n_epochs_semisupervised=n_epochs_scanvi,\n",
    "    unsupervised_trainer_kwargs=dict(early_stopping_kwargs=early_stopping_kwargs),\n",
    "    semisupervised_trainer_kwargs=dict(metrics_to_monitor=[\"elbo\", \"accuracy\"],\n",
    "                                       early_stopping_kwargs=early_stopping_kwargs_scanvi),\n",
    "    frequency=1\n",
    ")\n",
    "ref_time = time.time() - ref_time"
   ]
  },
  {
   "cell_type": "markdown",
   "metadata": {},
   "source": [
    "# Reference Evaluation"
   ]
  },
  {
   "cell_type": "code",
   "execution_count": null,
   "metadata": {},
   "outputs": [],
   "source": [
    "ref_predictions = vae.predict(adata_ref)\n",
    "adata_ref.obsm[\"X_scANVI\"] = vae.get_latent_representation()\n",
    "adata_ref.obs[\"predictions\"] = vae.predict()\n",
    "print(\"Acc: {}\".format(np.mean(ref_predictions == adata_ref.obs[cell_type_key])))"
   ]
  },
  {
   "cell_type": "code",
   "execution_count": null,
   "metadata": {},
   "outputs": [],
   "source": [
    "plt.figure()\n",
    "plt.plot(vae.trainer.history['accuracy_full_dataset'][2:], label=\"ACC\")\n",
    "plt.title(\"ACC\")\n",
    "plt.legend()\n",
    "plt.savefig(f'{control_path}reference_acc.png', bbox_inches='tight')"
   ]
  },
  {
   "cell_type": "code",
   "execution_count": null,
   "metadata": {},
   "outputs": [],
   "source": [
    "plt.figure()\n",
    "plt.plot(vae.trainer.history['elbo_full_dataset'][2:], label=\"ELBO\")\n",
    "plt.title(\"ELBO\")\n",
    "plt.legend()\n",
    "plt.savefig(f'{control_path}reference_elbo.png', bbox_inches='tight')"
   ]
  },
  {
   "cell_type": "code",
   "execution_count": null,
   "metadata": {},
   "outputs": [],
   "source": [
    "ref_cropped = sc.AnnData(adata_ref.obsm[\"X_scANVI\"])\n",
    "ref_cropped.obs[\"celltype\"] = adata_ref.obs[cell_type_key].tolist()\n",
    "ref_cropped.obs[\"batch\"] = adata_ref.obs[batch_key].tolist()\n",
    "ref_cropped.obs[\"predictions\"] = adata_ref.obs[\"predictions\"].tolist()"
   ]
  },
  {
   "cell_type": "code",
   "execution_count": null,
   "metadata": {},
   "outputs": [],
   "source": [
    "sc.pp.neighbors(ref_cropped)\n",
    "sc.tl.leiden(ref_cropped)\n",
    "sc.tl.umap(ref_cropped)\n",
    "ref_cropped.write_h5ad(filename=f'{dir_path}reference_data.h5ad')"
   ]
  },
  {
   "cell_type": "code",
   "execution_count": null,
   "metadata": {},
   "outputs": [],
   "source": [
    "plt.figure()\n",
    "sc.pl.umap(\n",
    "    ref_cropped,\n",
    "    color=[\"batch\", \"celltype\"],\n",
    "    frameon=False,\n",
    "    ncols=1,\n",
    "    show=False\n",
    ")\n",
    "plt.savefig(f'{control_path}umap_reference.png', bbox_inches='tight')"
   ]
  },
  {
   "cell_type": "code",
   "execution_count": null,
   "metadata": {},
   "outputs": [],
   "source": [
    "torch.save(vae.model.state_dict(), f'{dir_path}reference_model_state_dict')\n",
    "ref_path = f'{dir_path}ref_model/'\n",
    "if not os.path.exists(ref_path):\n",
    "    os.makedirs(ref_path)\n",
    "vae.save(ref_path, overwrite=True)"
   ]
  },
  {
   "cell_type": "markdown",
   "metadata": {},
   "source": [
    "# Run surgery on query data"
   ]
  },
  {
   "cell_type": "code",
   "execution_count": null,
   "metadata": {},
   "outputs": [],
   "source": [
    "model = scvi.model.SCANVI.load_query_data(\n",
    "    adata_query,\n",
    "    ref_path,\n",
    "    use_cuda=True,\n",
    "    freeze_dropout = True,\n",
    "    freeze_expression = True,\n",
    "    freeze_decoder_first_layer = True,\n",
    "    freeze_batchnorm_encoder = True,\n",
    "    freeze_batchnorm_decoder = True,\n",
    "    freeze_classifier = False,\n",
    ")"
   ]
  },
  {
   "cell_type": "code",
   "execution_count": null,
   "metadata": {},
   "outputs": [],
   "source": [
    "print(adata_query.obs[cell_type_key].unique().tolist())\n",
    "print(adata_query.obs[\"_scvi_labels\"].unique().tolist())\n",
    "print(adata_query.obs[batch_key].unique().tolist())\n",
    "print(adata_query.obs[\"_scvi_batch\"].unique().tolist())\n",
    "model._unlabeled_indices = np.arange(adata_query.n_obs)\n",
    "model._labeled_indices = []\n",
    "print(\"Labelled Indices: \", len(model._labeled_indices))\n",
    "print(\"Unlabelled Indices: \", len(model._unlabeled_indices))"
   ]
  },
  {
   "cell_type": "code",
   "execution_count": null,
   "metadata": {},
   "outputs": [],
   "source": [
    "query_time = time.time()\n",
    "model.train(\n",
    "    n_epochs_semisupervised=n_epochs_surgery,\n",
    "    train_base_model=False,\n",
    "    semisupervised_trainer_kwargs=dict(metrics_to_monitor=[\"accuracy\", \"elbo\"],\n",
    "                                       weight_decay=0,\n",
    "                                       early_stopping_kwargs=early_stopping_kwargs_surgery\n",
    "                                       ),\n",
    "    frequency=1\n",
    ")\n",
    "query_time = time.time() - query_time"
   ]
  },
  {
   "cell_type": "markdown",
   "metadata": {},
   "source": [
    "# Evaluation Surgery on Query"
   ]
  },
  {
   "cell_type": "code",
   "execution_count": null,
   "metadata": {},
   "outputs": [],
   "source": [
    "adata_query.obsm[\"X_scANVI\"] = model.get_latent_representation()\n",
    "adata_query.obs[\"predictions\"] = model.predict()\n",
    "query_predictions = model.predict()\n",
    "print(\"Acc: {}\".format(np.mean(query_predictions == adata_query.obs[cell_type_key])))"
   ]
  },
  {
   "cell_type": "code",
   "execution_count": null,
   "metadata": {},
   "outputs": [],
   "source": [
    "plt.figure()\n",
    "plt.plot(model.trainer.history['accuracy_full_dataset'][2:], label=\"ACC\")\n",
    "plt.title(\"ACC\")\n",
    "plt.legend()\n",
    "plt.savefig(f'{control_path}surgery_acc.png', bbox_inches='tight')"
   ]
  },
  {
   "cell_type": "code",
   "execution_count": null,
   "metadata": {},
   "outputs": [],
   "source": [
    "plt.figure()\n",
    "plt.plot(model.trainer.history['elbo_full_dataset'][2:], label=\"ELBO\")\n",
    "plt.title(\"ELBO\")\n",
    "plt.legend()\n",
    "plt.savefig(f'{control_path}surgery_elbo.png', bbox_inches='tight')"
   ]
  },
  {
   "cell_type": "code",
   "execution_count": null,
   "metadata": {},
   "outputs": [],
   "source": [
    "q_cropped = sc.AnnData(adata_query.obsm[\"X_scANVI\"])\n",
    "q_cropped.obs[\"celltype\"] = adata_query.obs[cell_type_key].tolist()\n",
    "q_cropped.obs[\"batch\"] = adata_query.obs[batch_key].tolist()\n",
    "q_cropped.obs[\"predictions\"] = adata_query.obs[\"predictions\"].tolist()"
   ]
  },
  {
   "cell_type": "code",
   "execution_count": null,
   "metadata": {},
   "outputs": [],
   "source": [
    "sc.pp.neighbors(q_cropped)\n",
    "sc.tl.leiden(q_cropped)\n",
    "sc.tl.umap(q_cropped)\n",
    "q_cropped.write_h5ad(filename=f'{dir_path}query_data.h5ad')"
   ]
  },
  {
   "cell_type": "code",
   "execution_count": null,
   "metadata": {},
   "outputs": [],
   "source": [
    "plt.figure()\n",
    "sc.pl.umap(\n",
    "    q_cropped,\n",
    "    color=[\"batch\", \"celltype\"],\n",
    "    frameon=False,\n",
    "    ncols=1,\n",
    "    show=False\n",
    ")\n",
    "plt.savefig(f'{control_path}umap_query.png', bbox_inches='tight')"
   ]
  },
  {
   "cell_type": "markdown",
   "metadata": {},
   "source": [
    "# Evaluation Query on reference"
   ]
  },
  {
   "cell_type": "code",
   "execution_count": null,
   "metadata": {},
   "outputs": [],
   "source": [
    "adata_full = adata_ref.concatenate(adata_query)\n",
    "adata_full.uns[\"_scvi\"] = adata_query.uns[\"_scvi\"]\n",
    "print(adata_full.obs[cell_type_key].unique().tolist())\n",
    "print(adata_full.obs[\"_scvi_labels\"].unique().tolist())\n",
    "print(adata_full.obs[batch_key].unique().tolist())\n",
    "print(adata_full.obs[\"_scvi_batch\"].unique().tolist())\n",
    "adata_full.obsm[\"X_scANVI\"] = model.get_latent_representation(adata=adata_full)"
   ]
  },
  {
   "cell_type": "code",
   "execution_count": null,
   "metadata": {},
   "outputs": [],
   "source": [
    "adata_full.obs[\"predictions\"] = model.predict(adata_full)\n",
    "full_predictions = model.predict(adata_full)\n",
    "print(\"Acc: {}\".format(np.mean(full_predictions == adata_full.obs[cell_type_key])))"
   ]
  },
  {
   "cell_type": "code",
   "execution_count": null,
   "metadata": {},
   "outputs": [],
   "source": [
    "f_cropped = sc.AnnData(adata_full.obsm[\"X_scANVI\"])\n",
    "f_cropped.obs[\"celltype\"] = adata_full.obs[cell_type_key].tolist()\n",
    "f_cropped.obs[\"batch\"] = adata_full.obs[batch_key].tolist()\n",
    "f_cropped.obs[\"predictions\"] = adata_full.obs[\"predictions\"].tolist()"
   ]
  },
  {
   "cell_type": "code",
   "execution_count": null,
   "metadata": {},
   "outputs": [],
   "source": [
    "sc.pp.neighbors(f_cropped)\n",
    "sc.tl.leiden(f_cropped)\n",
    "sc.tl.umap(f_cropped)\n",
    "f_cropped.write_h5ad(filename=f'{dir_path}full_data.h5ad')"
   ]
  },
  {
   "cell_type": "code",
   "execution_count": null,
   "metadata": {},
   "outputs": [],
   "source": [
    "plt.figure()\n",
    "sc.pl.umap(\n",
    "    f_cropped,\n",
    "    color=[\"batch\", \"celltype\"],\n",
    "    frameon=False,\n",
    "    ncols=1,\n",
    "    show=False\n",
    ")\n",
    "plt.savefig(f'{control_path}umap_full.png', bbox_inches='tight')"
   ]
  },
  {
   "cell_type": "code",
   "execution_count": null,
   "metadata": {},
   "outputs": [],
   "source": [
    "plt.figure()\n",
    "sc.pl.umap(\n",
    "    f_cropped,\n",
    "    color=[\"predictions\"],\n",
    "    frameon=False,\n",
    "    ncols=1,\n",
    "    show=False\n",
    ")\n",
    "plt.savefig(f'{control_path}pred_full.png', bbox_inches='tight')"
   ]
  },
  {
   "cell_type": "code",
   "execution_count": null,
   "metadata": {},
   "outputs": [],
   "source": [
    "torch.save(model.model.state_dict(), f'{dir_path}surgery_model_state_dict')\n",
    "surgery_path = f'{dir_path}surg_model/'\n",
    "if not os.path.exists(surgery_path):\n",
    "    os.makedirs(surgery_path)\n",
    "model.save(surgery_path, overwrite=True)"
   ]
  },
  {
   "cell_type": "code",
   "execution_count": null,
   "metadata": {},
   "outputs": [],
   "source": [
    "times = dict()\n",
    "times[\"ref_time\"] = ref_time\n",
    "times[\"query_time\"] = query_time\n",
    "times[\"full_time\"] = ref_time + query_time\n",
    "with open(f'{dir_path}results_times.txt', 'w') as filehandle:\n",
    "    json.dump(times, filehandle)"
   ]
  },
  {
   "cell_type": "code",
   "execution_count": null,
   "metadata": {},
   "outputs": [],
   "source": []
  }
 ],
 "metadata": {
  "kernelspec": {
   "display_name": "scvi_test",
   "language": "python",
   "name": "scvi_test"
  },
  "language_info": {
   "codemirror_mode": {
    "name": "ipython",
    "version": 3
   },
   "file_extension": ".py",
   "mimetype": "text/x-python",
   "name": "python",
   "nbconvert_exporter": "python",
   "pygments_lexer": "ipython3",
   "version": "3.7.7"
  }
 },
 "nbformat": 4,
 "nbformat_minor": 4
}
