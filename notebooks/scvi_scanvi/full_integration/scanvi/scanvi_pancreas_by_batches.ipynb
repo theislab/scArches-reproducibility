{
 "cells": [
  {
   "cell_type": "code",
   "execution_count": null,
   "metadata": {},
   "outputs": [],
   "source": [
    "import os\n",
    "import matplotlib.pyplot as plt\n",
    "import scanpy as sc\n",
    "import torch\n",
    "import time\n",
    "import json\n",
    "import scvi\n",
    "import numpy as np"
   ]
  },
  {
   "cell_type": "code",
   "execution_count": null,
   "metadata": {},
   "outputs": [],
   "source": [
    "sc.set_figure_params(figsize=(4, 4))"
   ]
  },
  {
   "cell_type": "code",
   "execution_count": null,
   "metadata": {},
   "outputs": [],
   "source": [
    "batch_key = \"study\"\n",
    "cell_type_key = \"cell_type\"\n",
    "test_nr = 1"
   ]
  },
  {
   "cell_type": "code",
   "execution_count": null,
   "metadata": {},
   "outputs": [],
   "source": [
    "n_epochs_vae = 500\n",
    "n_epochs_scanvi = 300\n",
    "early_stopping_kwargs = {\n",
    "    \"early_stopping_metric\": \"elbo\",\n",
    "    \"save_best_state_metric\": \"elbo\",\n",
    "    \"patience\": 10,\n",
    "    \"threshold\": 0,\n",
    "    \"reduce_lr_on_plateau\": True,\n",
    "    \"lr_patience\": 8,\n",
    "    \"lr_factor\": 0.1,\n",
    "}\n",
    "early_stopping_kwargs_scanvi = {\n",
    "    \"early_stopping_metric\": \"accuracy\",\n",
    "    \"save_best_state_metric\": \"accuracy\",\n",
    "    \"on\": \"full_dataset\",\n",
    "    \"patience\": 10,\n",
    "    \"threshold\": 0.001,\n",
    "    \"reduce_lr_on_plateau\": True,\n",
    "    \"lr_patience\": 8,\n",
    "    \"lr_factor\": 0.1,\n",
    "}"
   ]
  },
  {
   "cell_type": "code",
   "execution_count": null,
   "metadata": {},
   "outputs": [],
   "source": [
    "# Save right dir path\n",
    "dir_path = os.path.expanduser(f'~/Documents/benchmarking_results/full_integration/scanvi/pancreas/label_ratio_{test_nr}/')\n",
    "if not os.path.exists(dir_path):\n",
    "    os.makedirs(dir_path)\n",
    "control_path = f'{dir_path}controlling/'\n",
    "if not os.path.exists(control_path):\n",
    "    os.makedirs(control_path)"
   ]
  },
  {
   "cell_type": "code",
   "execution_count": null,
   "metadata": {},
   "outputs": [],
   "source": [
    "adata_all = sc.read(os.path.expanduser(f'~/Documents/benchmarking_datasets/pancreas_normalized.h5ad'))\n",
    "adata = adata_all.raw.to_adata()\n",
    "adata"
   ]
  },
  {
   "cell_type": "code",
   "execution_count": null,
   "metadata": {},
   "outputs": [],
   "source": [
    "if test_nr == 1:\n",
    "    labeled = ['Pancreas inDrop']\n",
    "    unlabeled = ['Pancreas SS2', 'Pancreas CelSeq2', 'Pancreas CelSeq', 'Pancreas Fluidigm C1']\n",
    "elif test_nr == 2:\n",
    "    labeled = ['Pancreas inDrop', 'Pancreas SS2']\n",
    "    unlabeled = ['Pancreas CelSeq2', 'Pancreas CelSeq', 'Pancreas Fluidigm C1']\n",
    "elif test_nr == 3:\n",
    "    labeled = ['Pancreas inDrop', 'Pancreas SS2', 'Pancreas CelSeq2']\n",
    "    unlabeled = ['Pancreas CelSeq', 'Pancreas Fluidigm C1']\n",
    "elif test_nr == 4:\n",
    "    labeled = ['Pancreas inDrop', 'Pancreas SS2', 'Pancreas CelSeq2', 'Pancreas CelSeq']\n",
    "    unlabeled = ['Pancreas Fluidigm C1']\n",
    "elif test_nr == 5:\n",
    "    labeled = ['Pancreas inDrop', 'Pancreas SS2', 'Pancreas CelSeq2', 'Pancreas CelSeq', 'Pancreas Fluidigm C1']\n",
    "    unlabeled = []"
   ]
  },
  {
   "cell_type": "code",
   "execution_count": null,
   "metadata": {},
   "outputs": [],
   "source": [
    "scvi.data.setup_anndata(adata, batch_key=batch_key, labels_key=cell_type_key)"
   ]
  },
  {
   "cell_type": "code",
   "execution_count": null,
   "metadata": {},
   "outputs": [],
   "source": [
    "vae = scvi.model.SCANVI(\n",
    "    adata,\n",
    "    \"Unknown\",\n",
    "    n_layers=2,\n",
    "    use_cuda=True,\n",
    ")"
   ]
  },
  {
   "cell_type": "code",
   "execution_count": null,
   "metadata": {},
   "outputs": [],
   "source": [
    "labeled_ind = np.array([s in labeled for s in adata.obs[batch_key]])\n",
    "unlabeled_ind = np.array([s in unlabeled for s in adata.obs[batch_key]])\n",
    "vae._unlabeled_indices = np.arange(adata.n_obs)[unlabeled_ind]\n",
    "vae._labeled_indices = np.arange(adata.n_obs)[labeled_ind]\n",
    "print(\"Labeled Conditions:\", adata.obs[batch_key][labeled_ind].unique().tolist())\n",
    "print(\"Unlabeled Conditions:\", adata.obs[batch_key][unlabeled_ind].unique().tolist())\n",
    "print(\"Labelled Indices: \", len(vae._labeled_indices))\n",
    "print(\"Unlabelled Indices: \", len(vae._unlabeled_indices))"
   ]
  },
  {
   "cell_type": "code",
   "execution_count": null,
   "metadata": {},
   "outputs": [],
   "source": [
    "full_time = time.time()\n",
    "vae.train(\n",
    "    n_epochs_unsupervised=n_epochs_vae,\n",
    "    n_epochs_semisupervised=n_epochs_scanvi,\n",
    "    unsupervised_trainer_kwargs=dict(early_stopping_kwargs=early_stopping_kwargs),\n",
    "    semisupervised_trainer_kwargs=dict(metrics_to_monitor=[\"elbo\", \"accuracy\"],\n",
    "                                       early_stopping_kwargs=early_stopping_kwargs_scanvi),\n",
    "    frequency=1\n",
    ")\n",
    "full_time = time.time() - full_time"
   ]
  },
  {
   "cell_type": "code",
   "execution_count": null,
   "metadata": {},
   "outputs": [],
   "source": [
    "ref_predictions = vae.predict(adata)\n",
    "adata.obsm[\"X_scANVI\"] = vae.get_latent_representation()\n",
    "adata.obs[\"predictions\"] = vae.predict()\n",
    "print(\"Acc: {}\".format(np.mean(ref_predictions == adata.obs[cell_type_key])))"
   ]
  },
  {
   "cell_type": "code",
   "execution_count": null,
   "metadata": {},
   "outputs": [],
   "source": [
    "plt.figure()\n",
    "plt.plot(vae.trainer.history['accuracy_full_dataset'][2:], label=\"ACC\")\n",
    "plt.title(\"ACC\")\n",
    "plt.legend()\n",
    "plt.savefig(f'{control_path}reference_acc.png', bbox_inches='tight')"
   ]
  },
  {
   "cell_type": "code",
   "execution_count": null,
   "metadata": {},
   "outputs": [],
   "source": [
    "plt.figure()\n",
    "plt.plot(vae.trainer.history['elbo_full_dataset'][2:], label=\"ELBO\")\n",
    "plt.title(\"ELBO\")\n",
    "plt.legend()\n",
    "plt.savefig(f'{control_path}reference_elbo.png', bbox_inches='tight')"
   ]
  },
  {
   "cell_type": "code",
   "execution_count": null,
   "metadata": {},
   "outputs": [],
   "source": [
    "ref_cropped = sc.AnnData(adata.obsm[\"X_scANVI\"])\n",
    "ref_cropped.obs[\"celltype\"] = adata.obs[cell_type_key].tolist()\n",
    "ref_cropped.obs[\"batch\"] = adata.obs[batch_key].tolist()\n",
    "ref_cropped.obs[\"predictions\"] = adata.obs[\"predictions\"].tolist()"
   ]
  },
  {
   "cell_type": "code",
   "execution_count": null,
   "metadata": {},
   "outputs": [],
   "source": [
    "sc.pp.neighbors(ref_cropped)\n",
    "sc.tl.leiden(ref_cropped)\n",
    "sc.tl.umap(ref_cropped)\n",
    "ref_cropped.write_h5ad(filename=f'{dir_path}data.h5ad')"
   ]
  },
  {
   "cell_type": "code",
   "execution_count": null,
   "metadata": {},
   "outputs": [],
   "source": [
    "plt.figure()\n",
    "sc.pl.umap(\n",
    "    ref_cropped,\n",
    "    color=[\"batch\", \"celltype\"],\n",
    "    frameon=False,\n",
    "    ncols=1,\n",
    "    show=False\n",
    ")\n",
    "plt.savefig(f'{control_path}umap_reference.png', bbox_inches='tight')"
   ]
  },
  {
   "cell_type": "code",
   "execution_count": null,
   "metadata": {},
   "outputs": [],
   "source": [
    "torch.save(vae.model.state_dict(), f'{dir_path}model_state_dict')\n",
    "ref_path = f'{dir_path}model/'\n",
    "if not os.path.exists(ref_path):\n",
    "    os.makedirs(ref_path)\n",
    "vae.save(ref_path, overwrite=True)"
   ]
  },
  {
   "cell_type": "code",
   "execution_count": null,
   "metadata": {},
   "outputs": [],
   "source": [
    "times = dict()\n",
    "times[\"full_time\"] = full_time\n",
    "with open(f'{dir_path}results_times.txt', 'w') as filehandle:\n",
    "    json.dump(times, filehandle)"
   ]
  },
  {
   "cell_type": "code",
   "execution_count": null,
   "metadata": {},
   "outputs": [],
   "source": []
  }
 ],
 "metadata": {
  "kernelspec": {
   "display_name": "scvi_test",
   "language": "python",
   "name": "scvi_test"
  },
  "language_info": {
   "codemirror_mode": {
    "name": "ipython",
    "version": 3
   },
   "file_extension": ".py",
   "mimetype": "text/x-python",
   "name": "python",
   "nbconvert_exporter": "python",
   "pygments_lexer": "ipython3",
   "version": "3.7.7"
  }
 },
 "nbformat": 4,
 "nbformat_minor": 4
}
