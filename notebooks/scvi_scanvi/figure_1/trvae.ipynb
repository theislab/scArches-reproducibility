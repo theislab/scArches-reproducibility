{
 "cells": [
  {
   "cell_type": "code",
   "execution_count": null,
   "metadata": {},
   "outputs": [],
   "source": [
    "import os\n",
    "import matplotlib.pyplot as plt\n",
    "import scarches as sca\n",
    "from scarches.dataset.trvae.data_handling import remove_sparsity\n",
    "import scanpy as sc\n",
    "import torch\n",
    "import time\n",
    "import json\n",
    "import numpy as np"
   ]
  },
  {
   "cell_type": "markdown",
   "metadata": {},
   "source": [
    "# Set Params"
   ]
  },
  {
   "cell_type": "code",
   "execution_count": null,
   "metadata": {},
   "outputs": [],
   "source": [
    "n_epochs_surgery = 300\n",
    "leave_out_cell_types = ['Pancreas Alpha','Pancreas Gamma']"
   ]
  },
  {
   "cell_type": "code",
   "execution_count": null,
   "metadata": {},
   "outputs": [],
   "source": [
    "target_batches = [\"Pancreas SS2\", \"Pancreas CelSeq2\"]\n",
    "batch_key = \"study\"\n",
    "cell_type_key = \"cell_type\""
   ]
  },
  {
   "cell_type": "code",
   "execution_count": null,
   "metadata": {},
   "outputs": [],
   "source": [
    "n_epochs_vae = 500\n",
    "early_stopping_kwargs = {\n",
    "    \"early_stopping_metric\": \"val_unweighted_loss\",\n",
    "    \"threshold\": 0,\n",
    "    \"patience\": 20,\n",
    "    \"reduce_lr\": True,\n",
    "    \"lr_patience\": 13,\n",
    "    \"lr_factor\": 0.1,\n",
    "}"
   ]
  },
  {
   "cell_type": "code",
   "execution_count": null,
   "metadata": {},
   "outputs": [],
   "source": [
    "# Save right dir path\n",
    "dir_path = os.path.expanduser(f'~/Documents/benchmarking_results/figure_1/trvae_mse/ood_2/')\n",
    "\n",
    "if not os.path.exists(dir_path):\n",
    "    os.makedirs(dir_path)\n",
    "control_path = f'{dir_path}controlling/'\n",
    "if not os.path.exists(control_path):\n",
    "    os.makedirs(control_path)"
   ]
  },
  {
   "cell_type": "markdown",
   "metadata": {},
   "source": [
    "# Adata Handling"
   ]
  },
  {
   "cell_type": "code",
   "execution_count": null,
   "metadata": {},
   "outputs": [],
   "source": [
    "adata = sc.read(os.path.expanduser(f'~/Documents/benchmarking_datasets/pancreas_normalized.h5ad'))\n",
    "#adata = adata_all.raw.to_adata()\n",
    "adata = remove_sparsity(adata)\n",
    "adata"
   ]
  },
  {
   "cell_type": "code",
   "execution_count": null,
   "metadata": {},
   "outputs": [],
   "source": [
    "query = np.array([s in target_batches for s in adata.obs[batch_key]])\n",
    "query_1 = np.array([s in [target_batches[0]] for s in adata.obs[batch_key]])\n",
    "query_2 = np.array([s in [target_batches[1]] for s in adata.obs[batch_key]])\n",
    "adata_ref_full = adata[~query].copy()\n",
    "adata_ref = adata_ref_full[~adata_ref_full.obs[cell_type_key].isin(leave_out_cell_types)].copy()\n",
    "adata_query_1 = adata[query_1].copy()\n",
    "adata_query_2 = adata[query_2].copy()"
   ]
  },
  {
   "cell_type": "code",
   "execution_count": null,
   "metadata": {},
   "outputs": [],
   "source": [
    "adata_ref"
   ]
  },
  {
   "cell_type": "code",
   "execution_count": null,
   "metadata": {},
   "outputs": [],
   "source": [
    "adata_query_1"
   ]
  },
  {
   "cell_type": "code",
   "execution_count": null,
   "metadata": {},
   "outputs": [],
   "source": [
    "adata_query_2"
   ]
  },
  {
   "cell_type": "markdown",
   "metadata": {},
   "source": [
    "# Create SCVI model and train"
   ]
  },
  {
   "cell_type": "code",
   "execution_count": null,
   "metadata": {},
   "outputs": [],
   "source": [
    "trvae = sca.models.TRVAE(\n",
    "    adata=adata_ref,\n",
    "    condition_key=batch_key,\n",
    "    hidden_layer_sizes=[128, 128],\n",
    "    recon_loss='mse'\n",
    ")"
   ]
  },
  {
   "cell_type": "code",
   "execution_count": null,
   "metadata": {},
   "outputs": [],
   "source": [
    "ref_time = time.time()\n",
    "trvae.train(\n",
    "    n_epochs=n_epochs_vae,\n",
    "    alpha_epoch_anneal=200,\n",
    "    early_stopping_kwargs=early_stopping_kwargs\n",
    ")\n",
    "ref_time = time.time() - ref_time"
   ]
  },
  {
   "cell_type": "markdown",
   "metadata": {},
   "source": [
    "# Reference Evaluation"
   ]
  },
  {
   "cell_type": "code",
   "execution_count": null,
   "metadata": {},
   "outputs": [],
   "source": [
    "adata_latent_r = sc.AnnData(trvae.get_latent())\n",
    "adata_latent_r.obs['celltype'] = adata_ref.obs[cell_type_key].tolist()\n",
    "adata_latent_r.obs['batch'] = adata_ref.obs[batch_key].tolist()"
   ]
  },
  {
   "cell_type": "code",
   "execution_count": null,
   "metadata": {},
   "outputs": [],
   "source": [
    "sc.pp.neighbors(adata_latent_r, n_neighbors=8)\n",
    "sc.tl.leiden(adata_latent_r)\n",
    "sc.tl.umap(adata_latent_r)\n",
    "adata_latent_r.write_h5ad(filename=f'{dir_path}reference_data.h5ad')"
   ]
  },
  {
   "cell_type": "code",
   "execution_count": null,
   "metadata": {},
   "outputs": [],
   "source": [
    "plt.figure()\n",
    "sc.pl.umap(\n",
    "    adata_latent_r,\n",
    "    color=[\"batch\", \"celltype\"],\n",
    "    frameon=False,\n",
    "    ncols=1,\n",
    "    show=False\n",
    ")\n",
    "plt.savefig(f'{control_path}umap_reference.png', bbox_inches='tight')"
   ]
  },
  {
   "cell_type": "code",
   "execution_count": null,
   "metadata": {},
   "outputs": [],
   "source": [
    "ref_path = f'{dir_path}ref_model/'\n",
    "if not os.path.exists(ref_path):\n",
    "    os.makedirs(ref_path)\n",
    "trvae.save(ref_path, overwrite=True)"
   ]
  },
  {
   "cell_type": "markdown",
   "metadata": {},
   "source": [
    "# Run surgery on first query batch"
   ]
  },
  {
   "cell_type": "code",
   "execution_count": null,
   "metadata": {},
   "outputs": [],
   "source": [
    "new_trvae = sca.models.TRVAE.load_query_data(adata=adata_query_1, reference_model=ref_path)"
   ]
  },
  {
   "cell_type": "code",
   "execution_count": null,
   "metadata": {},
   "outputs": [],
   "source": [
    "query_1_time = time.time()\n",
    "new_trvae.train(n_epochs=n_epochs_surgery, frequency=1, early_stopping_kwargs=early_stopping_kwargs, weight_decay=0)\n",
    "query_1_time = time.time() - query_1_time"
   ]
  },
  {
   "cell_type": "markdown",
   "metadata": {},
   "source": [
    "# Evaluation Surgery on Query1"
   ]
  },
  {
   "cell_type": "code",
   "execution_count": null,
   "metadata": {},
   "outputs": [],
   "source": [
    "adata_latent_q1 = sc.AnnData(new_trvae.get_latent())\n",
    "adata_latent_q1.obs['celltype'] = adata_query_1.obs[cell_type_key].tolist()\n",
    "adata_latent_q1.obs['batch'] = adata_query_1.obs[batch_key].tolist()"
   ]
  },
  {
   "cell_type": "code",
   "execution_count": null,
   "metadata": {},
   "outputs": [],
   "source": [
    "sc.pp.neighbors(adata_latent_q1)\n",
    "sc.tl.leiden(adata_latent_q1)\n",
    "sc.tl.umap(adata_latent_q1)\n",
    "adata_latent_q1.write_h5ad(filename=f'{dir_path}query_1_data.h5ad')"
   ]
  },
  {
   "cell_type": "code",
   "execution_count": null,
   "metadata": {},
   "outputs": [],
   "source": [
    "plt.figure()\n",
    "sc.pl.umap(\n",
    "    adata_latent_q1,\n",
    "    color=[\"batch\", \"celltype\"],\n",
    "    frameon=False,\n",
    "    ncols=1,\n",
    "    show=False\n",
    ")\n",
    "plt.savefig(f'{control_path}umap_query_1.png', bbox_inches='tight')"
   ]
  },
  {
   "cell_type": "markdown",
   "metadata": {},
   "source": [
    "# Evaluation Query1 on reference"
   ]
  },
  {
   "cell_type": "code",
   "execution_count": null,
   "metadata": {},
   "outputs": [],
   "source": [
    "adata_full_1 = adata_ref.concatenate(adata_query_1)"
   ]
  },
  {
   "cell_type": "code",
   "execution_count": null,
   "metadata": {},
   "outputs": [],
   "source": [
    "adata_latent_f1 = sc.AnnData(new_trvae.get_latent(adata_full_1.X, adata_full_1.obs[batch_key]))\n",
    "adata_latent_f1.obs['celltype'] = adata_full_1.obs[cell_type_key].tolist()\n",
    "adata_latent_f1.obs['batch'] = adata_full_1.obs[batch_key].tolist()"
   ]
  },
  {
   "cell_type": "code",
   "execution_count": null,
   "metadata": {},
   "outputs": [],
   "source": [
    "sc.pp.neighbors(adata_latent_f1)\n",
    "sc.tl.leiden(adata_latent_f1)\n",
    "sc.tl.umap(adata_latent_f1)\n",
    "adata_latent_f1.write_h5ad(filename=f'{dir_path}full_1_data.h5ad')"
   ]
  },
  {
   "cell_type": "code",
   "execution_count": null,
   "metadata": {},
   "outputs": [],
   "source": [
    "plt.figure()\n",
    "sc.pl.umap(\n",
    "    adata_latent_f1,\n",
    "    color=[\"batch\", \"celltype\"],\n",
    "    frameon=False,\n",
    "    ncols=1,\n",
    "    show=False\n",
    ")\n",
    "plt.savefig(f'{control_path}umap_full_1.png', bbox_inches='tight')"
   ]
  },
  {
   "cell_type": "code",
   "execution_count": null,
   "metadata": {},
   "outputs": [],
   "source": [
    "surgery_1_path = f'{dir_path}surg_1_model/'\n",
    "if not os.path.exists(surgery_1_path):\n",
    "    os.makedirs(surgery_1_path)\n",
    "new_trvae.save(surgery_1_path, overwrite=True)"
   ]
  },
  {
   "cell_type": "markdown",
   "metadata": {},
   "source": [
    "# Run surgery on second query batch"
   ]
  },
  {
   "cell_type": "code",
   "execution_count": null,
   "metadata": {},
   "outputs": [],
   "source": [
    "new_trvae_2 = sca.models.TRVAE.load_query_data(adata=adata_query_2, reference_model=surgery_1_path)"
   ]
  },
  {
   "cell_type": "code",
   "execution_count": null,
   "metadata": {},
   "outputs": [],
   "source": [
    "query_2_time = time.time()\n",
    "new_trvae_2.train(n_epochs=n_epochs_surgery, frequency=1, early_stopping_kwargs=early_stopping_kwargs, weight_decay=0)\n",
    "query_2_time = time.time() - query_2_time"
   ]
  },
  {
   "cell_type": "markdown",
   "metadata": {},
   "source": [
    "# Evaluation Surgery on Query2"
   ]
  },
  {
   "cell_type": "code",
   "execution_count": null,
   "metadata": {},
   "outputs": [],
   "source": [
    "adata_latent_q2 = sc.AnnData(new_trvae_2.get_latent())\n",
    "adata_latent_q2.obs['celltype'] = adata_query_2.obs[cell_type_key].tolist()\n",
    "adata_latent_q2.obs['batch'] = adata_query_2.obs[batch_key].tolist()"
   ]
  },
  {
   "cell_type": "code",
   "execution_count": null,
   "metadata": {},
   "outputs": [],
   "source": [
    "sc.pp.neighbors(adata_latent_q2)\n",
    "sc.tl.leiden(adata_latent_q2)\n",
    "sc.tl.umap(adata_latent_q2)\n",
    "adata_latent_q2.write_h5ad(filename=f'{dir_path}query_2_data.h5ad')"
   ]
  },
  {
   "cell_type": "code",
   "execution_count": null,
   "metadata": {},
   "outputs": [],
   "source": [
    "plt.figure()\n",
    "sc.pl.umap(\n",
    "    adata_latent_q2,\n",
    "    color=[\"batch\", \"celltype\"],\n",
    "    frameon=False,\n",
    "    ncols=1,\n",
    "    show=False\n",
    ")\n",
    "plt.savefig(f'{control_path}umap_query_2.png', bbox_inches='tight')"
   ]
  },
  {
   "cell_type": "markdown",
   "metadata": {},
   "source": [
    "# Evaluation Query1 and Query2 on Reference"
   ]
  },
  {
   "cell_type": "code",
   "execution_count": null,
   "metadata": {},
   "outputs": [],
   "source": [
    "adata_full_2 = adata_full_1.concatenate(adata_query_2)"
   ]
  },
  {
   "cell_type": "code",
   "execution_count": null,
   "metadata": {},
   "outputs": [],
   "source": [
    "adata_latent_f2 = sc.AnnData(new_trvae_2.get_latent(adata_full_2.X, adata_full_2.obs[batch_key]))\n",
    "adata_latent_f2.obs['celltype'] = adata_full_2.obs[cell_type_key].tolist()\n",
    "adata_latent_f2.obs['batch'] = adata_full_2.obs[batch_key].tolist()"
   ]
  },
  {
   "cell_type": "code",
   "execution_count": null,
   "metadata": {},
   "outputs": [],
   "source": [
    "sc.pp.neighbors(adata_latent_f2)\n",
    "sc.tl.leiden(adata_latent_f2)\n",
    "sc.tl.umap(adata_latent_f2)\n",
    "adata_latent_f2.write_h5ad(filename=f'{dir_path}full_2_data.h5ad')"
   ]
  },
  {
   "cell_type": "code",
   "execution_count": null,
   "metadata": {},
   "outputs": [],
   "source": [
    "plt.figure()\n",
    "sc.pl.umap(\n",
    "    adata_latent_f2,\n",
    "    color=[\"batch\", \"celltype\"],\n",
    "    frameon=False,\n",
    "    ncols=1,\n",
    "    show=False\n",
    ")\n",
    "plt.savefig(f'{control_path}umap_full_2.png', bbox_inches='tight')"
   ]
  },
  {
   "cell_type": "code",
   "execution_count": null,
   "metadata": {},
   "outputs": [],
   "source": [
    "surgery_2_path = f'{dir_path}surg_2_model/'\n",
    "if not os.path.exists(surgery_2_path):\n",
    "    os.makedirs(surgery_2_path)\n",
    "new_trvae_2.save(surgery_2_path, overwrite=True)"
   ]
  },
  {
   "cell_type": "code",
   "execution_count": null,
   "metadata": {},
   "outputs": [],
   "source": [
    "times = dict()\n",
    "times[\"ref_time\"] = ref_time\n",
    "times[\"query_1_time\"] = query_1_time\n",
    "times[\"query_2_time\"] = query_2_time\n",
    "times[\"full_time\"] = ref_time + query_1_time + query_2_time\n",
    "with open(f'{dir_path}results_times.txt', 'w') as filehandle:\n",
    "    json.dump(times, filehandle)"
   ]
  },
  {
   "cell_type": "code",
   "execution_count": null,
   "metadata": {},
   "outputs": [],
   "source": []
  }
 ],
 "metadata": {
  "kernelspec": {
   "display_name": "scarches",
   "language": "python",
   "name": "scarches_testing"
  },
  "language_info": {
   "codemirror_mode": {
    "name": "ipython",
    "version": 3
   },
   "file_extension": ".py",
   "mimetype": "text/x-python",
   "name": "python",
   "nbconvert_exporter": "python",
   "pygments_lexer": "ipython3",
   "version": "3.7.7"
  }
 },
 "nbformat": 4,
 "nbformat_minor": 4
}
