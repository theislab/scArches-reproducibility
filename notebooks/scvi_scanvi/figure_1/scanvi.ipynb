{
 "cells": [
  {
   "cell_type": "code",
   "execution_count": null,
   "metadata": {},
   "outputs": [],
   "source": [
    "import os\n",
    "import matplotlib.pyplot as plt\n",
    "import scanpy as sc\n",
    "import torch\n",
    "import time\n",
    "import json\n",
    "import scarches as sca\n",
    "import numpy as np"
   ]
  },
  {
   "cell_type": "code",
   "execution_count": null,
   "metadata": {},
   "outputs": [],
   "source": [
    "sc.set_figure_params(figsize=(4, 4))"
   ]
  },
  {
   "cell_type": "markdown",
   "metadata": {},
   "source": [
    "# Set Params"
   ]
  },
  {
   "cell_type": "code",
   "execution_count": null,
   "metadata": {},
   "outputs": [],
   "source": [
    "deep_inject = False\n",
    "n_epochs_surgery = 300\n",
    "leave_out_cell_types = ['Pancreas Alpha']"
   ]
  },
  {
   "cell_type": "code",
   "execution_count": null,
   "metadata": {},
   "outputs": [],
   "source": [
    "target_batches = [\"Pancreas SS2\", \"Pancreas CelSeq2\"]\n",
    "batch_key = \"study\"\n",
    "cell_type_key = \"cell_type\""
   ]
  },
  {
   "cell_type": "code",
   "execution_count": null,
   "metadata": {},
   "outputs": [],
   "source": [
    "n_epochs_vae = 500\n",
    "n_epochs_scanvi = 300\n",
    "early_stopping_kwargs = {\n",
    "    \"early_stopping_metric\": \"elbo\",\n",
    "    \"save_best_state_metric\": \"elbo\",\n",
    "    \"patience\": 10,\n",
    "    \"threshold\": 0,\n",
    "    \"reduce_lr_on_plateau\": True,\n",
    "    \"lr_patience\": 8,\n",
    "    \"lr_factor\": 0.1,\n",
    "}\n",
    "early_stopping_kwargs_scanvi = {\n",
    "    \"early_stopping_metric\": \"accuracy\",\n",
    "    \"save_best_state_metric\": \"accuracy\",\n",
    "    \"on\": \"full_dataset\",\n",
    "    \"patience\": 10,\n",
    "    \"threshold\": 0.001,\n",
    "    \"reduce_lr_on_plateau\": True,\n",
    "    \"lr_patience\": 8,\n",
    "    \"lr_factor\": 0.1,\n",
    "}\n",
    "early_stopping_kwargs_surgery = {\n",
    "    \"early_stopping_metric\": \"elbo\",\n",
    "    \"save_best_state_metric\": \"elbo\",\n",
    "    \"on\": \"full_dataset\",\n",
    "    \"patience\": 10,\n",
    "    \"threshold\": 0.001,\n",
    "    \"reduce_lr_on_plateau\": True,\n",
    "    \"lr_patience\": 8,\n",
    "    \"lr_factor\": 0.1,\n",
    "}"
   ]
  },
  {
   "cell_type": "code",
   "execution_count": null,
   "metadata": {},
   "outputs": [],
   "source": [
    "# Save right dir path\n",
    "if deep_inject:\n",
    "    dir_path = os.path.expanduser(f'~/Documents/benchmarking/figure_1/scanvi/deep_cond/')\n",
    "else:\n",
    "    dir_path = os.path.expanduser(f'~/Documents/benchmarking/figure_1/scanvi/first_cond/')\n",
    "\n",
    "if not os.path.exists(dir_path):\n",
    "    os.makedirs(dir_path)\n",
    "control_path = f'{dir_path}controlling/'\n",
    "if not os.path.exists(control_path):\n",
    "    os.makedirs(control_path)"
   ]
  },
  {
   "cell_type": "markdown",
   "metadata": {},
   "source": [
    "# Adata Handling"
   ]
  },
  {
   "cell_type": "code",
   "execution_count": null,
   "metadata": {},
   "outputs": [],
   "source": [
    "adata_all = sc.read(os.path.expanduser(f'~/Documents/benchmarking_datasets/pancreas_normalized.h5ad'))\n",
    "adata = adata_all.raw.to_adata()\n",
    "adata"
   ]
  },
  {
   "cell_type": "code",
   "execution_count": null,
   "metadata": {},
   "outputs": [],
   "source": [
    "query = np.array([s in target_batches for s in adata.obs[batch_key]])\n",
    "query_1 = np.array([s in [target_batches[0]] for s in adata.obs[batch_key]])\n",
    "query_2 = np.array([s in [target_batches[1]] for s in adata.obs[batch_key]])\n",
    "adata_ref_full = adata[~query].copy()\n",
    "adata_ref = adata_ref_full[~adata_ref_full.obs[cell_type_key].isin(leave_out_cell_types)].copy()\n",
    "adata_query_1 = adata[query_1].copy()\n",
    "adata_query_2 = adata[query_2].copy()"
   ]
  },
  {
   "cell_type": "code",
   "execution_count": null,
   "metadata": {},
   "outputs": [],
   "source": [
    "adata_ref"
   ]
  },
  {
   "cell_type": "code",
   "execution_count": null,
   "metadata": {},
   "outputs": [],
   "source": [
    "adata_query_1"
   ]
  },
  {
   "cell_type": "code",
   "execution_count": null,
   "metadata": {},
   "outputs": [],
   "source": [
    "adata_query_2"
   ]
  },
  {
   "cell_type": "code",
   "execution_count": null,
   "metadata": {},
   "outputs": [],
   "source": [
    "sca.dataset.setup_anndata(adata_ref, batch_key=batch_key, labels_key=cell_type_key)"
   ]
  },
  {
   "cell_type": "markdown",
   "metadata": {},
   "source": [
    "# Create SCANVI model and train"
   ]
  },
  {
   "cell_type": "code",
   "execution_count": null,
   "metadata": {},
   "outputs": [],
   "source": [
    "vae = sca.models.SCANVI(\n",
    "    adata_ref,\n",
    "    \"Unknown\",\n",
    "    n_layers=2,\n",
    "    use_cuda=True,\n",
    "    encode_covariates=True,\n",
    "    deeply_inject_covariates=deep_inject,\n",
    "    use_layer_norm=\"both\",\n",
    "    use_batch_norm=\"none\",\n",
    ")"
   ]
  },
  {
   "cell_type": "code",
   "execution_count": null,
   "metadata": {},
   "outputs": [],
   "source": [
    "print(\"Labelled Indices: \", len(vae._labeled_indices))\n",
    "print(\"Unlabelled Indices: \", len(vae._unlabeled_indices))"
   ]
  },
  {
   "cell_type": "code",
   "execution_count": null,
   "metadata": {},
   "outputs": [],
   "source": [
    "ref_time = time.time()\n",
    "vae.train(\n",
    "    n_epochs_unsupervised=n_epochs_vae,\n",
    "    n_epochs_semisupervised=n_epochs_scanvi,\n",
    "    unsupervised_trainer_kwargs=dict(early_stopping_kwargs=early_stopping_kwargs),\n",
    "    semisupervised_trainer_kwargs=dict(metrics_to_monitor=[\"elbo\", \"accuracy\"],\n",
    "                                       early_stopping_kwargs=early_stopping_kwargs_scanvi),\n",
    "    frequency=1\n",
    ")\n",
    "ref_time = time.time() - ref_time"
   ]
  },
  {
   "cell_type": "markdown",
   "metadata": {},
   "source": [
    "# Reference Evaluation"
   ]
  },
  {
   "cell_type": "code",
   "execution_count": null,
   "metadata": {},
   "outputs": [],
   "source": [
    "ref_predictions = vae.predict(adata_ref)\n",
    "adata_ref.obsm[\"X_scANVI\"] = vae.get_latent_representation()\n",
    "adata_ref.obs[\"predictions\"] = vae.predict()\n",
    "print(\"Acc: {}\".format(np.mean(ref_predictions == adata_ref.obs[cell_type_key])))"
   ]
  },
  {
   "cell_type": "code",
   "execution_count": null,
   "metadata": {},
   "outputs": [],
   "source": [
    "plt.figure()\n",
    "plt.plot(vae.trainer.history['accuracy_full_dataset'][2:], label=\"ACC\")\n",
    "plt.title(\"ACC\")\n",
    "plt.legend()\n",
    "plt.savefig(f'{control_path}reference_acc.png', bbox_inches='tight')"
   ]
  },
  {
   "cell_type": "code",
   "execution_count": null,
   "metadata": {},
   "outputs": [],
   "source": [
    "plt.figure()\n",
    "plt.plot(vae.trainer.history['elbo_full_dataset'][2:], label=\"ELBO\")\n",
    "plt.title(\"ELBO\")\n",
    "plt.legend()\n",
    "plt.savefig(f'{control_path}reference_elbo.png', bbox_inches='tight')"
   ]
  },
  {
   "cell_type": "code",
   "execution_count": null,
   "metadata": {},
   "outputs": [],
   "source": [
    "ref_cropped = sc.AnnData(adata_ref.obsm[\"X_scANVI\"])\n",
    "ref_cropped.obs[\"celltype\"] = adata_ref.obs[cell_type_key].tolist()\n",
    "ref_cropped.obs[\"batch\"] = adata_ref.obs[batch_key].tolist()\n",
    "ref_cropped.obs[\"predictions\"] = adata_ref.obs[\"predictions\"].tolist()"
   ]
  },
  {
   "cell_type": "code",
   "execution_count": null,
   "metadata": {},
   "outputs": [],
   "source": [
    "sc.pp.neighbors(ref_cropped)\n",
    "sc.tl.leiden(ref_cropped)\n",
    "sc.tl.umap(ref_cropped)\n",
    "ref_cropped.write_h5ad(filename=f'{dir_path}reference_data.h5ad')"
   ]
  },
  {
   "cell_type": "code",
   "execution_count": null,
   "metadata": {},
   "outputs": [],
   "source": [
    "ref_cropped"
   ]
  },
  {
   "cell_type": "code",
   "execution_count": null,
   "metadata": {},
   "outputs": [],
   "source": [
    "plt.figure()\n",
    "sc.pl.umap(\n",
    "    ref_cropped,\n",
    "    color=[\"batch\", \"celltype\"],\n",
    "    frameon=False,\n",
    "    ncols=1,\n",
    "    show=False\n",
    ")\n",
    "plt.savefig(f'{control_path}umap_reference.png', bbox_inches='tight')"
   ]
  },
  {
   "cell_type": "code",
   "execution_count": null,
   "metadata": {},
   "outputs": [],
   "source": [
    "torch.save(vae.model.state_dict(), f'{dir_path}reference_model_state_dict')\n",
    "ref_path = f'{dir_path}ref_model/'\n",
    "if not os.path.exists(ref_path):\n",
    "    os.makedirs(ref_path)\n",
    "vae.save(ref_path, overwrite=True)"
   ]
  },
  {
   "cell_type": "markdown",
   "metadata": {},
   "source": [
    "# Run surgery on first query batch"
   ]
  },
  {
   "cell_type": "code",
   "execution_count": null,
   "metadata": {},
   "outputs": [],
   "source": [
    "adata_query_1.obs['orig_cell_types'] = adata_query_1.obs[cell_type_key].copy()\n",
    "adata_query_1.obs[cell_type_key] = vae.unlabeled_category_"
   ]
  },
  {
   "cell_type": "code",
   "execution_count": null,
   "metadata": {},
   "outputs": [],
   "source": [
    "model_1 = sca.models.SCANVI.load_query_data(\n",
    "    adata_query_1,\n",
    "    ref_path,\n",
    "    freeze_dropout = True,\n",
    ")"
   ]
  },
  {
   "cell_type": "code",
   "execution_count": null,
   "metadata": {},
   "outputs": [],
   "source": [
    "print(\"Labelled Indices: \", len(model_1._labeled_indices))\n",
    "print(\"Unlabelled Indices: \", len(model_1._unlabeled_indices))"
   ]
  },
  {
   "cell_type": "code",
   "execution_count": null,
   "metadata": {},
   "outputs": [],
   "source": [
    "query_1_time = time.time()\n",
    "model_1.train(\n",
    "    n_epochs_semisupervised=n_epochs_surgery,\n",
    "    train_base_model=False,\n",
    "    semisupervised_trainer_kwargs=dict(metrics_to_monitor=[\"elbo\"], \n",
    "                                       weight_decay=0,\n",
    "                                       early_stopping_kwargs=early_stopping_kwargs_surgery\n",
    "                                      ),\n",
    "    frequency=1\n",
    ")\n",
    "query_1_time = time.time() - query_1_time"
   ]
  },
  {
   "cell_type": "markdown",
   "metadata": {},
   "source": [
    "# Evaluation Surgery on Query1"
   ]
  },
  {
   "cell_type": "code",
   "execution_count": null,
   "metadata": {},
   "outputs": [],
   "source": [
    "adata_query_1.obsm[\"X_scANVI\"] = model_1.get_latent_representation()\n",
    "adata_query_1.obs[\"predictions\"] = model_1.predict()\n",
    "query_1_predictions = model_1.predict()\n",
    "print(\"Acc: {}\".format(np.mean(query_1_predictions == adata_query_1.obs['orig_cell_types'])))"
   ]
  },
  {
   "cell_type": "code",
   "execution_count": null,
   "metadata": {},
   "outputs": [],
   "source": [
    "q1_cropped = sc.AnnData(adata_query_1.obsm[\"X_scANVI\"])\n",
    "q1_cropped.obs[\"celltype\"] = adata_query_1.obs['orig_cell_types'].tolist()\n",
    "q1_cropped.obs[\"batch\"] = adata_query_1.obs[batch_key].tolist()\n",
    "q1_cropped.obs[\"predictions\"] = adata_query_1.obs[\"predictions\"].tolist()"
   ]
  },
  {
   "cell_type": "code",
   "execution_count": null,
   "metadata": {},
   "outputs": [],
   "source": [
    "sc.pp.neighbors(q1_cropped)\n",
    "sc.tl.leiden(q1_cropped)\n",
    "sc.tl.umap(q1_cropped)\n",
    "q1_cropped.write_h5ad(filename=f'{dir_path}query_1_data.h5ad')"
   ]
  },
  {
   "cell_type": "code",
   "execution_count": null,
   "metadata": {},
   "outputs": [],
   "source": [
    "plt.figure()\n",
    "sc.pl.umap(\n",
    "    q1_cropped,\n",
    "    color=[\"batch\", \"celltype\"],\n",
    "    frameon=False,\n",
    "    ncols=1,\n",
    "    show=False\n",
    ")\n",
    "plt.savefig(f'{control_path}umap_query_1.png', bbox_inches='tight')"
   ]
  },
  {
   "cell_type": "markdown",
   "metadata": {},
   "source": [
    "# Evaluation Query1 on reference"
   ]
  },
  {
   "cell_type": "code",
   "execution_count": null,
   "metadata": {},
   "outputs": [],
   "source": [
    "adata_ref.obs['orig_cell_types'] = adata_ref.obs[cell_type_key].copy()\n",
    "adata_full_1 = adata_ref.concatenate(adata_query_1)\n",
    "adata_full_1.uns[\"_scvi\"] = adata_query_1.uns[\"_scvi\"]\n",
    "adata_full_1.obsm[\"X_scANVI\"] = model_1.get_latent_representation(adata=adata_full_1)"
   ]
  },
  {
   "cell_type": "code",
   "execution_count": null,
   "metadata": {},
   "outputs": [],
   "source": [
    "adata_full_1.obs[\"predictions\"] = model_1.predict(adata_full_1)\n",
    "full_1_predictions = model_1.predict(adata_full_1)\n",
    "print(\"Acc: {}\".format(np.mean(full_1_predictions == adata_full_1.obs['orig_cell_types'])))"
   ]
  },
  {
   "cell_type": "code",
   "execution_count": null,
   "metadata": {},
   "outputs": [],
   "source": [
    "f1_cropped = sc.AnnData(adata_full_1.obsm[\"X_scANVI\"])\n",
    "f1_cropped.obs[\"celltype\"] = adata_full_1.obs['orig_cell_types'].tolist()\n",
    "f1_cropped.obs[\"batch\"] = adata_full_1.obs[batch_key].tolist()\n",
    "f1_cropped.obs[\"predictions\"] = adata_full_1.obs[\"predictions\"].tolist()"
   ]
  },
  {
   "cell_type": "code",
   "execution_count": null,
   "metadata": {},
   "outputs": [],
   "source": [
    "sc.pp.neighbors(f1_cropped)\n",
    "sc.tl.leiden(f1_cropped)\n",
    "sc.tl.umap(f1_cropped)\n",
    "f1_cropped.write_h5ad(filename=f'{dir_path}full_1_data.h5ad')"
   ]
  },
  {
   "cell_type": "code",
   "execution_count": null,
   "metadata": {},
   "outputs": [],
   "source": [
    "plt.figure()\n",
    "sc.pl.umap(\n",
    "    f1_cropped,\n",
    "    color=[\"batch\", \"celltype\"],\n",
    "    frameon=False,\n",
    "    ncols=1,\n",
    "    show=False\n",
    ")\n",
    "plt.savefig(f'{control_path}umap_full_1.png', bbox_inches='tight')"
   ]
  },
  {
   "cell_type": "code",
   "execution_count": null,
   "metadata": {},
   "outputs": [],
   "source": [
    "sc.pl.umap(\n",
    "    f1_cropped,\n",
    "    color=[\"predictions\"],\n",
    "    frameon=False,\n",
    "    ncols=1,\n",
    "    show=False\n",
    ")\n",
    "plt.savefig(f'{control_path}pred_full_1.png', bbox_inches='tight')"
   ]
  },
  {
   "cell_type": "code",
   "execution_count": null,
   "metadata": {},
   "outputs": [],
   "source": [
    "torch.save(model_1.model.state_dict(), f'{dir_path}surgery_1_model_state_dict')\n",
    "surgery_1_path = f'{dir_path}surg_1_model/'\n",
    "if not os.path.exists(surgery_1_path):\n",
    "    os.makedirs(surgery_1_path)\n",
    "model_1.save(surgery_1_path, overwrite=True)"
   ]
  },
  {
   "cell_type": "markdown",
   "metadata": {},
   "source": [
    "# Run surgery on second query batch"
   ]
  },
  {
   "cell_type": "code",
   "execution_count": null,
   "metadata": {},
   "outputs": [],
   "source": [
    "adata_query_2.obs['orig_cell_types'] = adata_query_2.obs[cell_type_key].copy()\n",
    "adata_query_2.obs[cell_type_key] = model_1.unlabeled_category_\n",
    "model_2 = sca.models.SCANVI.load_query_data(\n",
    "    adata_query_2,\n",
    "    surgery_1_path,\n",
    "    freeze_dropout = True,\n",
    ")"
   ]
  },
  {
   "cell_type": "code",
   "execution_count": null,
   "metadata": {},
   "outputs": [],
   "source": [
    "print(\"Labelled Indices: \", len(model_2._labeled_indices))\n",
    "print(\"Unlabelled Indices: \", model_2._unlabeled_indices.shape[0])"
   ]
  },
  {
   "cell_type": "code",
   "execution_count": null,
   "metadata": {},
   "outputs": [],
   "source": [
    "query_2_time = time.time()\n",
    "model_2.train(\n",
    "    n_epochs_semisupervised=n_epochs_surgery,\n",
    "    train_base_model=False,\n",
    "    semisupervised_trainer_kwargs=dict(metrics_to_monitor=[\"elbo\"],\n",
    "                                       weight_decay=0,\n",
    "                                      early_stopping_kwargs=early_stopping_kwargs_surgery),\n",
    "    frequency=1\n",
    ")\n",
    "query_2_time = time.time() - query_2_time"
   ]
  },
  {
   "cell_type": "markdown",
   "metadata": {},
   "source": [
    "# Evaluation Surgery on Query2"
   ]
  },
  {
   "cell_type": "code",
   "execution_count": null,
   "metadata": {},
   "outputs": [],
   "source": [
    "adata_query_2.obsm[\"X_scANVI\"] = model_2.get_latent_representation()\n",
    "adata_query_2.obs[\"predictions\"] = model_2.predict()\n",
    "query_predictions = model_2.predict()\n",
    "print(\"Acc: {}\".format(np.mean(query_predictions == adata_query_2.obs['orig_cell_types'])))"
   ]
  },
  {
   "cell_type": "code",
   "execution_count": null,
   "metadata": {},
   "outputs": [],
   "source": [
    "q2_cropped = sc.AnnData(adata_query_2.obsm[\"X_scANVI\"])\n",
    "q2_cropped.obs[\"celltype\"] = adata_query_2.obs['orig_cell_types'].tolist()\n",
    "q2_cropped.obs[\"batch\"] = adata_query_2.obs[batch_key].tolist()\n",
    "q2_cropped.obs[\"predictions\"] = adata_query_2.obs[\"predictions\"].tolist()"
   ]
  },
  {
   "cell_type": "code",
   "execution_count": null,
   "metadata": {},
   "outputs": [],
   "source": [
    "sc.pp.neighbors(q2_cropped)\n",
    "sc.tl.leiden(q2_cropped)\n",
    "sc.tl.umap(q2_cropped)\n",
    "q2_cropped.write_h5ad(filename=f'{dir_path}query_2_data.h5ad')"
   ]
  },
  {
   "cell_type": "code",
   "execution_count": null,
   "metadata": {},
   "outputs": [],
   "source": [
    "plt.figure()\n",
    "sc.pl.umap(\n",
    "    q2_cropped,\n",
    "    color=[\"batch\", \"celltype\"],\n",
    "    frameon=False,\n",
    "    ncols=1,\n",
    "    show=False\n",
    ")\n",
    "plt.savefig(f'{control_path}umap_query_2.png', bbox_inches='tight')"
   ]
  },
  {
   "cell_type": "markdown",
   "metadata": {},
   "source": [
    "# Evaluation Query1 and Query2 on Reference"
   ]
  },
  {
   "cell_type": "code",
   "execution_count": null,
   "metadata": {},
   "outputs": [],
   "source": [
    "adata_full_2 = adata_full_1.concatenate(adata_query_2)\n",
    "adata_full_2.uns[\"_scvi\"] = adata_query_2.uns[\"_scvi\"]\n",
    "adata_full_2.obsm[\"X_scANVI\"] = model_2.get_latent_representation(adata=adata_full_2)\n",
    "adata_full_2.obs[\"predicitions\"] = model_2.predict(adata_full_2)\n",
    "full_predictions = model_2.predict(adata_full_2)\n",
    "print(\"Acc: {}\".format(np.mean(full_predictions == adata_full_2.obs['orig_cell_types'])))"
   ]
  },
  {
   "cell_type": "code",
   "execution_count": null,
   "metadata": {},
   "outputs": [],
   "source": [
    "f2_cropped = sc.AnnData(adata_full_2.obsm[\"X_scANVI\"])\n",
    "f2_cropped.obs[\"celltype\"] = adata_full_2.obs['orig_cell_types'].tolist()\n",
    "f2_cropped.obs[\"batch\"] = adata_full_2.obs[batch_key].tolist()\n",
    "f2_cropped.obs[\"predictions\"] = adata_full_2.obs[\"predictions\"].tolist()"
   ]
  },
  {
   "cell_type": "code",
   "execution_count": null,
   "metadata": {},
   "outputs": [],
   "source": [
    "sc.pp.neighbors(f2_cropped)\n",
    "sc.tl.leiden(f2_cropped)\n",
    "sc.tl.umap(f2_cropped)\n",
    "f2_cropped.write_h5ad(filename=f'{dir_path}full_2_data.h5ad')"
   ]
  },
  {
   "cell_type": "code",
   "execution_count": null,
   "metadata": {},
   "outputs": [],
   "source": [
    "plt.figure()\n",
    "sc.pl.umap(\n",
    "    f2_cropped,\n",
    "    color=[\"batch\", \"celltype\"],\n",
    "    frameon=False,\n",
    "    ncols=1,\n",
    "    show=False\n",
    ")\n",
    "plt.savefig(f'{control_path}umap_full_2.png', bbox_inches='tight')"
   ]
  },
  {
   "cell_type": "code",
   "execution_count": null,
   "metadata": {},
   "outputs": [],
   "source": [
    "plt.figure()\n",
    "sc.pl.umap(\n",
    "    f2_cropped,\n",
    "    color=[\"predictions\"],\n",
    "    frameon=False,\n",
    "    ncols=1,\n",
    "    show=False\n",
    ")\n",
    "plt.savefig(f'{control_path}pred_full_2.png', bbox_inches='tight')"
   ]
  },
  {
   "cell_type": "code",
   "execution_count": null,
   "metadata": {},
   "outputs": [],
   "source": [
    "torch.save(model_2.model.state_dict(), f'{dir_path}surgery_2_model_state_dict')\n",
    "surgery_2_path = f'{dir_path}surg_2_model/'\n",
    "if not os.path.exists(surgery_2_path):\n",
    "    os.makedirs(surgery_2_path)\n",
    "model_2.save(surgery_2_path, overwrite=True)"
   ]
  },
  {
   "cell_type": "code",
   "execution_count": null,
   "metadata": {},
   "outputs": [],
   "source": [
    "times = dict()\n",
    "times[\"ref_time\"] = ref_time\n",
    "times[\"query_1_time\"] = query_1_time\n",
    "times[\"query_2_time\"] = query_2_time\n",
    "times[\"full_time\"] = ref_time + query_1_time + query_2_time\n",
    "with open(f'{dir_path}results_times.txt', 'w') as filehandle:\n",
    "    json.dump(times, filehandle)"
   ]
  },
  {
   "cell_type": "code",
   "execution_count": null,
   "metadata": {},
   "outputs": [],
   "source": []
  }
 ],
 "metadata": {
  "kernelspec": {
   "display_name": "scarches",
   "language": "python",
   "name": "scarches_testing"
  },
  "language_info": {
   "codemirror_mode": {
    "name": "ipython",
    "version": 3
   },
   "file_extension": ".py",
   "mimetype": "text/x-python",
   "name": "python",
   "nbconvert_exporter": "python",
   "pygments_lexer": "ipython3",
   "version": "3.7.7"
  }
 },
 "nbformat": 4,
 "nbformat_minor": 4
}
