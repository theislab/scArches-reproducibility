{
 "cells": [
  {
   "cell_type": "code",
   "execution_count": 1,
   "metadata": {},
   "outputs": [],
   "source": [
    "import os\n",
    "import matplotlib.pyplot as plt\n",
    "import scanpy as sc\n",
    "import torch\n",
    "import time\n",
    "import json\n",
    "import scarches as sca\n",
    "import numpy as np"
   ]
  },
  {
   "cell_type": "code",
   "execution_count": 2,
   "metadata": {},
   "outputs": [],
   "source": [
    "sc.set_figure_params(figsize=(4, 4))"
   ]
  },
  {
   "cell_type": "code",
   "execution_count": 3,
   "metadata": {},
   "outputs": [],
   "source": [
    "deep_inject = False\n",
    "n_epochs_surgery = 300\n",
    "test_nr = 2\n",
    "batch_key = \"study\"\n",
    "cell_type_key = \"cell_type\""
   ]
  },
  {
   "cell_type": "code",
   "execution_count": 4,
   "metadata": {},
   "outputs": [],
   "source": [
    "n_epochs_vae = 500\n",
    "early_stopping_kwargs = {\n",
    "    \"early_stopping_metric\": \"elbo\",\n",
    "    \"save_best_state_metric\": \"elbo\",\n",
    "    \"patience\": 10,\n",
    "    \"threshold\": 0,\n",
    "    \"reduce_lr_on_plateau\": True,\n",
    "    \"lr_patience\": 8,\n",
    "    \"lr_factor\": 0.1,\n",
    "}"
   ]
  },
  {
   "cell_type": "code",
   "execution_count": null,
   "metadata": {},
   "outputs": [],
   "source": [
    "# Save right dir path\n",
    "if deep_inject:\n",
    "    dir_path = os.path.expanduser(f'~/Documents/benchmarking_results/figure_3/scvi/brain/test_{test_nr}_deep_cond/')\n",
    "else:\n",
    "    dir_path = os.path.expanduser(f'~/Documents/benchmarking_results/figure_3/scvi/brain/test_{test_nr}_first_cond/')\n",
    "if not os.path.exists(dir_path):\n",
    "    os.makedirs(dir_path)\n",
    "control_path = f'{dir_path}controlling/'\n",
    "if not os.path.exists(control_path):\n",
    "    os.makedirs(control_path)"
   ]
  },
  {
   "cell_type": "markdown",
   "metadata": {},
   "source": [
    "# Adata Handling"
   ]
  },
  {
   "cell_type": "code",
   "execution_count": 5,
   "metadata": {},
   "outputs": [
    {
     "data": {
      "text/plain": [
       "AnnData object with n_obs × n_vars = 332129 × 4000\n",
       "    obs: 'Age', 'Subclass', 'Taxonomy_group', 'Tissue', 'age', 'batch', 'cell_ontology_class', 'cell_ontology_id', 'cell_type', 'class', 'cluster', 'cluster_id', 'louvain', 'reason', 'refined_class', 'region', 'region_subcluster', 'sample_type', 'study', 'subcluster', 'size_factors'"
      ]
     },
     "execution_count": 5,
     "metadata": {},
     "output_type": "execute_result"
    }
   ],
   "source": [
    "adata_all = sc.read(os.path.expanduser(f'~/Documents/benchmarking_datasets/mouse_brain_subsampled_normalized_hvg.h5ad'))\n",
    "adata = adata_all.raw.to_adata()\n",
    "adata"
   ]
  },
  {
   "cell_type": "code",
   "execution_count": null,
   "metadata": {},
   "outputs": [],
   "source": [
    "if test_nr == 1:\n",
    "    reference = ['Rosenberg']\n",
    "    query = ['Saunders', 'Zeisel', 'Tabula_muris']\n",
    "elif test_nr == 2:\n",
    "    reference = ['Rosenberg', 'Saunders']\n",
    "    query = ['Zeisel', 'Tabula_muris']\n",
    "elif test_nr == 3:\n",
    "    reference = ['Rosenberg', 'Saunders', 'Zeisel']\n",
    "    query = ['Tabula_muris']"
   ]
  },
  {
   "cell_type": "code",
   "execution_count": null,
   "metadata": {},
   "outputs": [],
   "source": [
    "ref_ind = np.array([s in reference for s in adata.obs[batch_key]])\n",
    "query_ind = np.array([s in query for s in adata.obs[batch_key]])\n",
    "adata_ref = adata[ref_ind].copy()\n",
    "adata_query = adata[query_ind].copy()"
   ]
  },
  {
   "cell_type": "code",
   "execution_count": null,
   "metadata": {},
   "outputs": [],
   "source": [
    "adata_ref"
   ]
  },
  {
   "cell_type": "code",
   "execution_count": null,
   "metadata": {},
   "outputs": [],
   "source": [
    "adata_query"
   ]
  },
  {
   "cell_type": "code",
   "execution_count": null,
   "metadata": {},
   "outputs": [],
   "source": [
    "sca.dataset.setup_anndata(adata_ref, batch_key=batch_key)"
   ]
  },
  {
   "cell_type": "markdown",
   "metadata": {},
   "source": [
    "# Create SCVI model and train"
   ]
  },
  {
   "cell_type": "code",
   "execution_count": null,
   "metadata": {},
   "outputs": [],
   "source": [
    "vae = sca.models.SCVI(\n",
    "    adata_ref,\n",
    "    n_layers=2,\n",
    "    use_cuda=True,\n",
    "    encode_covariates=True,\n",
    "    deeply_inject_covariates=deep_inject,\n",
    "    use_layer_norm=\"both\",\n",
    "    use_batch_norm=\"none\",\n",
    "    use_observed_lib_size=True\n",
    ")"
   ]
  },
  {
   "cell_type": "code",
   "execution_count": null,
   "metadata": {},
   "outputs": [],
   "source": [
    "ref_time = time.time()\n",
    "vae.train(n_epochs=n_epochs_vae, frequency=1, early_stopping_kwargs=early_stopping_kwargs)\n",
    "ref_time = time.time() - ref_time"
   ]
  },
  {
   "cell_type": "markdown",
   "metadata": {},
   "source": [
    "# Reference Evaluation"
   ]
  },
  {
   "cell_type": "code",
   "execution_count": null,
   "metadata": {},
   "outputs": [],
   "source": [
    "plt.plot(vae.trainer.history[\"elbo_train_set\"][2:], label=\"train\")\n",
    "plt.plot(vae.trainer.history[\"elbo_test_set\"][2:], label=\"test\")\n",
    "plt.title(\"Negative ELBO over training epochs\")\n",
    "plt.legend()\n",
    "plt.savefig(f'{control_path}reference_elbo.png', bbox_inches='tight')"
   ]
  },
  {
   "cell_type": "code",
   "execution_count": null,
   "metadata": {},
   "outputs": [],
   "source": [
    "adata_ref.obsm[\"X_scVI\"] = vae.get_latent_representation()"
   ]
  },
  {
   "cell_type": "code",
   "execution_count": null,
   "metadata": {},
   "outputs": [],
   "source": [
    "ref_cropped = sc.AnnData(adata_ref.obsm[\"X_scVI\"])\n",
    "ref_cropped.obs[\"celltype\"] = adata_ref.obs[cell_type_key].tolist()\n",
    "ref_cropped.obs[\"batch\"] = adata_ref.obs[batch_key].tolist()"
   ]
  },
  {
   "cell_type": "code",
   "execution_count": null,
   "metadata": {},
   "outputs": [],
   "source": [
    "sc.pp.neighbors(ref_cropped)\n",
    "sc.tl.leiden(ref_cropped)\n",
    "sc.tl.umap(ref_cropped)\n",
    "ref_cropped.write_h5ad(filename=f'{dir_path}reference_data.h5ad')"
   ]
  },
  {
   "cell_type": "code",
   "execution_count": null,
   "metadata": {},
   "outputs": [],
   "source": [
    "plt.figure()\n",
    "sc.pl.umap(\n",
    "    ref_cropped,\n",
    "    color=[\"batch\", \"celltype\"],\n",
    "    frameon=False,\n",
    "    ncols=1,\n",
    "    show=False\n",
    ")\n",
    "plt.savefig(f'{control_path}umap_reference.png', bbox_inches='tight')"
   ]
  },
  {
   "cell_type": "code",
   "execution_count": null,
   "metadata": {},
   "outputs": [],
   "source": [
    "torch.save(vae.model.state_dict(), f'{dir_path}reference_model_state_dict')\n",
    "ref_path = f'{dir_path}ref_model/'\n",
    "if not os.path.exists(ref_path):\n",
    "    os.makedirs(ref_path)\n",
    "vae.save(ref_path, overwrite=True)"
   ]
  },
  {
   "cell_type": "markdown",
   "metadata": {},
   "source": [
    "# Run surgery on query data"
   ]
  },
  {
   "cell_type": "code",
   "execution_count": null,
   "metadata": {},
   "outputs": [],
   "source": [
    "model = sca.models.SCVI.load_query_data(\n",
    "    adata_query,\n",
    "    ref_path,\n",
    "    freeze_dropout = True,\n",
    ")"
   ]
  },
  {
   "cell_type": "code",
   "execution_count": null,
   "metadata": {},
   "outputs": [],
   "source": [
    "query_time = time.time()\n",
    "model.train(n_epochs=n_epochs_surgery, frequency=1, early_stopping_kwargs=early_stopping_kwargs, weight_decay=0)\n",
    "query_time = time.time() - query_time"
   ]
  },
  {
   "cell_type": "markdown",
   "metadata": {},
   "source": [
    "# Evaluation Surgery on Query1"
   ]
  },
  {
   "cell_type": "code",
   "execution_count": null,
   "metadata": {},
   "outputs": [],
   "source": [
    "plt.figure()\n",
    "plt.plot(model.trainer.history[\"elbo_train_set\"][2:], label=\"train\")\n",
    "plt.plot(model.trainer.history[\"elbo_test_set\"][2:], label=\"test\")\n",
    "plt.title(\"Negative ELBO over training epochs\")\n",
    "plt.legend()\n",
    "plt.savefig(f'{control_path}surgery_elbo.png', bbox_inches='tight')"
   ]
  },
  {
   "cell_type": "code",
   "execution_count": null,
   "metadata": {},
   "outputs": [],
   "source": [
    "adata_query.obsm[\"X_scVI\"] = model.get_latent_representation()"
   ]
  },
  {
   "cell_type": "code",
   "execution_count": null,
   "metadata": {},
   "outputs": [],
   "source": [
    "q_cropped = sc.AnnData(adata_query.obsm[\"X_scVI\"])\n",
    "q_cropped.obs[\"celltype\"] = adata_query.obs[cell_type_key].tolist()\n",
    "q_cropped.obs[\"batch\"] = adata_query.obs[batch_key].tolist()"
   ]
  },
  {
   "cell_type": "code",
   "execution_count": null,
   "metadata": {},
   "outputs": [],
   "source": [
    "sc.pp.neighbors(q_cropped)\n",
    "sc.tl.leiden(q_cropped)\n",
    "sc.tl.umap(q_cropped)\n",
    "q_cropped.write_h5ad(filename=f'{dir_path}query_data.h5ad')"
   ]
  },
  {
   "cell_type": "code",
   "execution_count": null,
   "metadata": {},
   "outputs": [],
   "source": [
    "plt.figure()\n",
    "sc.pl.umap(\n",
    "    q_cropped,\n",
    "    color=[\"batch\", \"celltype\"],\n",
    "    frameon=False,\n",
    "    ncols=1,\n",
    "    show=False\n",
    ")\n",
    "plt.savefig(f'{control_path}umap_query.png', bbox_inches='tight')"
   ]
  },
  {
   "cell_type": "markdown",
   "metadata": {},
   "source": [
    "# Evaluation Query on reference"
   ]
  },
  {
   "cell_type": "code",
   "execution_count": null,
   "metadata": {},
   "outputs": [],
   "source": [
    "adata_full = adata_ref.concatenate(adata_query)\n",
    "adata_full.uns[\"_scvi\"] = adata_query.uns[\"_scvi\"]\n",
    "print(adata_full.obs[batch_key].unique().tolist())\n",
    "print(adata_full.obs[\"_scvi_batch\"].unique().tolist())\n",
    "adata_full.obsm[\"X_scVI\"] = model.get_latent_representation(adata=adata_full)"
   ]
  },
  {
   "cell_type": "code",
   "execution_count": null,
   "metadata": {},
   "outputs": [],
   "source": [
    "f_cropped = sc.AnnData(adata_full.obsm[\"X_scVI\"])\n",
    "f_cropped.obs[\"celltype\"] = adata_full.obs[cell_type_key].tolist()\n",
    "f_cropped.obs[\"batch\"] = adata_full.obs[batch_key].tolist()"
   ]
  },
  {
   "cell_type": "code",
   "execution_count": null,
   "metadata": {},
   "outputs": [],
   "source": [
    "sc.pp.neighbors(f_cropped)\n",
    "sc.tl.leiden(f_cropped)\n",
    "sc.tl.umap(f_cropped)\n",
    "f_cropped.write_h5ad(filename=f'{dir_path}full_data.h5ad')"
   ]
  },
  {
   "cell_type": "code",
   "execution_count": null,
   "metadata": {},
   "outputs": [],
   "source": [
    "plt.figure()\n",
    "sc.pl.umap(\n",
    "    f_cropped,\n",
    "    color=[\"batch\", \"celltype\"],\n",
    "    frameon=False,\n",
    "    ncols=1,\n",
    "    show=False\n",
    ")\n",
    "plt.savefig(f'{control_path}umap_full.png', bbox_inches='tight')"
   ]
  },
  {
   "cell_type": "code",
   "execution_count": null,
   "metadata": {},
   "outputs": [],
   "source": [
    "torch.save(model.model.state_dict(), f'{dir_path}surgery_model_state_dict')\n",
    "surgery_path = f'{dir_path}surg_model/'\n",
    "if not os.path.exists(surgery_path):\n",
    "    os.makedirs(surgery_path)\n",
    "model.save(surgery_path, overwrite=True)"
   ]
  },
  {
   "cell_type": "code",
   "execution_count": null,
   "metadata": {},
   "outputs": [],
   "source": [
    "times = dict()\n",
    "times[\"ref_time\"] = ref_time\n",
    "times[\"query_time\"] = query_time\n",
    "times[\"full_time\"] = ref_time + query_time\n",
    "with open(f'{dir_path}results_times.txt', 'w') as filehandle:\n",
    "    json.dump(times, filehandle)"
   ]
  },
  {
   "cell_type": "code",
   "execution_count": null,
   "metadata": {},
   "outputs": [],
   "source": []
  }
 ],
 "metadata": {
  "kernelspec": {
   "display_name": "scarches",
   "language": "python",
   "name": "scarches_testing"
  },
  "language_info": {
   "codemirror_mode": {
    "name": "ipython",
    "version": 3
   },
   "file_extension": ".py",
   "mimetype": "text/x-python",
   "name": "python",
   "nbconvert_exporter": "python",
   "pygments_lexer": "ipython3",
   "version": "3.7.7"
  }
 },
 "nbformat": 4,
 "nbformat_minor": 4
}
