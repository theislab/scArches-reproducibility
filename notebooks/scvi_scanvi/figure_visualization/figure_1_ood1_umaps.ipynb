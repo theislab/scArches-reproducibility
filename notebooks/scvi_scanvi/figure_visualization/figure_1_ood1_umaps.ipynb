{
 "cells": [
  {
   "cell_type": "code",
   "execution_count": 23,
   "metadata": {},
   "outputs": [],
   "source": [
    "import os\n",
    "import seaborn as sns\n",
    "import scanpy as sc\n",
    "import matplotlib.pyplot as plt\n",
    "import json\n",
    "import numpy as np"
   ]
  },
  {
   "cell_type": "code",
   "execution_count": 24,
   "metadata": {},
   "outputs": [],
   "source": [
    "sc.settings.set_figure_params(dpi=100, frameon=False)\n",
    "model = 'tranvae'\n",
    "\n",
    "dir_path = os.path.expanduser(f'~/Documents/benchmarking_results/figure_1/{model}/ood_1/')\n",
    "save_path = f'{dir_path}revision_2/'\n",
    "if not os.path.exists(save_path):\n",
    "    os.makedirs(save_path)"
   ]
  },
  {
   "cell_type": "code",
   "execution_count": 25,
   "metadata": {},
   "outputs": [
    {
     "data": {
      "text/plain": [
       "AnnData object with n_obs × n_vars = 7584 × 10\n",
       "    obs: 'celltype', 'batch', 'predictions', 'leiden'\n",
       "    uns: 'leiden', 'neighbors', 'umap'\n",
       "    obsm: 'X_umap'\n",
       "    obsp: 'connectivities', 'distances'"
      ]
     },
     "execution_count": 25,
     "metadata": {},
     "output_type": "execute_result"
    }
   ],
   "source": [
    "ref = sc.read(f'{dir_path}reference_data.h5ad')\n",
    "ref"
   ]
  },
  {
   "cell_type": "code",
   "execution_count": 26,
   "metadata": {},
   "outputs": [
    {
     "data": {
      "text/plain": [
       "AnnData object with n_obs × n_vars = 10545 × 10\n",
       "    obs: 'celltype', 'batch', 'predictions', 'leiden'\n",
       "    uns: 'leiden', 'neighbors', 'umap'\n",
       "    obsm: 'X_umap'\n",
       "    obsp: 'connectivities', 'distances'"
      ]
     },
     "execution_count": 26,
     "metadata": {},
     "output_type": "execute_result"
    }
   ],
   "source": [
    "f1 = sc.read(f'{dir_path}full_1_data.h5ad')\n",
    "f1.obs.batch = f1.obs.batch.replace('Pancreas SS2', 'Pancreas SS2 (query 1)')\n",
    "f1.obs.celltype = f1.obs.celltype.replace('Pancreas Alpha', 'Pancreas Alpha NEW')\n",
    "f1"
   ]
  },
  {
   "cell_type": "code",
   "execution_count": 27,
   "metadata": {},
   "outputs": [
    {
     "data": {
      "text/plain": [
       "AnnData object with n_obs × n_vars = 12971 × 10\n",
       "    obs: 'celltype', 'batch', 'predictions', 'leiden'\n",
       "    uns: 'leiden', 'neighbors', 'umap'\n",
       "    obsm: 'X_umap'\n",
       "    obsp: 'connectivities', 'distances'"
      ]
     },
     "execution_count": 27,
     "metadata": {},
     "output_type": "execute_result"
    }
   ],
   "source": [
    "f2 = sc.read(f'{dir_path}full_2_data.h5ad')\n",
    "f2.obs.batch = f2.obs.batch.replace('Pancreas SS2', 'Pancreas SS2 (query 1)')\n",
    "f2.obs.batch = f2.obs.batch.replace('Pancreas CelSeq2', 'Pancreas CelSeq2 (query 2)')\n",
    "#f2.obs.celltype = f2.obs.celltype.replace('Pancreas Alpha', 'Pancreas Alpha NEW')\n",
    "f2"
   ]
  },
  {
   "cell_type": "code",
   "execution_count": 28,
   "metadata": {},
   "outputs": [
    {
     "name": "stdout",
     "output_type": "stream",
     "text": [
      "0.8797104139595322\n",
      "AnnData object with n_obs × n_vars = 5387 × 10\n",
      "    obs: 'celltype', 'batch', 'predictions', 'leiden'\n",
      "    uns: 'leiden', 'neighbors', 'umap'\n",
      "    obsm: 'X_umap'\n",
      "    obsp: 'connectivities', 'distances'\n"
     ]
    }
   ],
   "source": [
    "query = np.array([s in ['Pancreas SS2 (query 1)','Pancreas CelSeq2 (query 2)'] for s in f2.obs.batch])\n",
    "query = f2[query].copy()\n",
    "query_truth = query.obs.celltype\n",
    "query_pred = query.obs.predictions.tolist()\n",
    "print(np.mean(query_truth == query_pred))\n",
    "print(query)"
   ]
  },
  {
   "cell_type": "code",
   "execution_count": null,
   "metadata": {},
   "outputs": [],
   "source": [
    "b_c = sc.pl.palettes.godsnot_102[10:15]\n",
    "batch_color = [b_c[2], b_c[3], b_c[0],b_c[4], b_c[1]]\n",
    "ct_c = sc.pl.palettes.godsnot_102\n",
    "ct_color = [ct_c[0], ct_c[2],ct_c[3],ct_c[4],ct_c[5],ct_c[6],ct_c[7],ct_c[1]]"
   ]
  },
  {
   "cell_type": "code",
   "execution_count": null,
   "metadata": {},
   "outputs": [],
   "source": [
    "sc.pl.umap(\n",
    "    ref,\n",
    "    color=\"batch\",\n",
    "    frameon=False,\n",
    "    ncols=1,\n",
    "    show=False,\n",
    "    title='',\n",
    "    legend_loc=\"no_legend\",\n",
    "    palette=batch_color\n",
    ")\n",
    "plt.savefig(f\"{save_path}ref_batch.pdf\", bbox_inches='tight')\n",
    "sc.pl.umap(\n",
    "    ref,\n",
    "    color=\"celltype\",\n",
    "    frameon=False,\n",
    "    ncols=1,\n",
    "    show=False,\n",
    "    title='',\n",
    "    legend_loc=\"no_legend\",\n",
    "    palette=ct_color\n",
    ")\n",
    "plt.savefig(f\"{save_path}ref_ct.pdf\", bbox_inches='tight')"
   ]
  },
  {
   "cell_type": "code",
   "execution_count": null,
   "metadata": {},
   "outputs": [],
   "source": [
    "f1_b = [batch_color[0],batch_color[1],batch_color[3],batch_color[2]]\n",
    "f1_c = [ct_color[0],ct_color[7],ct_color[1],ct_color[2],ct_color[3],ct_color[4],ct_color[5],ct_color[6]]"
   ]
  },
  {
   "cell_type": "code",
   "execution_count": null,
   "metadata": {},
   "outputs": [],
   "source": [
    "sc.pl.umap(\n",
    "    f1,\n",
    "    color=\"batch\",\n",
    "    frameon=False,\n",
    "    ncols=1,\n",
    "    show=False,\n",
    "    title='',\n",
    "    legend_loc=\"no_legend\",\n",
    "    palette=f1_b\n",
    ")\n",
    "plt.savefig(f\"{save_path}f1_batch.pdf\", bbox_inches='tight')\n",
    "sc.pl.umap(\n",
    "    f1,\n",
    "    color=\"celltype\",\n",
    "    frameon=False,\n",
    "    ncols=1,\n",
    "    show=False,\n",
    "    title='',\n",
    "    legend_loc=\"no_legend\",\n",
    "    palette=f1_c\n",
    ")\n",
    "plt.savefig(f\"{save_path}f1_ct.pdf\", bbox_inches='tight')"
   ]
  },
  {
   "cell_type": "code",
   "execution_count": null,
   "metadata": {},
   "outputs": [],
   "source": [
    "f2_b = [batch_color[0],batch_color[4],batch_color[1],batch_color[3],batch_color[2]]\n",
    "f2_c = [ct_color[0],ct_color[7],ct_color[1],ct_color[2],ct_color[3],ct_color[4],ct_color[5],ct_color[6]]"
   ]
  },
  {
   "cell_type": "code",
   "execution_count": null,
   "metadata": {},
   "outputs": [],
   "source": [
    "sc.pl.umap(\n",
    "    f2,\n",
    "    color=\"batch\",\n",
    "    frameon=False,\n",
    "    ncols=1,\n",
    "    show=False,\n",
    "    title='',\n",
    "    palette=f2_b\n",
    ")\n",
    "plt.savefig(f\"{save_path}f2_batch.pdf\", bbox_inches='tight')\n",
    "sc.pl.umap(\n",
    "    f2,\n",
    "    color=\"celltype\",\n",
    "    frameon=False,\n",
    "    ncols=1,\n",
    "    show=False,\n",
    "    title='',\n",
    "    palette=f2_c\n",
    ")\n",
    "plt.savefig(f\"{save_path}f2_ct.pdf\", bbox_inches='tight')"
   ]
  },
  {
   "cell_type": "code",
   "execution_count": null,
   "metadata": {},
   "outputs": [],
   "source": []
  }
 ],
 "metadata": {
  "kernelspec": {
   "display_name": "scarches",
   "language": "python",
   "name": "scarches_testing"
  },
  "language_info": {
   "codemirror_mode": {
    "name": "ipython",
    "version": 3
   },
   "file_extension": ".py",
   "mimetype": "text/x-python",
   "name": "python",
   "nbconvert_exporter": "python",
   "pygments_lexer": "ipython3",
   "version": "3.7.7"
  }
 },
 "nbformat": 4,
 "nbformat_minor": 4
}
