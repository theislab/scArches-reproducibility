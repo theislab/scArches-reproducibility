{
 "cells": [
  {
   "cell_type": "code",
   "execution_count": 1,
   "metadata": {},
   "outputs": [],
   "source": [
    "import os\n",
    "import matplotlib.pyplot as plt\n",
    "import scanpy as sc\n",
    "import torch\n",
    "import time\n",
    "import json\n",
    "import scvi\n",
    "import numpy as np"
   ]
  },
  {
   "cell_type": "code",
   "execution_count": 2,
   "metadata": {},
   "outputs": [],
   "source": [
    "sc.set_figure_params(figsize=(4, 4))"
   ]
  },
  {
   "cell_type": "markdown",
   "metadata": {},
   "source": [
    "# Set Params"
   ]
  },
  {
   "cell_type": "code",
   "execution_count": 3,
   "metadata": {},
   "outputs": [],
   "source": [
    "deep_inject = False\n",
    "n_epochs_surgery = 300\n",
    "leave_out_cell_types = ['NK cells', 'NKT cells']"
   ]
  },
  {
   "cell_type": "code",
   "execution_count": 4,
   "metadata": {},
   "outputs": [],
   "source": [
    "target_batches = [\"10X\"]\n",
    "batch_key = \"condition\"\n",
    "cell_type_key = \"final_annotation\""
   ]
  },
  {
   "cell_type": "code",
   "execution_count": 5,
   "metadata": {},
   "outputs": [],
   "source": [
    "n_epochs_vae = 500\n",
    "early_stopping_kwargs = {\n",
    "    \"early_stopping_metric\": \"elbo\",\n",
    "    \"save_best_state_metric\": \"elbo\",\n",
    "    \"patience\": 10,\n",
    "    \"threshold\": 0,\n",
    "    \"reduce_lr_on_plateau\": True,\n",
    "    \"lr_patience\": 8,\n",
    "    \"lr_factor\": 0.1,\n",
    "}"
   ]
  },
  {
   "cell_type": "code",
   "execution_count": 6,
   "metadata": {},
   "outputs": [],
   "source": [
    "# Save right dir path\n",
    "if len(leave_out_cell_types) > 1:\n",
    "    version = \"ood_2\"\n",
    "else:\n",
    "    version = \"ood_1\"\n",
    "if deep_inject:\n",
    "    dir_path = os.path.expanduser(f'~/Documents/benchmarking_results/figure_5/scvi/{version}_deep_cond/')\n",
    "else:\n",
    "    dir_path = os.path.expanduser(f'~/Documents/benchmarking_results/figure_5/scvi/{version}_first_cond/')\n",
    "if not os.path.exists(dir_path):\n",
    "    os.makedirs(dir_path)"
   ]
  },
  {
   "cell_type": "markdown",
   "metadata": {},
   "source": [
    "# Adata Handling"
   ]
  },
  {
   "cell_type": "code",
   "execution_count": 9,
   "metadata": {},
   "outputs": [],
   "source": [
    "adata_all = sc.read(os.path.expanduser(f'~/Documents/benchmarking_datasets/Immune_ALL_human_wo_villani_rqr_normalized_hvg.h5ad'))\n",
    "adata = adata_all.raw.to_adata()"
   ]
  },
  {
   "cell_type": "code",
   "execution_count": 10,
   "metadata": {},
   "outputs": [
    {
     "name": "stderr",
     "output_type": "stream",
     "text": [
      "/home/marco/.pyenv/versions/scvi_test/lib/python3.7/site-packages/anndata/_core/anndata.py:1094: FutureWarning: is_categorical is deprecated and will be removed in a future version.  Use is_categorical_dtype instead\n",
      "  if not is_categorical(df_full[k]):\n"
     ]
    }
   ],
   "source": [
    "query = np.array([s in target_batches for s in adata.obs[batch_key]])\n",
    "adata_ref_full = adata[~query].copy()\n",
    "adata_ref = adata_ref_full[~adata_ref_full.obs[cell_type_key].isin(leave_out_cell_types)].copy()\n",
    "adata_query = adata[query].copy()"
   ]
  },
  {
   "cell_type": "code",
   "execution_count": 11,
   "metadata": {},
   "outputs": [
    {
     "data": {
      "text/plain": [
       "['CD16+ Monocytes', 'HSPCs', 'CD8+ T cells', 'Erythrocytes', 'CD10+ B cells', ..., 'Monocyte-derived dendritic cells', 'Plasma cells', 'Erythroid progenitors', 'Megakaryocyte progenitors', 'CD4+ T cells']\n",
       "Length: 13\n",
       "Categories (13, object): ['CD16+ Monocytes', 'HSPCs', 'CD8+ T cells', 'Erythrocytes', ..., 'Plasma cells', 'Erythroid progenitors', 'Megakaryocyte progenitors', 'CD4+ T cells']"
      ]
     },
     "execution_count": 11,
     "metadata": {},
     "output_type": "execute_result"
    }
   ],
   "source": [
    "adata_ref\n",
    "adata_ref.obs[cell_type_key].unique()"
   ]
  },
  {
   "cell_type": "code",
   "execution_count": 12,
   "metadata": {},
   "outputs": [
    {
     "data": {
      "text/plain": [
       "['Monocyte-derived dendritic cells', 'CD14+ Monocytes', 'NK cells', 'CD20+ B cells', 'CD8+ T cells', 'Plasmacytoid dendritic cells', 'CD16+ Monocytes', 'Megakaryocyte progenitors', 'HSPCs', 'Plasma cells']\n",
       "Categories (10, object): ['Monocyte-derived dendritic cells', 'CD14+ Monocytes', 'NK cells', 'CD20+ B cells', ..., 'CD16+ Monocytes', 'Megakaryocyte progenitors', 'HSPCs', 'Plasma cells']"
      ]
     },
     "execution_count": 12,
     "metadata": {},
     "output_type": "execute_result"
    }
   ],
   "source": [
    "adata_query\n",
    "adata_query.obs[cell_type_key].unique()"
   ]
  },
  {
   "cell_type": "code",
   "execution_count": null,
   "metadata": {},
   "outputs": [],
   "source": [
    "scvi.data.setup_anndata(adata_ref, batch_key=batch_key)"
   ]
  },
  {
   "cell_type": "markdown",
   "metadata": {},
   "source": [
    "# Create SCVI model and train"
   ]
  },
  {
   "cell_type": "code",
   "execution_count": null,
   "metadata": {},
   "outputs": [],
   "source": [
    "vae = scvi.model.SCVI(\n",
    "    adata_ref,\n",
    "    n_layers=2,\n",
    "    use_cuda=True,\n",
    "    encode_covariates=True,\n",
    "    deeply_inject_covariates=deep_inject,\n",
    "    use_layer_norm=\"both\",\n",
    "    use_batch_norm=\"none\",\n",
    "    use_observed_lib_size=True\n",
    ")"
   ]
  },
  {
   "cell_type": "code",
   "execution_count": null,
   "metadata": {},
   "outputs": [],
   "source": [
    "ref_time = time.time()\n",
    "vae.train(n_epochs=n_epochs_vae, frequency=1, early_stopping_kwargs=early_stopping_kwargs)\n",
    "ref_time = time.time() - ref_time"
   ]
  },
  {
   "cell_type": "markdown",
   "metadata": {},
   "source": [
    "# Reference Evaluation"
   ]
  },
  {
   "cell_type": "code",
   "execution_count": null,
   "metadata": {},
   "outputs": [],
   "source": [
    "plt.plot(vae.trainer.history[\"elbo_train_set\"][2:], label=\"train\")\n",
    "plt.plot(vae.trainer.history[\"elbo_test_set\"][2:], label=\"test\")\n",
    "plt.title(\"Negative ELBO over training epochs\")\n",
    "plt.legend()"
   ]
  },
  {
   "cell_type": "code",
   "execution_count": null,
   "metadata": {},
   "outputs": [],
   "source": [
    "adata_ref.obsm[\"X_scVI\"] = vae.get_latent_representation()"
   ]
  },
  {
   "cell_type": "code",
   "execution_count": null,
   "metadata": {},
   "outputs": [],
   "source": [
    "sc.pp.neighbors(adata_ref, use_rep=\"X_scVI\")\n",
    "sc.tl.leiden(adata_ref)\n",
    "sc.tl.umap(adata_ref)\n",
    "plt.figure()\n",
    "sc.pl.umap(\n",
    "    adata_ref,\n",
    "    color=[batch_key, cell_type_key],\n",
    "    frameon=False,\n",
    "    ncols=1,\n",
    ")"
   ]
  },
  {
   "cell_type": "code",
   "execution_count": null,
   "metadata": {},
   "outputs": [],
   "source": [
    "adata_ref.write_h5ad(filename=f'{dir_path}reference_data.h5ad')\n",
    "torch.save(vae.model.state_dict(), f'{dir_path}reference_model_state_dict')\n",
    "ref_path = f'{dir_path}ref_model/'\n",
    "if not os.path.exists(ref_path):\n",
    "    os.makedirs(ref_path)\n",
    "vae.save(ref_path, overwrite=True)"
   ]
  },
  {
   "cell_type": "markdown",
   "metadata": {},
   "source": [
    "# Run surgery on query batch"
   ]
  },
  {
   "cell_type": "code",
   "execution_count": null,
   "metadata": {},
   "outputs": [],
   "source": [
    "model = scvi.model.SCVI.load_query_data(\n",
    "    adata_query,\n",
    "    ref_path,\n",
    "    use_cuda=True,\n",
    "    freeze_batchnorm_encoder=True,\n",
    "    freeze_batchnorm_decoder=True,\n",
    "    freeze_expression=True\n",
    ")"
   ]
  },
  {
   "cell_type": "code",
   "execution_count": null,
   "metadata": {},
   "outputs": [],
   "source": [
    "query_time = time.time()\n",
    "model.train(n_epochs=n_epochs_surgery, frequency=1, early_stopping_kwargs=early_stopping_kwargs, weight_decay=0)\n",
    "query_time = time.time() - query_time"
   ]
  },
  {
   "cell_type": "markdown",
   "metadata": {},
   "source": [
    "# Evaluation Surgery on Query1"
   ]
  },
  {
   "cell_type": "code",
   "execution_count": null,
   "metadata": {},
   "outputs": [],
   "source": [
    "plt.figure()\n",
    "plt.plot(model.trainer.history[\"elbo_train_set\"][2:], label=\"train\")\n",
    "plt.plot(model.trainer.history[\"elbo_test_set\"][2:], label=\"test\")\n",
    "plt.title(\"Negative ELBO over training epochs\")\n",
    "plt.legend()"
   ]
  },
  {
   "cell_type": "code",
   "execution_count": null,
   "metadata": {},
   "outputs": [],
   "source": [
    "adata_query.obsm[\"X_scVI\"] = model.get_latent_representation()"
   ]
  },
  {
   "cell_type": "code",
   "execution_count": null,
   "metadata": {},
   "outputs": [],
   "source": [
    "sc.pp.neighbors(adata_query, use_rep=\"X_scVI\")\n",
    "sc.tl.leiden(adata_query)\n",
    "sc.tl.umap(adata_query)\n",
    "plt.figure()\n",
    "sc.pl.umap(\n",
    "    adata_query,\n",
    "    color=[batch_key, cell_type_key],\n",
    "    frameon=False,\n",
    "    ncols=1,\n",
    ")"
   ]
  },
  {
   "cell_type": "code",
   "execution_count": null,
   "metadata": {},
   "outputs": [],
   "source": [
    "adata_query.write_h5ad(filename=f'{dir_path}query_data.h5ad')"
   ]
  },
  {
   "cell_type": "markdown",
   "metadata": {},
   "source": [
    "# Evaluation Query on reference"
   ]
  },
  {
   "cell_type": "code",
   "execution_count": null,
   "metadata": {},
   "outputs": [],
   "source": [
    "adata_full = adata_ref.concatenate(adata_query)\n",
    "adata_full.uns[\"_scvi\"] = adata_query.uns[\"_scvi\"]\n",
    "print(adata_full.obs[batch_key].unique())\n",
    "print(adata_full.obs[\"_scvi_batch\"].unique())\n",
    "adata_full.obsm[\"X_scVI\"] = model.get_latent_representation(adata=adata_full)"
   ]
  },
  {
   "cell_type": "code",
   "execution_count": null,
   "metadata": {},
   "outputs": [],
   "source": [
    "sc.pp.neighbors(adata_full, use_rep=\"X_scVI\")\n",
    "sc.tl.leiden(adata_full)\n",
    "sc.tl.umap(adata_full)\n",
    "plt.figure()\n",
    "sc.pl.umap(\n",
    "    adata_full,\n",
    "    color=[batch_key, cell_type_key],\n",
    "    frameon=False,\n",
    "    ncols=1,\n",
    ")"
   ]
  },
  {
   "cell_type": "code",
   "execution_count": null,
   "metadata": {},
   "outputs": [],
   "source": [
    "adata_full.write_h5ad(filename=f'{dir_path}full_data.h5ad')\n",
    "torch.save(model.model.state_dict(), f'{dir_path}surgery_model_state_dict')\n",
    "surgery_path = f'{dir_path}surg_model/'\n",
    "if not os.path.exists(surgery_path):\n",
    "    os.makedirs(surgery_path)\n",
    "model.save(surgery_path, overwrite=True)"
   ]
  },
  {
   "cell_type": "code",
   "execution_count": null,
   "metadata": {},
   "outputs": [],
   "source": [
    "times = dict()\n",
    "times[\"ref_time\"] = ref_time\n",
    "times[\"query_time\"] = query_time\n",
    "times[\"full_time\"] = ref_time + query_time\n",
    "with open(f'{dir_path}results_times.txt', 'w') as filehandle:\n",
    "    json.dump(times, filehandle)"
   ]
  },
  {
   "cell_type": "code",
   "execution_count": null,
   "metadata": {},
   "outputs": [],
   "source": []
  }
 ],
 "metadata": {
  "kernelspec": {
   "display_name": "scvi_test",
   "language": "python",
   "name": "scvi_test"
  },
  "language_info": {
   "codemirror_mode": {
    "name": "ipython",
    "version": 3
   },
   "file_extension": ".py",
   "mimetype": "text/x-python",
   "name": "python",
   "nbconvert_exporter": "python",
   "pygments_lexer": "ipython3",
   "version": "3.7.7"
  }
 },
 "nbformat": 4,
 "nbformat_minor": 4
}
