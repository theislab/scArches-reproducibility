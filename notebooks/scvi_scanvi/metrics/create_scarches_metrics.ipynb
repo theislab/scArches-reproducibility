{
 "cells": [
  {
   "cell_type": "code",
   "execution_count": 1,
   "metadata": {},
   "outputs": [],
   "source": [
    "import os\n",
    "import sys\n",
    "module_path = os.path.abspath(os.path.join('..'))\n",
    "if module_path not in sys.path:\n",
    "    sys.path.append(module_path)\n",
    "from evaluation.utils import entropy_batch_mixing, knn_purity\n",
    "import scanpy as sc\n",
    "import seaborn as sns\n",
    "import scIB as scib\n",
    "import pandas as pd\n",
    "from matplotlib import pyplot as plt"
   ]
  },
  {
   "cell_type": "code",
   "execution_count": 2,
   "metadata": {},
   "outputs": [],
   "source": [
    "models= ['scanvi']\n",
    "datasets = ['pbmc','pancreas','brain']\n",
    "versions = ['first', 'deep']\n",
    "ratios = [5,4,3,2,1]"
   ]
  },
  {
   "cell_type": "code",
   "execution_count": 3,
   "metadata": {},
   "outputs": [],
   "source": [
    "def compute_metrics(latent_adata, adata, model, dataset, rqr=None, batch_key='study', label_key='cell_type'):\n",
    "    latent_adata.obsm['X_pca'] = latent_adata.X\n",
    "    print(adata.shape, latent_adata.shape)\n",
    "    n_batches = len(adata.obs[batch_key].unique().tolist())\n",
    "    \n",
    "    scores = scib.metrics.metrics(adata, latent_adata, batch_key, label_key, \n",
    "                                  nmi_=True, ari_=True, silhouette_=True, pcr_=True, graph_conn_=True, \n",
    "                                  isolated_labels_=True, hvg_score_=False)\n",
    "    scores = scores.T\n",
    "    scores = scores[['NMI_cluster/label', 'ARI_cluster/label', 'ASW_label', 'ASW_label/batch', \n",
    "                     'PCR_batch', 'isolated_label_F1', 'isolated_label_silhouette', 'graph_conn']]\n",
    "    \n",
    "    ebm = entropy_batch_mixing(latent_adata, batch_key, n_neighbors=15)\n",
    "    knn = knn_purity(latent_adata, label_key, n_neighbors=15)\n",
    "    \n",
    "    scores['EBM'] = ebm\n",
    "    scores['KNN'] = knn\n",
    "    scores['method'] = model\n",
    "    scores['data'] = dataset\n",
    "    scores['rqr'] = rqr / n_batches if rqr is not None else None\n",
    "    scores.rqr = scores.rqr.round(2)\n",
    "    scores['reference_time'] = 0.0\n",
    "    scores['query_time'] = 0.0\n",
    "    \n",
    "    return scores"
   ]
  },
  {
   "cell_type": "markdown",
   "metadata": {},
   "source": [
    "## Calculating metrics for all ratios:"
   ]
  },
  {
   "cell_type": "code",
   "execution_count": 4,
   "metadata": {},
   "outputs": [
    {
     "name": "stdout",
     "output_type": "stream",
     "text": [
      "(20522, 4000) (20522, 10)\n",
      "clustering...\n",
      "NMI...\n",
      "ARI...\n",
      "silhouette score...\n",
      "PC regression...\n",
      "isolated labels...\n",
      "Graph connectivity...\n",
      "Calculating EBM with n_cat = 9\n"
     ]
    },
    {
     "name": "stderr",
     "output_type": "stream",
     "text": [
      "/home/marco/.pyenv/versions/scarches_bench/lib/python3.7/site-packages/scIB/metrics.py:1746: FutureWarning: This location for 'connectivities' is deprecated. It has been moved to .obsp[connectivities], and will not be accesible here in a future version of anndata.\n",
      "  _,labs = connected_components(adata_post_sub.uns['neighbors']['connectivities'], connection='strong')\n"
     ]
    },
    {
     "name": "stdout",
     "output_type": "stream",
     "text": [
      "EBM: 0.4228828399988768\n",
      "KNN-P: 0.870865674721432\n",
      "(20522, 4000) (20522, 10)\n",
      "clustering...\n",
      "NMI...\n",
      "ARI...\n",
      "silhouette score...\n",
      "PC regression...\n",
      "isolated labels...\n",
      "Graph connectivity...\n",
      "Calculating EBM with n_cat = 9\n"
     ]
    },
    {
     "name": "stderr",
     "output_type": "stream",
     "text": [
      "/home/marco/.pyenv/versions/scarches_bench/lib/python3.7/site-packages/scIB/metrics.py:1746: FutureWarning: This location for 'connectivities' is deprecated. It has been moved to .obsp[connectivities], and will not be accesible here in a future version of anndata.\n",
      "  _,labs = connected_components(adata_post_sub.uns['neighbors']['connectivities'], connection='strong')\n"
     ]
    },
    {
     "name": "stdout",
     "output_type": "stream",
     "text": [
      "EBM: 0.43742429721098847\n",
      "KNN-P: 0.8491819803137189\n",
      "(20522, 4000) (20522, 10)\n",
      "clustering...\n",
      "NMI...\n",
      "ARI...\n",
      "silhouette score...\n",
      "PC regression...\n",
      "isolated labels...\n",
      "Graph connectivity...\n",
      "Calculating EBM with n_cat = 9\n"
     ]
    },
    {
     "name": "stderr",
     "output_type": "stream",
     "text": [
      "/home/marco/.pyenv/versions/scarches_bench/lib/python3.7/site-packages/scIB/metrics.py:1746: FutureWarning: This location for 'connectivities' is deprecated. It has been moved to .obsp[connectivities], and will not be accesible here in a future version of anndata.\n",
      "  _,labs = connected_components(adata_post_sub.uns['neighbors']['connectivities'], connection='strong')\n"
     ]
    },
    {
     "name": "stdout",
     "output_type": "stream",
     "text": [
      "EBM: 0.4431728963181458\n",
      "KNN-P: 0.8499092800155041\n",
      "(20522, 4000) (20522, 10)\n",
      "clustering...\n",
      "NMI...\n",
      "ARI...\n",
      "silhouette score...\n",
      "PC regression...\n",
      "isolated labels...\n",
      "Graph connectivity...\n",
      "Calculating EBM with n_cat = 9\n"
     ]
    },
    {
     "name": "stderr",
     "output_type": "stream",
     "text": [
      "/home/marco/.pyenv/versions/scarches_bench/lib/python3.7/site-packages/scIB/metrics.py:1746: FutureWarning: This location for 'connectivities' is deprecated. It has been moved to .obsp[connectivities], and will not be accesible here in a future version of anndata.\n",
      "  _,labs = connected_components(adata_post_sub.uns['neighbors']['connectivities'], connection='strong')\n"
     ]
    },
    {
     "name": "stdout",
     "output_type": "stream",
     "text": [
      "EBM: 0.4318912511333321\n",
      "KNN-P: 0.8518755065672919\n",
      "(20522, 4000) (20522, 10)\n",
      "clustering...\n",
      "NMI...\n",
      "ARI...\n",
      "silhouette score...\n",
      "PC regression...\n",
      "isolated labels...\n",
      "Graph connectivity...\n",
      "Calculating EBM with n_cat = 9\n"
     ]
    },
    {
     "name": "stderr",
     "output_type": "stream",
     "text": [
      "/home/marco/.pyenv/versions/scarches_bench/lib/python3.7/site-packages/scIB/metrics.py:1746: FutureWarning: This location for 'connectivities' is deprecated. It has been moved to .obsp[connectivities], and will not be accesible here in a future version of anndata.\n",
      "  _,labs = connected_components(adata_post_sub.uns['neighbors']['connectivities'], connection='strong')\n"
     ]
    },
    {
     "name": "stdout",
     "output_type": "stream",
     "text": [
      "EBM: 0.42761284997826793\n",
      "KNN-P: 0.8582755198351506\n",
      "(20522, 4000) (20522, 10)\n",
      "clustering...\n",
      "NMI...\n",
      "ARI...\n",
      "silhouette score...\n",
      "PC regression...\n",
      "isolated labels...\n",
      "Graph connectivity...\n",
      "Calculating EBM with n_cat = 9\n"
     ]
    },
    {
     "name": "stderr",
     "output_type": "stream",
     "text": [
      "/home/marco/.pyenv/versions/scarches_bench/lib/python3.7/site-packages/scIB/metrics.py:1746: FutureWarning: This location for 'connectivities' is deprecated. It has been moved to .obsp[connectivities], and will not be accesible here in a future version of anndata.\n",
      "  _,labs = connected_components(adata_post_sub.uns['neighbors']['connectivities'], connection='strong')\n"
     ]
    },
    {
     "name": "stdout",
     "output_type": "stream",
     "text": [
      "EBM: 0.42827242172384805\n",
      "KNN-P: 0.849036856358669\n",
      "(20522, 4000) (20522, 10)\n",
      "clustering...\n",
      "NMI...\n",
      "ARI...\n",
      "silhouette score...\n",
      "PC regression...\n",
      "isolated labels...\n",
      "Graph connectivity...\n",
      "Calculating EBM with n_cat = 9\n"
     ]
    },
    {
     "name": "stderr",
     "output_type": "stream",
     "text": [
      "/home/marco/.pyenv/versions/scarches_bench/lib/python3.7/site-packages/scIB/metrics.py:1746: FutureWarning: This location for 'connectivities' is deprecated. It has been moved to .obsp[connectivities], and will not be accesible here in a future version of anndata.\n",
      "  _,labs = connected_components(adata_post_sub.uns['neighbors']['connectivities'], connection='strong')\n"
     ]
    },
    {
     "name": "stdout",
     "output_type": "stream",
     "text": [
      "EBM: 0.43173799576669636\n",
      "KNN-P: 0.8460761961031289\n",
      "(20522, 4000) (20522, 10)\n",
      "clustering...\n",
      "NMI...\n",
      "ARI...\n",
      "silhouette score...\n",
      "PC regression...\n",
      "isolated labels...\n",
      "Graph connectivity...\n",
      "Calculating EBM with n_cat = 9\n"
     ]
    },
    {
     "name": "stderr",
     "output_type": "stream",
     "text": [
      "/home/marco/.pyenv/versions/scarches_bench/lib/python3.7/site-packages/scIB/metrics.py:1746: FutureWarning: This location for 'connectivities' is deprecated. It has been moved to .obsp[connectivities], and will not be accesible here in a future version of anndata.\n",
      "  _,labs = connected_components(adata_post_sub.uns['neighbors']['connectivities'], connection='strong')\n"
     ]
    },
    {
     "name": "stdout",
     "output_type": "stream",
     "text": [
      "EBM: 0.43133624556507705\n",
      "KNN-P: 0.84282191286477\n",
      "(15681, 1000) (15681, 10)\n",
      "clustering...\n",
      "NMI...\n",
      "ARI...\n",
      "silhouette score...\n",
      "PC regression...\n",
      "isolated labels...\n",
      "Graph connectivity...\n",
      "Calculating EBM with n_cat = 5\n"
     ]
    },
    {
     "name": "stderr",
     "output_type": "stream",
     "text": [
      "/home/marco/.pyenv/versions/scarches_bench/lib/python3.7/site-packages/scIB/metrics.py:1746: FutureWarning: This location for 'connectivities' is deprecated. It has been moved to .obsp[connectivities], and will not be accesible here in a future version of anndata.\n",
      "  _,labs = connected_components(adata_post_sub.uns['neighbors']['connectivities'], connection='strong')\n"
     ]
    },
    {
     "name": "stdout",
     "output_type": "stream",
     "text": [
      "EBM: 0.36498147012740617\n",
      "KNN-P: 0.8919676737352664\n",
      "(15681, 1000) (15681, 10)\n",
      "clustering...\n",
      "NMI...\n",
      "ARI...\n",
      "silhouette score...\n",
      "PC regression...\n",
      "isolated labels...\n",
      "Graph connectivity...\n",
      "Calculating EBM with n_cat = 5\n"
     ]
    },
    {
     "name": "stderr",
     "output_type": "stream",
     "text": [
      "/home/marco/.pyenv/versions/scarches_bench/lib/python3.7/site-packages/scIB/metrics.py:1746: FutureWarning: This location for 'connectivities' is deprecated. It has been moved to .obsp[connectivities], and will not be accesible here in a future version of anndata.\n",
      "  _,labs = connected_components(adata_post_sub.uns['neighbors']['connectivities'], connection='strong')\n"
     ]
    },
    {
     "name": "stdout",
     "output_type": "stream",
     "text": [
      "EBM: 0.36573219383621064\n",
      "KNN-P: 0.8972523396304708\n",
      "(15681, 1000) (15681, 10)\n",
      "clustering...\n",
      "NMI...\n",
      "ARI...\n",
      "silhouette score...\n",
      "PC regression...\n",
      "isolated labels...\n",
      "Graph connectivity...\n",
      "Calculating EBM with n_cat = 5\n"
     ]
    },
    {
     "name": "stderr",
     "output_type": "stream",
     "text": [
      "/home/marco/.pyenv/versions/scarches_bench/lib/python3.7/site-packages/scIB/metrics.py:1746: FutureWarning: This location for 'connectivities' is deprecated. It has been moved to .obsp[connectivities], and will not be accesible here in a future version of anndata.\n",
      "  _,labs = connected_components(adata_post_sub.uns['neighbors']['connectivities'], connection='strong')\n"
     ]
    },
    {
     "name": "stdout",
     "output_type": "stream",
     "text": [
      "EBM: 0.3645342228956999\n",
      "KNN-P: 0.8923765676695226\n",
      "(15681, 1000) (15681, 10)\n",
      "clustering...\n",
      "NMI...\n",
      "ARI...\n",
      "silhouette score...\n",
      "PC regression...\n",
      "isolated labels...\n",
      "Graph connectivity...\n",
      "Calculating EBM with n_cat = 5\n"
     ]
    },
    {
     "name": "stderr",
     "output_type": "stream",
     "text": [
      "/home/marco/.pyenv/versions/scarches_bench/lib/python3.7/site-packages/scIB/metrics.py:1746: FutureWarning: This location for 'connectivities' is deprecated. It has been moved to .obsp[connectivities], and will not be accesible here in a future version of anndata.\n",
      "  _,labs = connected_components(adata_post_sub.uns['neighbors']['connectivities'], connection='strong')\n"
     ]
    },
    {
     "name": "stdout",
     "output_type": "stream",
     "text": [
      "EBM: 0.35479940378209207\n",
      "KNN-P: 0.8863009277484648\n",
      "(15681, 1000) (15681, 10)\n",
      "clustering...\n",
      "NMI...\n",
      "ARI...\n",
      "silhouette score...\n",
      "PC regression...\n",
      "isolated labels...\n",
      "Graph connectivity...\n",
      "Calculating EBM with n_cat = 5\n"
     ]
    },
    {
     "name": "stderr",
     "output_type": "stream",
     "text": [
      "/home/marco/.pyenv/versions/scarches_bench/lib/python3.7/site-packages/scIB/metrics.py:1746: FutureWarning: This location for 'connectivities' is deprecated. It has been moved to .obsp[connectivities], and will not be accesible here in a future version of anndata.\n",
      "  _,labs = connected_components(adata_post_sub.uns['neighbors']['connectivities'], connection='strong')\n"
     ]
    },
    {
     "name": "stdout",
     "output_type": "stream",
     "text": [
      "EBM: 0.34825879230396994\n",
      "KNN-P: 0.8681515625938019\n",
      "(15681, 1000) (15681, 10)\n",
      "clustering...\n",
      "NMI...\n",
      "ARI...\n",
      "silhouette score...\n",
      "PC regression...\n",
      "isolated labels...\n",
      "Graph connectivity...\n",
      "Calculating EBM with n_cat = 5\n"
     ]
    },
    {
     "name": "stderr",
     "output_type": "stream",
     "text": [
      "/home/marco/.pyenv/versions/scarches_bench/lib/python3.7/site-packages/scIB/metrics.py:1746: FutureWarning: This location for 'connectivities' is deprecated. It has been moved to .obsp[connectivities], and will not be accesible here in a future version of anndata.\n",
      "  _,labs = connected_components(adata_post_sub.uns['neighbors']['connectivities'], connection='strong')\n"
     ]
    },
    {
     "name": "stdout",
     "output_type": "stream",
     "text": [
      "EBM: 0.36636516285773063\n",
      "KNN-P: 0.8937503734172124\n",
      "(15681, 1000) (15681, 10)\n",
      "clustering...\n",
      "NMI...\n",
      "ARI...\n",
      "silhouette score...\n",
      "PC regression...\n",
      "isolated labels...\n",
      "Graph connectivity...\n",
      "Calculating EBM with n_cat = 5\n"
     ]
    },
    {
     "name": "stderr",
     "output_type": "stream",
     "text": [
      "/home/marco/.pyenv/versions/scarches_bench/lib/python3.7/site-packages/scIB/metrics.py:1746: FutureWarning: This location for 'connectivities' is deprecated. It has been moved to .obsp[connectivities], and will not be accesible here in a future version of anndata.\n",
      "  _,labs = connected_components(adata_post_sub.uns['neighbors']['connectivities'], connection='strong')\n"
     ]
    },
    {
     "name": "stdout",
     "output_type": "stream",
     "text": [
      "EBM: 0.36025599130719316\n",
      "KNN-P: 0.8917366790443784\n",
      "(15681, 1000) (15681, 10)\n",
      "clustering...\n",
      "NMI...\n",
      "ARI...\n",
      "silhouette score...\n",
      "PC regression...\n",
      "isolated labels...\n",
      "Graph connectivity...\n",
      "Calculating EBM with n_cat = 5\n"
     ]
    },
    {
     "name": "stderr",
     "output_type": "stream",
     "text": [
      "/home/marco/.pyenv/versions/scarches_bench/lib/python3.7/site-packages/scIB/metrics.py:1746: FutureWarning: This location for 'connectivities' is deprecated. It has been moved to .obsp[connectivities], and will not be accesible here in a future version of anndata.\n",
      "  _,labs = connected_components(adata_post_sub.uns['neighbors']['connectivities'], connection='strong')\n"
     ]
    },
    {
     "name": "stdout",
     "output_type": "stream",
     "text": [
      "EBM: 0.3682171001348845\n",
      "KNN-P: 0.8857793108864918\n",
      "(15681, 1000) (15681, 10)\n",
      "clustering...\n",
      "NMI...\n",
      "ARI...\n",
      "silhouette score...\n",
      "PC regression...\n",
      "isolated labels...\n",
      "Graph connectivity...\n",
      "Calculating EBM with n_cat = 5\n"
     ]
    },
    {
     "name": "stderr",
     "output_type": "stream",
     "text": [
      "/home/marco/.pyenv/versions/scarches_bench/lib/python3.7/site-packages/scIB/metrics.py:1746: FutureWarning: This location for 'connectivities' is deprecated. It has been moved to .obsp[connectivities], and will not be accesible here in a future version of anndata.\n",
      "  _,labs = connected_components(adata_post_sub.uns['neighbors']['connectivities'], connection='strong')\n"
     ]
    },
    {
     "name": "stdout",
     "output_type": "stream",
     "text": [
      "EBM: 0.3704848465704946\n",
      "KNN-P: 0.8864864878670782\n",
      "(15681, 1000) (15681, 10)\n",
      "clustering...\n",
      "NMI...\n",
      "ARI...\n",
      "silhouette score...\n",
      "PC regression...\n",
      "isolated labels...\n",
      "Graph connectivity...\n",
      "Calculating EBM with n_cat = 5\n"
     ]
    },
    {
     "name": "stderr",
     "output_type": "stream",
     "text": [
      "/home/marco/.pyenv/versions/scarches_bench/lib/python3.7/site-packages/scIB/metrics.py:1746: FutureWarning: This location for 'connectivities' is deprecated. It has been moved to .obsp[connectivities], and will not be accesible here in a future version of anndata.\n",
      "  _,labs = connected_components(adata_post_sub.uns['neighbors']['connectivities'], connection='strong')\n"
     ]
    },
    {
     "name": "stdout",
     "output_type": "stream",
     "text": [
      "EBM: 0.3709824269627778\n",
      "KNN-P: 0.8659899955091055\n",
      "(332129, 4000) (332129, 10)\n",
      "clustering...\n",
      "NMI...\n",
      "ARI...\n",
      "silhouette score...\n",
      "PC regression...\n",
      "isolated labels...\n",
      "Graph connectivity...\n",
      "Calculating EBM with n_cat = 4\n"
     ]
    },
    {
     "name": "stderr",
     "output_type": "stream",
     "text": [
      "/home/marco/.pyenv/versions/scarches_bench/lib/python3.7/site-packages/scIB/metrics.py:1746: FutureWarning: This location for 'connectivities' is deprecated. It has been moved to .obsp[connectivities], and will not be accesible here in a future version of anndata.\n",
      "  _,labs = connected_components(adata_post_sub.uns['neighbors']['connectivities'], connection='strong')\n"
     ]
    },
    {
     "name": "stdout",
     "output_type": "stream",
     "text": [
      "EBM: 0.251441385356224\n",
      "KNN-P: 0.9294329034079072\n",
      "(332129, 4000) (332129, 10)\n",
      "clustering...\n",
      "NMI...\n",
      "ARI...\n",
      "silhouette score...\n",
      "PC regression...\n",
      "isolated labels...\n",
      "Graph connectivity...\n",
      "Calculating EBM with n_cat = 4\n"
     ]
    },
    {
     "name": "stderr",
     "output_type": "stream",
     "text": [
      "/home/marco/.pyenv/versions/scarches_bench/lib/python3.7/site-packages/scIB/metrics.py:1746: FutureWarning: This location for 'connectivities' is deprecated. It has been moved to .obsp[connectivities], and will not be accesible here in a future version of anndata.\n",
      "  _,labs = connected_components(adata_post_sub.uns['neighbors']['connectivities'], connection='strong')\n"
     ]
    },
    {
     "name": "stdout",
     "output_type": "stream",
     "text": [
      "EBM: 0.24633826987381607\n",
      "KNN-P: 0.9288045081640574\n",
      "(332129, 4000) (332129, 10)\n",
      "clustering...\n",
      "NMI...\n",
      "ARI...\n",
      "silhouette score...\n",
      "PC regression...\n",
      "isolated labels...\n",
      "Graph connectivity...\n",
      "Calculating EBM with n_cat = 4\n"
     ]
    },
    {
     "name": "stderr",
     "output_type": "stream",
     "text": [
      "/home/marco/.pyenv/versions/scarches_bench/lib/python3.7/site-packages/scIB/metrics.py:1746: FutureWarning: This location for 'connectivities' is deprecated. It has been moved to .obsp[connectivities], and will not be accesible here in a future version of anndata.\n",
      "  _,labs = connected_components(adata_post_sub.uns['neighbors']['connectivities'], connection='strong')\n"
     ]
    },
    {
     "name": "stdout",
     "output_type": "stream",
     "text": [
      "EBM: 0.2642384350570412\n",
      "KNN-P: 0.9182674354424274\n",
      "(332129, 4000) (332129, 10)\n",
      "clustering...\n",
      "NMI...\n",
      "ARI...\n",
      "silhouette score...\n",
      "PC regression...\n",
      "isolated labels...\n",
      "Graph connectivity...\n",
      "Calculating EBM with n_cat = 4\n"
     ]
    },
    {
     "name": "stderr",
     "output_type": "stream",
     "text": [
      "/home/marco/.pyenv/versions/scarches_bench/lib/python3.7/site-packages/scIB/metrics.py:1746: FutureWarning: This location for 'connectivities' is deprecated. It has been moved to .obsp[connectivities], and will not be accesible here in a future version of anndata.\n",
      "  _,labs = connected_components(adata_post_sub.uns['neighbors']['connectivities'], connection='strong')\n"
     ]
    },
    {
     "name": "stdout",
     "output_type": "stream",
     "text": [
      "EBM: 0.25862006702130536\n",
      "KNN-P: 0.9138306391394118\n",
      "(332129, 4000) (332129, 10)\n",
      "clustering...\n",
      "NMI...\n",
      "ARI...\n",
      "silhouette score...\n",
      "PC regression...\n",
      "isolated labels...\n",
      "Graph connectivity...\n"
     ]
    },
    {
     "name": "stderr",
     "output_type": "stream",
     "text": [
      "/home/marco/.pyenv/versions/scarches_bench/lib/python3.7/site-packages/scIB/metrics.py:1746: FutureWarning: This location for 'connectivities' is deprecated. It has been moved to .obsp[connectivities], and will not be accesible here in a future version of anndata.\n",
      "  _,labs = connected_components(adata_post_sub.uns['neighbors']['connectivities'], connection='strong')\n"
     ]
    },
    {
     "name": "stdout",
     "output_type": "stream",
     "text": [
      "Calculating EBM with n_cat = 4\n",
      "EBM: 0.2519411678722951\n",
      "KNN-P: 0.931830400981864\n",
      "(332129, 4000) (332129, 10)\n",
      "clustering...\n",
      "NMI...\n",
      "ARI...\n",
      "silhouette score...\n",
      "PC regression...\n",
      "isolated labels...\n",
      "Graph connectivity...\n"
     ]
    },
    {
     "name": "stderr",
     "output_type": "stream",
     "text": [
      "/home/marco/.pyenv/versions/scarches_bench/lib/python3.7/site-packages/scIB/metrics.py:1746: FutureWarning: This location for 'connectivities' is deprecated. It has been moved to .obsp[connectivities], and will not be accesible here in a future version of anndata.\n",
      "  _,labs = connected_components(adata_post_sub.uns['neighbors']['connectivities'], connection='strong')\n"
     ]
    },
    {
     "name": "stdout",
     "output_type": "stream",
     "text": [
      "Calculating EBM with n_cat = 4\n",
      "EBM: 0.23334664731163443\n",
      "KNN-P: 0.9336512572865298\n",
      "(332129, 4000) (332129, 10)\n",
      "clustering...\n",
      "NMI...\n",
      "ARI...\n",
      "silhouette score...\n",
      "PC regression...\n",
      "isolated labels...\n",
      "Graph connectivity...\n",
      "Calculating EBM with n_cat = 4\n"
     ]
    },
    {
     "name": "stderr",
     "output_type": "stream",
     "text": [
      "/home/marco/.pyenv/versions/scarches_bench/lib/python3.7/site-packages/scIB/metrics.py:1746: FutureWarning: This location for 'connectivities' is deprecated. It has been moved to .obsp[connectivities], and will not be accesible here in a future version of anndata.\n",
      "  _,labs = connected_components(adata_post_sub.uns['neighbors']['connectivities'], connection='strong')\n"
     ]
    },
    {
     "name": "stdout",
     "output_type": "stream",
     "text": [
      "EBM: 0.2447574959131403\n",
      "KNN-P: 0.9212542358884537\n",
      "(332129, 4000) (332129, 10)\n",
      "clustering...\n",
      "NMI...\n",
      "ARI...\n",
      "silhouette score...\n",
      "PC regression...\n",
      "isolated labels...\n",
      "Graph connectivity...\n",
      "Calculating EBM with n_cat = 4\n"
     ]
    },
    {
     "name": "stderr",
     "output_type": "stream",
     "text": [
      "/home/marco/.pyenv/versions/scarches_bench/lib/python3.7/site-packages/scIB/metrics.py:1746: FutureWarning: This location for 'connectivities' is deprecated. It has been moved to .obsp[connectivities], and will not be accesible here in a future version of anndata.\n",
      "  _,labs = connected_components(adata_post_sub.uns['neighbors']['connectivities'], connection='strong')\n"
     ]
    },
    {
     "name": "stdout",
     "output_type": "stream",
     "text": [
      "EBM: 0.23506846124182626\n",
      "KNN-P: 0.9140000326615235\n"
     ]
    }
   ],
   "source": [
    "for dataset in datasets:   \n",
    "    if dataset == 'pbmc':\n",
    "        adata = sc.read(os.path.expanduser(f'~/Documents/benchmarking_datasets/Immune_ALL_human_wo_villani_rqr_normalized_hvg.h5ad'))\n",
    "        batch_key = 'condition'\n",
    "        label_key = 'final_annotation'\n",
    "        number = 4\n",
    "    elif dataset == 'brain':\n",
    "        adata = sc.read(os.path.expanduser(f'~/Documents/benchmarking_datasets/mouse_brain_subsampled_normalized_hvg.h5ad'))\n",
    "        batch_key = 'study'\n",
    "        label_key = 'cell_type'\n",
    "        number = 4\n",
    "    elif dataset == 'pancreas':\n",
    "        adata = sc.read(os.path.expanduser(f'~/Documents/benchmarking_datasets/pancreas_normalized.h5ad'))\n",
    "        batch_key = 'study'\n",
    "        label_key = 'cell_type'\n",
    "        number = 5\n",
    "    #adata = adata_all.raw.to_adata()\n",
    "    for version in versions:\n",
    "        scores = None\n",
    "        for model in models:\n",
    "            for ratio in ratios:\n",
    "                if ratio == 5 and dataset in ['pbmc','brain']:\n",
    "                    continue\n",
    "                '''\n",
    "                elif ratio == 5 and dataset == 'pancreas' and model == 'scanvi':\n",
    "                    continue\n",
    "                elif ratio == 4 and dataset in ['pbmc','brain'] and model == 'scanvi':\n",
    "                    continue\n",
    "                '''\n",
    "                test_num = ratio\n",
    "                latent_adata = sc.read(os.path.expanduser(f'~/Documents/benchmarking_results/rqr/{model}/{dataset}/test_{number}_{version}_cond/label_ratio_{ratio}/full_data.h5ad'))\n",
    "                latent_adata.obs[batch_key] = latent_adata.obs['batch'].values\n",
    "                latent_adata.obs[label_key] = latent_adata.obs['celltype'].values  \n",
    "                df = compute_metrics(latent_adata, adata, model, dataset, ratio, batch_key, label_key)\n",
    "                scores = pd.concat([scores, df], axis=0) if scores is not None else df\n",
    "        scores.to_csv(os.path.expanduser(f'~/Documents/benchmarking_results/rqr/{dataset}scanvi_full_{version}.csv'), index=False)"
   ]
  },
  {
   "cell_type": "code",
   "execution_count": null,
   "metadata": {},
   "outputs": [],
   "source": []
  }
 ],
 "metadata": {
  "kernelspec": {
   "display_name": "scarches",
   "language": "python",
   "name": "scarches_testing"
  },
  "language_info": {
   "codemirror_mode": {
    "name": "ipython",
    "version": 3
   },
   "file_extension": ".py",
   "mimetype": "text/x-python",
   "name": "python",
   "nbconvert_exporter": "python",
   "pygments_lexer": "ipython3",
   "version": "3.7.7"
  }
 },
 "nbformat": 4,
 "nbformat_minor": 4
}
