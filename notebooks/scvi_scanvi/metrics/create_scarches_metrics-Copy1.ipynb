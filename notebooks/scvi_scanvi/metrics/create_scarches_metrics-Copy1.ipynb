{
 "cells": [
  {
   "cell_type": "code",
   "execution_count": 1,
   "metadata": {},
   "outputs": [],
   "source": [
    "import os\n",
    "import sys\n",
    "module_path = os.path.abspath(os.path.join('..'))\n",
    "if module_path not in sys.path:\n",
    "    sys.path.append(module_path)\n",
    "from evaluation.utils import entropy_batch_mixing, knn_purity\n",
    "import scanpy as sc\n",
    "import seaborn as sns\n",
    "import scIB as scib\n",
    "import pandas as pd\n",
    "from matplotlib import pyplot as plt"
   ]
  },
  {
   "cell_type": "code",
   "execution_count": 2,
   "metadata": {},
   "outputs": [],
   "source": [
    "models= ['Harmony', 'Liger','Scanorama','Seurat']\n",
    "datasets = ['brain']\n",
    "versions = [1]\n",
    "ratios = [1]"
   ]
  },
  {
   "cell_type": "code",
   "execution_count": 3,
   "metadata": {},
   "outputs": [],
   "source": [
    "def compute_metrics(latent_adata, adata, model, dataset, rqr=None, batch_key='study', label_key='cell_type'):\n",
    "    latent_adata.obsm['X_pca'] = latent_adata.X\n",
    "    print(adata.shape, latent_adata.shape)\n",
    "    n_batches = len(adata.obs[batch_key].unique().tolist())\n",
    "    \n",
    "    scores = scib.metrics.metrics(adata, latent_adata, batch_key, label_key, \n",
    "                                  nmi_=True, ari_=True, silhouette_=True, pcr_=True, graph_conn_=True, \n",
    "                                  isolated_labels_=True, hvg_score_=False)\n",
    "    scores = scores.T\n",
    "    scores = scores[['NMI_cluster/label', 'ARI_cluster/label', 'ASW_label', 'ASW_label/batch', \n",
    "                     'PCR_batch', 'isolated_label_F1', 'isolated_label_silhouette', 'graph_conn']]\n",
    "    \n",
    "    ebm = entropy_batch_mixing(latent_adata, batch_key, n_neighbors=15)\n",
    "    knn = knn_purity(latent_adata, label_key, n_neighbors=15)\n",
    "    \n",
    "    scores['EBM'] = ebm\n",
    "    scores['KNN'] = knn\n",
    "    scores['method'] = model\n",
    "    scores['data'] = dataset\n",
    "    scores['rqr'] = rqr\n",
    "    scores.rqr = scores.rqr.round(2)\n",
    "    scores['reference_time'] = 0.0\n",
    "    scores['query_time'] = 0.0\n",
    "    \n",
    "    return scores"
   ]
  },
  {
   "cell_type": "markdown",
   "metadata": {},
   "source": [
    "## Calculating metrics for all ratios:"
   ]
  },
  {
   "cell_type": "code",
   "execution_count": 4,
   "metadata": {},
   "outputs": [
    {
     "name": "stdout",
     "output_type": "stream",
     "text": [
      "(332129, 4000) (332129, 20)\n",
      "clustering...\n",
      "NMI...\n",
      "ARI...\n",
      "silhouette score...\n",
      "PC regression...\n",
      "isolated labels...\n",
      "Graph connectivity...\n"
     ]
    },
    {
     "name": "stderr",
     "output_type": "stream",
     "text": [
      "/home/marco/.pyenv/versions/scarches_bench/lib/python3.7/site-packages/scIB/metrics.py:1746: FutureWarning: This location for 'connectivities' is deprecated. It has been moved to .obsp[connectivities], and will not be accesible here in a future version of anndata.\n",
      "  _,labs = connected_components(adata_post_sub.uns['neighbors']['connectivities'], connection='strong')\n"
     ]
    },
    {
     "name": "stdout",
     "output_type": "stream",
     "text": [
      "Calculating EBM with n_cat = 4\n",
      "EBM: 0.2319989896198924\n",
      "KNN-P: 0.9175232457209381\n",
      "(332129, 4000) (332129, 20)\n",
      "clustering...\n",
      "NMI...\n",
      "ARI...\n",
      "silhouette score...\n",
      "PC regression...\n",
      "isolated labels...\n",
      "Graph connectivity...\n"
     ]
    },
    {
     "name": "stderr",
     "output_type": "stream",
     "text": [
      "/home/marco/.pyenv/versions/scarches_bench/lib/python3.7/site-packages/scIB/metrics.py:1746: FutureWarning: This location for 'connectivities' is deprecated. It has been moved to .obsp[connectivities], and will not be accesible here in a future version of anndata.\n",
      "  _,labs = connected_components(adata_post_sub.uns['neighbors']['connectivities'], connection='strong')\n"
     ]
    },
    {
     "name": "stdout",
     "output_type": "stream",
     "text": [
      "Calculating EBM with n_cat = 4\n",
      "EBM: 0.1255170419364338\n",
      "KNN-P: 0.909076479331112\n",
      "(332129, 4000) (332129, 20)\n",
      "clustering...\n",
      "NMI...\n",
      "ARI...\n",
      "silhouette score...\n",
      "PC regression...\n",
      "Variance contribution increased after integration!\n",
      "Setting PCR comparison score to 0.\n",
      "isolated labels...\n",
      "Graph connectivity...\n",
      "Calculating EBM with n_cat = 4\n"
     ]
    },
    {
     "name": "stderr",
     "output_type": "stream",
     "text": [
      "/home/marco/.pyenv/versions/scarches_bench/lib/python3.7/site-packages/scIB/metrics.py:1746: FutureWarning: This location for 'connectivities' is deprecated. It has been moved to .obsp[connectivities], and will not be accesible here in a future version of anndata.\n",
      "  _,labs = connected_components(adata_post_sub.uns['neighbors']['connectivities'], connection='strong')\n"
     ]
    },
    {
     "name": "stdout",
     "output_type": "stream",
     "text": [
      "EBM: 0.1390333334542057\n",
      "KNN-P: 0.9071386417566067\n",
      "(332129, 4000) (332129, 20)\n",
      "clustering...\n",
      "NMI...\n",
      "ARI...\n",
      "silhouette score...\n",
      "PC regression...\n",
      "isolated labels...\n",
      "Graph connectivity...\n"
     ]
    },
    {
     "name": "stderr",
     "output_type": "stream",
     "text": [
      "/home/marco/.pyenv/versions/scarches_bench/lib/python3.7/site-packages/scIB/metrics.py:1746: FutureWarning: This location for 'connectivities' is deprecated. It has been moved to .obsp[connectivities], and will not be accesible here in a future version of anndata.\n",
      "  _,labs = connected_components(adata_post_sub.uns['neighbors']['connectivities'], connection='strong')\n"
     ]
    },
    {
     "name": "stdout",
     "output_type": "stream",
     "text": [
      "Calculating EBM with n_cat = 4\n",
      "EBM: 0.3169109995786411\n",
      "KNN-P: 0.889555347178668\n"
     ]
    }
   ],
   "source": [
    "for dataset in datasets:   \n",
    "    if dataset == 'pbmc':\n",
    "        adata = sc.read(os.path.expanduser(f'~/Documents/benchmarking_datasets/Immune_ALL_human_wo_villani_rqr_normalized_hvg.h5ad'))\n",
    "        batch_key = 'condition'\n",
    "        label_key = 'final_annotation'\n",
    "    elif dataset == 'brain':\n",
    "        adata = sc.read(os.path.expanduser(f'~/Documents/benchmarking_datasets/mouse_brain_subsampled_normalized_hvg.h5ad'))\n",
    "        batch_key = 'study'\n",
    "        label_key = 'cell_type'\n",
    "    elif dataset == 'pancreas':\n",
    "        adata = sc.read(os.path.expanduser(f'~/Documents/benchmarking_datasets/pancreas_normalized.h5ad'))\n",
    "        batch_key = 'study'\n",
    "        label_key = 'cell_type'\n",
    "    for version in versions:\n",
    "        scores = None\n",
    "        for model in models:\n",
    "            for ratio in ratios:\n",
    "                latent_adata = sc.read(os.path.expanduser(f'~/Documents/matin/{dataset}/{model}/result_adata.h5ad'))\n",
    "                df = compute_metrics(latent_adata, adata, model, dataset, 1, batch_key, label_key)\n",
    "                scores = pd.concat([scores, df], axis=0) if scores is not None else df\n",
    "        scores.to_csv(os.path.expanduser(f'~/Documents/matin/{dataset}_matin_models.csv'), index=False)"
   ]
  },
  {
   "cell_type": "code",
   "execution_count": null,
   "metadata": {},
   "outputs": [],
   "source": []
  }
 ],
 "metadata": {
  "kernelspec": {
   "display_name": "scarches_bench",
   "language": "python",
   "name": "scarches_bench"
  },
  "language_info": {
   "codemirror_mode": {
    "name": "ipython",
    "version": 3
   },
   "file_extension": ".py",
   "mimetype": "text/x-python",
   "name": "python",
   "nbconvert_exporter": "python",
   "pygments_lexer": "ipython3",
   "version": "3.7.7"
  }
 },
 "nbformat": 4,
 "nbformat_minor": 4
}
