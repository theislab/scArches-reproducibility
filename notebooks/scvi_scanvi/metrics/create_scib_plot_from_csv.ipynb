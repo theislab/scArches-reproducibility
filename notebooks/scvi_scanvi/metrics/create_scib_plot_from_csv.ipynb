{
 "cells": [
  {
   "cell_type": "code",
   "execution_count": 1,
   "metadata": {},
   "outputs": [],
   "source": [
    "%load_ext rpy2.ipython"
   ]
  },
  {
   "cell_type": "code",
   "execution_count": 2,
   "metadata": {},
   "outputs": [
    {
     "name": "stderr",
     "output_type": "stream",
     "text": [
      "R[write to console]: Loading required package: lattice\n",
      "\n",
      "R[write to console]: Loading required package: survival\n",
      "\n",
      "R[write to console]: Loading required package: Formula\n",
      "\n",
      "R[write to console]: Loading required package: ggplot2\n",
      "\n",
      "R[write to console]: \n",
      "Attaching package: ‘Hmisc’\n",
      "\n",
      "\n",
      "R[write to console]: The following objects are masked from ‘package:base’:\n",
      "\n",
      "    format.pval, units\n",
      "\n",
      "\n",
      "R[write to console]: \n",
      "Attaching package: ‘plyr’\n",
      "\n",
      "\n",
      "R[write to console]: The following objects are masked from ‘package:Hmisc’:\n",
      "\n",
      "    is.discrete, summarize\n",
      "\n",
      "\n",
      "R[write to console]: \n",
      "Attaching package: ‘dplyr’\n",
      "\n",
      "\n",
      "R[write to console]: The following objects are masked from ‘package:plyr’:\n",
      "\n",
      "    arrange, count, desc, failwith, id, mutate, rename, summarise,\n",
      "    summarize\n",
      "\n",
      "\n",
      "R[write to console]: The following objects are masked from ‘package:Hmisc’:\n",
      "\n",
      "    src, summarize\n",
      "\n",
      "\n",
      "R[write to console]: The following objects are masked from ‘package:stats’:\n",
      "\n",
      "    filter, lag\n",
      "\n",
      "\n",
      "R[write to console]: The following objects are masked from ‘package:base’:\n",
      "\n",
      "    intersect, setdiff, setequal, union\n",
      "\n",
      "\n",
      "R[write to console]: \n",
      "Attaching package: ‘cowplot’\n",
      "\n",
      "\n",
      "R[write to console]: The following object is masked from ‘package:ggimage’:\n",
      "\n",
      "    theme_nothing\n",
      "\n",
      "\n",
      "R[write to console]: The following `from` values were not present in `x`: cell cycle conservation, hvg overlap, trajectory, iLISI, cLISI\n",
      "\n",
      "R[write to console]: The following `from` values were not present in `x`: Seuratrpca, mnnCorrect, Bbknn, trVAE, scvi, Combat, Saucie, Fastmnn, Desc, scanvi, Scgen\n",
      "\n"
     ]
    }
   ],
   "source": [
    "%%R\n",
    "source('/home/marco/Documents/git_repos/thesis_marco/metrics/PlotSingleAtlas.R')\n",
    "#plotSingleAtlas('/home/marco/Documents/brain_tranvae.csv')\n",
    "plotSingleAtlas('/home/marco/Documents/benchmarking_results/rqr/rqr_brain_best.csv')"
   ]
  },
  {
   "cell_type": "code",
   "execution_count": null,
   "metadata": {},
   "outputs": [],
   "source": []
  }
 ],
 "metadata": {
  "kernelspec": {
   "display_name": "sca_testing",
   "language": "python",
   "name": "sca_testing"
  },
  "language_info": {
   "codemirror_mode": {
    "name": "ipython",
    "version": 3
   },
   "file_extension": ".py",
   "mimetype": "text/x-python",
   "name": "python",
   "nbconvert_exporter": "python",
   "pygments_lexer": "ipython3",
   "version": "3.7.7"
  }
 },
 "nbformat": 4,
 "nbformat_minor": 4
}
