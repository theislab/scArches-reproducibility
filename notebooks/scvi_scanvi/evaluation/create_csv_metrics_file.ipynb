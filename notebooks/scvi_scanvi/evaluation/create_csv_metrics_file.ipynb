{
 "cells": [
  {
   "cell_type": "code",
   "execution_count": 1,
   "metadata": {},
   "outputs": [],
   "source": [
    "import os\n",
    "import sys\n",
    "module_path = os.path.abspath(os.path.join('..'))\n",
    "if module_path not in sys.path:\n",
    "    sys.path.append(module_path)\n",
    "from evaluation.utils import entropy_batch_mixing, knn_purity\n",
    "import scanpy as sc\n",
    "import seaborn as sns\n",
    "import scIB as scib\n",
    "import pandas as pd\n",
    "from matplotlib import pyplot as plt"
   ]
  },
  {
   "cell_type": "code",
   "execution_count": null,
   "metadata": {},
   "outputs": [],
   "source": [
    "adata = sc.read(os.path.expanduser(f'~/Documents/benchmarking_datasets/pancreas_normalized.h5ad'))\n",
    "batch_key = 'study'\n",
    "label_key = 'cell_type'\n",
    "models = ['cvae_mse', 'cvae_nb', 'trvae_mse', 'trvae_nb']\n",
    "dataset = 'pancreas'\n",
    "ratios = [1, 2, 3, 4, 5]"
   ]
  },
  {
   "cell_type": "code",
   "execution_count": null,
   "metadata": {},
   "outputs": [],
   "source": [
    "def compute_metrics(latent_adata, adata, model, dataset, rqr=None, batch_key='study', label_key='cell_type'):\n",
    "    latent_adata.obsm['X_pca'] = latent_adata.X\n",
    "    print(adata.shape, latent_adata.shape)\n",
    "    n_batches = len(adata.obs[batch_key].unique().tolist())\n",
    "    \n",
    "    scores = scib.metrics.metrics(adata, latent_adata, batch_key, label_key, \n",
    "                                  nmi_=True, ari_=True, silhouette_=True, pcr_=True, graph_conn_=True, \n",
    "                                  isolated_labels_=True, hvg_score_=False)\n",
    "    scores = scores.T\n",
    "    scores = scores[['NMI_cluster/label', 'ARI_cluster/label', 'ASW_label', 'ASW_label/batch', \n",
    "                     'PCR_batch', 'isolated_label_F1', 'isolated_label_silhouette', 'graph_conn']]\n",
    "    \n",
    "    ebm = entropy_batch_mixing(latent_adata, batch_key, n_neighbors=15)\n",
    "    knn = knn_purity(latent_adata, label_key, n_neighbors=15)\n",
    "    \n",
    "    scores['EBM'] = ebm\n",
    "    scores['KNN'] = knn\n",
    "    scores['method'] = model\n",
    "    scores['data'] = dataset\n",
    "    scores['rqr'] = rqr / n_batches if rqr is not None else None\n",
    "    scores.rqr = scores.rqr.round(2)\n",
    "    scores['reference_time'] = 0.0\n",
    "    scores['query_time'] = 0.0\n",
    "    \n",
    "    return scores"
   ]
  },
  {
   "cell_type": "markdown",
   "metadata": {},
   "source": [
    "## Calculating metrics for all ratios:"
   ]
  },
  {
   "cell_type": "code",
   "execution_count": null,
   "metadata": {},
   "outputs": [],
   "source": [
    "scores = None\n",
    "for model in models:\n",
    "    for ratio in ratios:\n",
    "        test_num = ratio\n",
    "        latent_adata = sc.read(os.path.expanduser(f'~/Documents/benchmarking_results_scarches/{model}/{dataset}/test_{test_num}/full_data.h5ad'))\n",
    "        latent_adata.obs[batch_key] = latent_adata.obs['batch'].values\n",
    "        latent_adata.obs[label_key] = latent_adata.obs['celltype'].values  \n",
    "        df = compute_metrics(latent_adata, adata, model, dataset, ratio, batch_key, label_key)\n",
    "        scores = pd.concat([scores, df], axis=0) if scores is not None else df                "
   ]
  },
  {
   "cell_type": "code",
   "execution_count": null,
   "metadata": {},
   "outputs": [],
   "source": [
    "scores"
   ]
  },
  {
   "cell_type": "code",
   "execution_count": null,
   "metadata": {},
   "outputs": [],
   "source": [
    "scores.to_csv(os.path.expanduser(f'~/Documents/benchmarking_results_scarches/rqr_{dataset}.csv'), index=False)"
   ]
  },
  {
   "cell_type": "code",
   "execution_count": null,
   "metadata": {},
   "outputs": [],
   "source": []
  }
 ],
 "metadata": {
  "kernelspec": {
   "display_name": "scarches_bench",
   "language": "python",
   "name": "scarches_bench"
  },
  "language_info": {
   "codemirror_mode": {
    "name": "ipython",
    "version": 3
   },
   "file_extension": ".py",
   "mimetype": "text/x-python",
   "name": "python",
   "nbconvert_exporter": "python",
   "pygments_lexer": "ipython3",
   "version": "3.7.7"
  }
 },
 "nbformat": 4,
 "nbformat_minor": 4
}
