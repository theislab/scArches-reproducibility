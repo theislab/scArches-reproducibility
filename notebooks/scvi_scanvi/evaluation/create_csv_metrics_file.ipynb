{
 "cells": [
  {
   "cell_type": "code",
   "execution_count": 1,
   "metadata": {},
   "outputs": [],
   "source": [
    "import os\n",
    "import sys\n",
    "module_path = os.path.abspath(os.path.join('..'))\n",
    "if module_path not in sys.path:\n",
    "    sys.path.append(module_path)\n",
    "from evaluation.utils import entropy_batch_mixing, knn_purity\n",
    "import scanpy as sc\n",
    "import seaborn as sns\n",
    "import scIB as scib\n",
    "import pandas as pd\n",
    "from matplotlib import pyplot as plt"
   ]
  },
  {
   "cell_type": "code",
   "execution_count": 2,
   "metadata": {},
   "outputs": [],
   "source": [
    "adata = sc.read(os.path.expanduser(f'~/Documents/benchmarking_datasets/mouse_brain_subsampled_normalized_hvg.h5ad'))\n",
    "batch_key = 'study'\n",
    "label_key = 'cell_type'\n",
    "model = 'scanvi'\n",
    "dataset = 'brain'\n",
    "version = 'first'\n",
    "ratios = [1, 2, 3]"
   ]
  },
  {
   "cell_type": "code",
   "execution_count": 3,
   "metadata": {},
   "outputs": [],
   "source": [
    "def compute_metrics(latent_adata, adata, rqr=None, batch_key='study', label_key='cell_type'):\n",
    "    latent_adata.obsm['X_pca'] = latent_adata.X\n",
    "    print(adata.shape, latent_adata.shape)\n",
    "    n_batches = len(adata.obs[batch_key].unique().tolist())\n",
    "    \n",
    "    scores = scib.metrics.metrics(adata, latent_adata, batch_key, label_key, \n",
    "                                  nmi_=True, ari_=True, silhouette_=True, pcr_=True, graph_conn_=True, \n",
    "                                  isolated_labels_=True, hvg_score_=False)\n",
    "    scores = scores.T\n",
    "    scores = scores[['NMI_cluster/label', 'ARI_cluster/label', 'ASW_label', 'ASW_label/batch', \n",
    "                     'PCR_batch', 'isolated_label_F1', 'isolated_label_silhouette', 'graph_conn']]\n",
    "    \n",
    "    ebm = entropy_batch_mixing(latent_adata, batch_key, n_neighbors=15)\n",
    "    knn = knn_purity(latent_adata, label_key, n_neighbors=15)\n",
    "    \n",
    "    scores['EBM'] = ebm\n",
    "    scores['KNN'] = knn\n",
    "    scores['method'] = model\n",
    "    scores['data'] = dataset\n",
    "    scores['rqr'] = rqr / n_batches if rqr is not None else None\n",
    "    scores.rqr = scores.rqr.round(2)\n",
    "    scores['reference_time'] = 0.0\n",
    "    scores['query_time'] = 0.0\n",
    "    \n",
    "    return scores"
   ]
  },
  {
   "cell_type": "markdown",
   "metadata": {},
   "source": [
    "## Calculating metrics for all ratios:"
   ]
  },
  {
   "cell_type": "code",
   "execution_count": 4,
   "metadata": {},
   "outputs": [
    {
     "name": "stdout",
     "output_type": "stream",
     "text": [
      "(15681, 1000) (15681, 10)\n",
      "clustering...\n",
      "NMI...\n",
      "ARI...\n",
      "silhouette score...\n",
      "PC regression...\n",
      "isolated labels...\n",
      "Graph connectivity...\n",
      "Calculating EBM with n_cat = 5\n"
     ]
    },
    {
     "name": "stderr",
     "output_type": "stream",
     "text": [
      "/home/marco/.pyenv/versions/3.7.7/envs/sca_testing/lib/python3.7/site-packages/scIB/metrics.py:1746: FutureWarning: This location for 'connectivities' is deprecated. It has been moved to .obsp[connectivities], and will not be accesible here in a future version of anndata.\n",
      "  _,labs = connected_components(adata_post_sub.uns['neighbors']['connectivities'], connection='strong')\n"
     ]
    },
    {
     "name": "stdout",
     "output_type": "stream",
     "text": [
      "EBM: 0.21688406380342495\n",
      "KNN-P: 0.8641900910088618\n",
      "(15681, 1000) (15681, 10)\n",
      "clustering...\n",
      "NMI...\n",
      "ARI...\n",
      "silhouette score...\n",
      "PC regression...\n",
      "isolated labels...\n",
      "Graph connectivity...\n",
      "Calculating EBM with n_cat = 5\n"
     ]
    },
    {
     "name": "stderr",
     "output_type": "stream",
     "text": [
      "/home/marco/.pyenv/versions/3.7.7/envs/sca_testing/lib/python3.7/site-packages/scIB/metrics.py:1746: FutureWarning: This location for 'connectivities' is deprecated. It has been moved to .obsp[connectivities], and will not be accesible here in a future version of anndata.\n",
      "  _,labs = connected_components(adata_post_sub.uns['neighbors']['connectivities'], connection='strong')\n"
     ]
    },
    {
     "name": "stdout",
     "output_type": "stream",
     "text": [
      "EBM: 0.2372365691236798\n",
      "KNN-P: 0.8722375698217373\n",
      "(15681, 1000) (15681, 10)\n",
      "clustering...\n",
      "NMI...\n",
      "ARI...\n",
      "silhouette score...\n",
      "PC regression...\n",
      "isolated labels...\n",
      "Graph connectivity...\n",
      "Calculating EBM with n_cat = 5\n"
     ]
    },
    {
     "name": "stderr",
     "output_type": "stream",
     "text": [
      "/home/marco/.pyenv/versions/3.7.7/envs/sca_testing/lib/python3.7/site-packages/scIB/metrics.py:1746: FutureWarning: This location for 'connectivities' is deprecated. It has been moved to .obsp[connectivities], and will not be accesible here in a future version of anndata.\n",
      "  _,labs = connected_components(adata_post_sub.uns['neighbors']['connectivities'], connection='strong')\n"
     ]
    },
    {
     "name": "stdout",
     "output_type": "stream",
     "text": [
      "EBM: 0.32779604651626465\n",
      "KNN-P: 0.8856723157832422\n",
      "(15681, 1000) (15681, 10)\n",
      "clustering...\n",
      "NMI...\n",
      "ARI...\n",
      "silhouette score...\n",
      "PC regression...\n",
      "isolated labels...\n",
      "Graph connectivity...\n",
      "Calculating EBM with n_cat = 5\n"
     ]
    },
    {
     "name": "stderr",
     "output_type": "stream",
     "text": [
      "/home/marco/.pyenv/versions/3.7.7/envs/sca_testing/lib/python3.7/site-packages/scIB/metrics.py:1746: FutureWarning: This location for 'connectivities' is deprecated. It has been moved to .obsp[connectivities], and will not be accesible here in a future version of anndata.\n",
      "  _,labs = connected_components(adata_post_sub.uns['neighbors']['connectivities'], connection='strong')\n"
     ]
    },
    {
     "name": "stdout",
     "output_type": "stream",
     "text": [
      "EBM: 0.3479491217464211\n",
      "KNN-P: 0.899339174367721\n"
     ]
    }
   ],
   "source": [
    "scores = None\n",
    "for ratio in ratios:\n",
    "    test_num = ratio\n",
    "    latent_adata = sc.read(os.path.expanduser(f'~/Documents/benchmarking_results/figure_3/{model}/{dataset}/test_{test_num}_{version}_cond/full_data.h5ad'))\n",
    "    latent_adata.obs[batch_key] = latent_adata.obs['batch'].values\n",
    "    latent_adata.obs[label_key] = latent_adata.obs['celltype'].values  \n",
    "    df = compute_metrics(latent_adata, adata, ratio, batch_key, label_key)\n",
    "    scores = pd.concat([scores, df], axis=0) if scores is not None else df                "
   ]
  },
  {
   "cell_type": "code",
   "execution_count": 5,
   "metadata": {},
   "outputs": [
    {
     "data": {
      "text/html": [
       "<div>\n",
       "<style scoped>\n",
       "    .dataframe tbody tr th:only-of-type {\n",
       "        vertical-align: middle;\n",
       "    }\n",
       "\n",
       "    .dataframe tbody tr th {\n",
       "        vertical-align: top;\n",
       "    }\n",
       "\n",
       "    .dataframe thead th {\n",
       "        text-align: right;\n",
       "    }\n",
       "</style>\n",
       "<table border=\"1\" class=\"dataframe\">\n",
       "  <thead>\n",
       "    <tr style=\"text-align: right;\">\n",
       "      <th></th>\n",
       "      <th>NMI_cluster/label</th>\n",
       "      <th>ARI_cluster/label</th>\n",
       "      <th>ASW_label</th>\n",
       "      <th>ASW_label/batch</th>\n",
       "      <th>PCR_batch</th>\n",
       "      <th>isolated_label_F1</th>\n",
       "      <th>isolated_label_silhouette</th>\n",
       "      <th>graph_conn</th>\n",
       "      <th>EBM</th>\n",
       "      <th>KNN</th>\n",
       "      <th>method</th>\n",
       "      <th>data</th>\n",
       "      <th>rqr</th>\n",
       "      <th>reference_time</th>\n",
       "      <th>query_time</th>\n",
       "    </tr>\n",
       "  </thead>\n",
       "  <tbody>\n",
       "    <tr>\n",
       "      <th>0</th>\n",
       "      <td>0.680134</td>\n",
       "      <td>0.562045</td>\n",
       "      <td>0.595679</td>\n",
       "      <td>0.842552</td>\n",
       "      <td>0.296231</td>\n",
       "      <td>0.824792</td>\n",
       "      <td>0.554949</td>\n",
       "      <td>0.989410</td>\n",
       "      <td>0.216884</td>\n",
       "      <td>0.864190</td>\n",
       "      <td>scanvi</td>\n",
       "      <td>pancreas</td>\n",
       "      <td>0.2</td>\n",
       "      <td>0.0</td>\n",
       "      <td>0.0</td>\n",
       "    </tr>\n",
       "    <tr>\n",
       "      <th>0</th>\n",
       "      <td>0.741267</td>\n",
       "      <td>0.742484</td>\n",
       "      <td>0.609009</td>\n",
       "      <td>0.885071</td>\n",
       "      <td>0.645215</td>\n",
       "      <td>0.850882</td>\n",
       "      <td>0.559460</td>\n",
       "      <td>0.988062</td>\n",
       "      <td>0.237237</td>\n",
       "      <td>0.872238</td>\n",
       "      <td>scanvi</td>\n",
       "      <td>pancreas</td>\n",
       "      <td>0.4</td>\n",
       "      <td>0.0</td>\n",
       "      <td>0.0</td>\n",
       "    </tr>\n",
       "    <tr>\n",
       "      <th>0</th>\n",
       "      <td>0.750032</td>\n",
       "      <td>0.749108</td>\n",
       "      <td>0.621274</td>\n",
       "      <td>0.901401</td>\n",
       "      <td>0.746723</td>\n",
       "      <td>0.855715</td>\n",
       "      <td>0.566215</td>\n",
       "      <td>0.987378</td>\n",
       "      <td>0.327796</td>\n",
       "      <td>0.885672</td>\n",
       "      <td>scanvi</td>\n",
       "      <td>pancreas</td>\n",
       "      <td>0.6</td>\n",
       "      <td>0.0</td>\n",
       "      <td>0.0</td>\n",
       "    </tr>\n",
       "    <tr>\n",
       "      <th>0</th>\n",
       "      <td>0.765541</td>\n",
       "      <td>0.757958</td>\n",
       "      <td>0.631550</td>\n",
       "      <td>0.899998</td>\n",
       "      <td>0.737490</td>\n",
       "      <td>0.872497</td>\n",
       "      <td>0.566150</td>\n",
       "      <td>0.987276</td>\n",
       "      <td>0.347949</td>\n",
       "      <td>0.899339</td>\n",
       "      <td>scanvi</td>\n",
       "      <td>pancreas</td>\n",
       "      <td>0.8</td>\n",
       "      <td>0.0</td>\n",
       "      <td>0.0</td>\n",
       "    </tr>\n",
       "  </tbody>\n",
       "</table>\n",
       "</div>"
      ],
      "text/plain": [
       "   NMI_cluster/label  ARI_cluster/label  ASW_label  ASW_label/batch  \\\n",
       "0           0.680134           0.562045   0.595679         0.842552   \n",
       "0           0.741267           0.742484   0.609009         0.885071   \n",
       "0           0.750032           0.749108   0.621274         0.901401   \n",
       "0           0.765541           0.757958   0.631550         0.899998   \n",
       "\n",
       "   PCR_batch  isolated_label_F1  isolated_label_silhouette  graph_conn  \\\n",
       "0   0.296231           0.824792                   0.554949    0.989410   \n",
       "0   0.645215           0.850882                   0.559460    0.988062   \n",
       "0   0.746723           0.855715                   0.566215    0.987378   \n",
       "0   0.737490           0.872497                   0.566150    0.987276   \n",
       "\n",
       "        EBM       KNN  method      data  rqr  reference_time  query_time  \n",
       "0  0.216884  0.864190  scanvi  pancreas  0.2             0.0         0.0  \n",
       "0  0.237237  0.872238  scanvi  pancreas  0.4             0.0         0.0  \n",
       "0  0.327796  0.885672  scanvi  pancreas  0.6             0.0         0.0  \n",
       "0  0.347949  0.899339  scanvi  pancreas  0.8             0.0         0.0  "
      ]
     },
     "execution_count": 5,
     "metadata": {},
     "output_type": "execute_result"
    }
   ],
   "source": [
    "scores"
   ]
  },
  {
   "cell_type": "code",
   "execution_count": 6,
   "metadata": {},
   "outputs": [],
   "source": [
    "scores.to_csv(os.path.expanduser(f'~/Documents/benchmarking_results/figure_3/{model}/{dataset}/rqr_{dataset}_{model}_{version}_cond.csv'), index=False)"
   ]
  },
  {
   "cell_type": "code",
   "execution_count": null,
   "metadata": {},
   "outputs": [],
   "source": []
  }
 ],
 "metadata": {
  "kernelspec": {
   "display_name": "sca_testing",
   "language": "python",
   "name": "sca_testing"
  },
  "language_info": {
   "codemirror_mode": {
    "name": "ipython",
    "version": 3
   },
   "file_extension": ".py",
   "mimetype": "text/x-python",
   "name": "python",
   "nbconvert_exporter": "python",
   "pygments_lexer": "ipython3",
   "version": "3.7.7"
  }
 },
 "nbformat": 4,
 "nbformat_minor": 4
}
