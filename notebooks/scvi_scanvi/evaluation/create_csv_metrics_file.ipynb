{
 "cells": [
  {
   "cell_type": "code",
   "execution_count": 1,
   "metadata": {},
   "outputs": [],
   "source": [
    "import os\n",
    "import sys\n",
    "module_path = os.path.abspath(os.path.join('..'))\n",
    "if module_path not in sys.path:\n",
    "    sys.path.append(module_path)\n",
    "from evaluation.utils import entropy_batch_mixing, knn_purity\n",
    "import scanpy as sc\n",
    "import seaborn as sns\n",
    "import scIB as scib\n",
    "import pandas as pd\n",
    "from matplotlib import pyplot as plt"
   ]
  },
  {
   "cell_type": "code",
   "execution_count": 2,
   "metadata": {},
   "outputs": [],
   "source": [
    "adata = sc.read(os.path.expanduser(f'~/Documents/benchmarking_datasets/pancreas_normalized.h5ad'))\n",
    "batch_key = 'study'\n",
    "label_key = 'cell_type'\n",
    "ratios = [1, 2]"
   ]
  },
  {
   "cell_type": "code",
   "execution_count": 5,
   "metadata": {},
   "outputs": [],
   "source": [
    "def compute_metrics(latent_adata, adata, rqr=None, batch_key='study', label_key='cell_type'):\n",
    "    latent_adata.obsm['X_pca'] = latent_adata.X\n",
    "    print(adata.shape, latent_adata.shape)\n",
    "    n_batches = len(adata.obs[batch_key].unique().tolist())\n",
    "    \n",
    "    scores = scib.metrics.metrics(adata, latent_adata, batch_key, label_key, \n",
    "                                  nmi_=True, ari_=True, silhouette_=True, pcr_=True, graph_conn_=True, \n",
    "                                  isolated_labels_=True, hvg_score_=False)\n",
    "    scores = scores.T\n",
    "    scores = scores[['NMI_cluster/label', 'ARI_cluster/label', 'ASW_label', 'ASW_label/batch', \n",
    "                     'PCR_batch', 'isolated_label_F1', 'isolated_label_silhouette', 'graph_conn']]\n",
    "    \n",
    "    ebm = entropy_batch_mixing(latent_adata, batch_key, n_neighbors=15)\n",
    "    knn = knn_purity(latent_adata, label_key, n_neighbors=15)\n",
    "    \n",
    "    scores['EBM'] = ebm\n",
    "    scores['KNN'] = knn\n",
    "    scores['method'] = 'scvi'\n",
    "    scores['data'] = 'pancreas'\n",
    "    scores['rqr'] = rqr / n_batches if rqr is not None else None\n",
    "    \n",
    "    return scores"
   ]
  },
  {
   "cell_type": "markdown",
   "metadata": {},
   "source": [
    "## Calculating metrics for all ratios of pancreas scvi:"
   ]
  },
  {
   "cell_type": "code",
   "execution_count": 6,
   "metadata": {},
   "outputs": [
    {
     "name": "stdout",
     "output_type": "stream",
     "text": [
      "AnnData object with n_obs × n_vars = 15681 × 10\n",
      "    obs: 'celltype', 'batch'\n",
      "(15681, 1000) (15681, 10)\n",
      "clustering...\n",
      "NMI...\n",
      "ARI...\n",
      "silhouette score...\n",
      "PC regression...\n",
      "isolated labels...\n",
      "Graph connectivity...\n",
      "Calculating EBM with n_cat = 5\n"
     ]
    },
    {
     "name": "stderr",
     "output_type": "stream",
     "text": [
      "/home/marco/.pyenv/versions/3.7.7/envs/sca_testing/lib/python3.7/site-packages/scIB/metrics.py:1746: FutureWarning: This location for 'connectivities' is deprecated. It has been moved to .obsp[connectivities], and will not be accesible here in a future version of anndata.\n",
      "  _,labs = connected_components(adata_post_sub.uns['neighbors']['connectivities'], connection='strong')\n"
     ]
    },
    {
     "name": "stdout",
     "output_type": "stream",
     "text": [
      "EBM: 0.2651068478092024\n",
      "KNN-P: 0.8534394567493742\n",
      "AnnData object with n_obs × n_vars = 15681 × 10\n",
      "    obs: 'celltype', 'batch'\n",
      "(15681, 1000) (15681, 10)\n",
      "clustering...\n",
      "NMI...\n",
      "ARI...\n",
      "silhouette score...\n",
      "PC regression...\n",
      "isolated labels...\n",
      "Graph connectivity...\n",
      "Calculating EBM with n_cat = 5\n"
     ]
    },
    {
     "name": "stderr",
     "output_type": "stream",
     "text": [
      "/home/marco/.pyenv/versions/3.7.7/envs/sca_testing/lib/python3.7/site-packages/scIB/metrics.py:1746: FutureWarning: This location for 'connectivities' is deprecated. It has been moved to .obsp[connectivities], and will not be accesible here in a future version of anndata.\n",
      "  _,labs = connected_components(adata_post_sub.uns['neighbors']['connectivities'], connection='strong')\n"
     ]
    },
    {
     "name": "stdout",
     "output_type": "stream",
     "text": [
      "EBM: 0.2588008993179193\n",
      "KNN-P: 0.8562700007810556\n"
     ]
    }
   ],
   "source": [
    "scores = None\n",
    "for ratio in ratios:\n",
    "    test_num = ratio\n",
    "    latent_adata = sc.read(os.path.expanduser(f'~/Documents/benchmarking_adata/figure_3/scvi/pancreas/test_{test_num}_first_cond/full_data.h5ad'))\n",
    "    latent_adata.obs[batch_key] = latent_adata.obs['batch'].values\n",
    "    latent_adata.obs[label_key] = latent_adata.obs['celltype'].values  \n",
    "    df = compute_metrics(latent_adata, adata, ratio, batch_key, label_key)\n",
    "    scores = pd.concat([scores, df], axis=0) if scores is not None else df                "
   ]
  },
  {
   "cell_type": "code",
   "execution_count": 7,
   "metadata": {},
   "outputs": [
    {
     "data": {
      "text/html": [
       "<div>\n",
       "<style scoped>\n",
       "    .dataframe tbody tr th:only-of-type {\n",
       "        vertical-align: middle;\n",
       "    }\n",
       "\n",
       "    .dataframe tbody tr th {\n",
       "        vertical-align: top;\n",
       "    }\n",
       "\n",
       "    .dataframe thead th {\n",
       "        text-align: right;\n",
       "    }\n",
       "</style>\n",
       "<table border=\"1\" class=\"dataframe\">\n",
       "  <thead>\n",
       "    <tr style=\"text-align: right;\">\n",
       "      <th></th>\n",
       "      <th>NMI_cluster/label</th>\n",
       "      <th>ARI_cluster/label</th>\n",
       "      <th>ASW_label</th>\n",
       "      <th>ASW_label/batch</th>\n",
       "      <th>PCR_batch</th>\n",
       "      <th>isolated_label_F1</th>\n",
       "      <th>isolated_label_silhouette</th>\n",
       "      <th>graph_conn</th>\n",
       "      <th>EBM</th>\n",
       "      <th>KNN</th>\n",
       "      <th>method</th>\n",
       "      <th>data</th>\n",
       "      <th>rqr</th>\n",
       "    </tr>\n",
       "  </thead>\n",
       "  <tbody>\n",
       "    <tr>\n",
       "      <th>0</th>\n",
       "      <td>0.703527</td>\n",
       "      <td>0.625275</td>\n",
       "      <td>0.578273</td>\n",
       "      <td>0.867146</td>\n",
       "      <td>0.303744</td>\n",
       "      <td>0.837794</td>\n",
       "      <td>0.548268</td>\n",
       "      <td>0.987036</td>\n",
       "      <td>0.265107</td>\n",
       "      <td>0.853439</td>\n",
       "      <td>scvi</td>\n",
       "      <td>pancreas</td>\n",
       "      <td>0.2</td>\n",
       "    </tr>\n",
       "    <tr>\n",
       "      <th>0</th>\n",
       "      <td>0.734435</td>\n",
       "      <td>0.731526</td>\n",
       "      <td>0.575940</td>\n",
       "      <td>0.875444</td>\n",
       "      <td>0.606740</td>\n",
       "      <td>0.844173</td>\n",
       "      <td>0.547147</td>\n",
       "      <td>0.990914</td>\n",
       "      <td>0.258801</td>\n",
       "      <td>0.856270</td>\n",
       "      <td>scvi</td>\n",
       "      <td>pancreas</td>\n",
       "      <td>0.4</td>\n",
       "    </tr>\n",
       "  </tbody>\n",
       "</table>\n",
       "</div>"
      ],
      "text/plain": [
       "   NMI_cluster/label  ARI_cluster/label  ASW_label  ASW_label/batch  \\\n",
       "0           0.703527           0.625275   0.578273         0.867146   \n",
       "0           0.734435           0.731526   0.575940         0.875444   \n",
       "\n",
       "   PCR_batch  isolated_label_F1  isolated_label_silhouette  graph_conn  \\\n",
       "0   0.303744           0.837794                   0.548268    0.987036   \n",
       "0   0.606740           0.844173                   0.547147    0.990914   \n",
       "\n",
       "        EBM       KNN method      data  rqr  \n",
       "0  0.265107  0.853439   scvi  pancreas  0.2  \n",
       "0  0.258801  0.856270   scvi  pancreas  0.4  "
      ]
     },
     "execution_count": 7,
     "metadata": {},
     "output_type": "execute_result"
    }
   ],
   "source": [
    "scores"
   ]
  },
  {
   "cell_type": "code",
   "execution_count": 8,
   "metadata": {},
   "outputs": [],
   "source": [
    "scores.to_csv(os.path.expanduser(f'~/Documents/rqr_pancreas_scvi_1_2.csv'), index=False)"
   ]
  },
  {
   "cell_type": "code",
   "execution_count": 9,
   "metadata": {},
   "outputs": [],
   "source": [
    "df = pd.read_csv(os.path.expanduser(f'~/Documents/rqr_pancreas_scvi_1_2.csv'))\n",
    "df['reference_time'] = 0.0\n",
    "df['query_time'] = 0.0\n",
    "df.rqr = df.rqr.round(2)\n",
    "df.to_csv(os.path.expanduser(f'~/Documents/rqr_pancreas_scvi_1_2_final.csv'), index=False)"
   ]
  },
  {
   "cell_type": "code",
   "execution_count": null,
   "metadata": {},
   "outputs": [],
   "source": []
  }
 ],
 "metadata": {
  "kernelspec": {
   "display_name": "sca_testing",
   "language": "python",
   "name": "sca_testing"
  },
  "language_info": {
   "codemirror_mode": {
    "name": "ipython",
    "version": 3
   },
   "file_extension": ".py",
   "mimetype": "text/x-python",
   "name": "python",
   "nbconvert_exporter": "python",
   "pygments_lexer": "ipython3",
   "version": "3.7.7"
  }
 },
 "nbformat": 4,
 "nbformat_minor": 4
}
