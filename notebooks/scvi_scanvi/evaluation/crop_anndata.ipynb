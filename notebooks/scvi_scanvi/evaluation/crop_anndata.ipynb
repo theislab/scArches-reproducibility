{
 "cells": [
  {
   "cell_type": "code",
   "execution_count": 1,
   "metadata": {},
   "outputs": [],
   "source": [
    "import os\n",
    "import scanpy as sc\n",
    "import shutil"
   ]
  },
  {
   "cell_type": "code",
   "execution_count": 2,
   "metadata": {},
   "outputs": [],
   "source": [
    "load_path = os.path.expanduser(f'~/Documents/benchmarking_results/')\n",
    "save_path = os.path.expanduser(f'~/Documents/benchmarking_adata/')"
   ]
  },
  {
   "cell_type": "code",
   "execution_count": 3,
   "metadata": {},
   "outputs": [],
   "source": [
    "figure = 'figure_3'\n",
    "model = 'scvi'\n",
    "data = 'brain'\n",
    "cond = 'test_1_first_cond'\n",
    "condition_key = \"study\"\n",
    "label_key = \"cell_type\""
   ]
  },
  {
   "cell_type": "code",
   "execution_count": 4,
   "metadata": {},
   "outputs": [],
   "source": [
    "final_load_path = f'{load_path}{figure}/{model}{data}/{cond}/'\n",
    "final_save_path = f'{save_path}{figure}/{model}{data}/{cond}/'\n",
    "if not os.path.exists(final_save_path):\n",
    "    os.makedirs(final_save_path)"
   ]
  },
  {
   "cell_type": "code",
   "execution_count": 5,
   "metadata": {},
   "outputs": [
    {
     "name": "stdout",
     "output_type": "stream",
     "text": [
      "model_state_dict\n",
      "{'data': AnnData object with n_obs × n_vars = 20522 × 4000\n",
      "    obs: 'batch', 'chemistry', 'data_type', 'dpt_pseudotime', 'final_annotation', 'mt_frac', 'n_counts', 'n_genes', 'sample_ID', 'size_factors', 'species', 'study', 'tissue', 'condition', '_scvi_batch', '_scvi_labels', '_scvi_local_l_mean', '_scvi_local_l_var', 'leiden'\n",
      "    uns: '_scvi', 'condition_colors', 'final_annotation_colors', 'leiden', 'neighbors', 'umap'\n",
      "    obsm: 'X_scVI', 'X_umap'\n",
      "    obsp: 'connectivities', 'distances'}\n",
      "['model_state_dict']\n"
     ]
    }
   ],
   "source": [
    "adata_dict = dict()\n",
    "model_list = list()\n",
    "for file in os.listdir(final_load_path):\n",
    "    if file.endswith(\".h5ad\"):\n",
    "        adata_dict[os.path.splitext(file)[0]] = sc.read(os.path.join(final_load_path, file))\n",
    "    if 'state_dict' in file:\n",
    "        print(file)\n",
    "        model_list.append(file)\n",
    "print(adata_dict)\n",
    "print(model_list)"
   ]
  },
  {
   "cell_type": "code",
   "execution_count": 6,
   "metadata": {},
   "outputs": [
    {
     "name": "stderr",
     "output_type": "stream",
     "text": [
      "/home/marco/.pyenv/versions/3.7.7/envs/scvi_bench/lib/python3.7/site-packages/anndata/_core/anndata.py:1192: FutureWarning: is_categorical is deprecated and will be removed in a future version.  Use is_categorical_dtype instead\n",
      "  if is_string_dtype(df[key]) and not is_categorical(df[key])\n",
      "... storing 'celltype' as categorical\n",
      "... storing 'batch' as categorical\n"
     ]
    },
    {
     "name": "stdout",
     "output_type": "stream",
     "text": [
      "AnnData object with n_obs × n_vars = 20522 × 10\n",
      "    obs: 'celltype', 'batch'\n"
     ]
    }
   ],
   "source": [
    "for key, value in adata_dict.items():\n",
    "    if model == \"scvi\":\n",
    "        lat_adata = sc.AnnData(value.obsm[\"X_scVI\"])\n",
    "        lat_adata.obs[\"celltype\"] = value.obs[label_key].tolist()\n",
    "        lat_adata.obs[\"batch\"] = value.obs[condition_key].tolist()\n",
    "    else:\n",
    "        lat_adata = sc.AnnData(value.obsm[\"X_scANVI\"])\n",
    "        lat_adata.obs[\"celltype\"] = value.obs[label_key].tolist()\n",
    "        lat_adata.obs[\"batch\"] = value.obs[condition_key].tolist()\n",
    "        lat_adata.obs[\"predictions\"] = value.obs[\"predictions\"].tolist()\n",
    "    print(lat_adata)\n",
    "    lat_adata.write_h5ad(filename=f'{final_save_path}{key}.h5ad')"
   ]
  },
  {
   "cell_type": "code",
   "execution_count": 7,
   "metadata": {},
   "outputs": [],
   "source": [
    "for model_name in model_list:\n",
    "    shutil.copy(f'{final_load_path}{model_name}',f'{final_save_path}{model_name}')"
   ]
  },
  {
   "cell_type": "code",
   "execution_count": 8,
   "metadata": {},
   "outputs": [
    {
     "data": {
      "text/plain": [
       "'/home/marco/Documents/benchmarking_adata/full_integration/scvi/immune_all_human_fig6/model'"
      ]
     },
     "execution_count": 8,
     "metadata": {},
     "output_type": "execute_result"
    }
   ],
   "source": [
    "shutil.copytree(f'{final_load_path}ref_model',f'{final_save_path}ref_model')\n",
    "shutil.copytree(f'{final_load_path}surg_model',f'{final_save_path}surg_model')\n",
    "#shutil.copytree(f'{final_load_path}surg_1_model',f'{final_save_path}surg_1_model')\n",
    "#shutil.copytree(f'{final_load_path}surg_2_model',f'{final_save_path}surg_2_model')\n",
    "#shutil.copytree(f'{final_load_path}model',f'{final_save_path}model')"
   ]
  },
  {
   "cell_type": "code",
   "execution_count": null,
   "metadata": {},
   "outputs": [],
   "source": []
  }
 ],
 "metadata": {
  "kernelspec": {
   "display_name": "scvi_benchmarking",
   "language": "python",
   "name": "scvi_benchmarking"
  },
  "language_info": {
   "codemirror_mode": {
    "name": "ipython",
    "version": 3
   },
   "file_extension": ".py",
   "mimetype": "text/x-python",
   "name": "python",
   "nbconvert_exporter": "python",
   "pygments_lexer": "ipython3",
   "version": "3.7.7"
  }
 },
 "nbformat": 4,
 "nbformat_minor": 4
}
