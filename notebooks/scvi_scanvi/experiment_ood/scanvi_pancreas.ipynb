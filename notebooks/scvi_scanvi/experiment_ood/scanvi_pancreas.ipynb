{
 "cells": [
  {
   "cell_type": "code",
   "execution_count": 1,
   "metadata": {},
   "outputs": [],
   "source": [
    "import os\n",
    "import matplotlib.pyplot as plt\n",
    "import scanpy as sc\n",
    "import torch\n",
    "import time\n",
    "import json\n",
    "import scarches as sca\n",
    "import numpy as np"
   ]
  },
  {
   "cell_type": "code",
   "execution_count": 2,
   "metadata": {},
   "outputs": [],
   "source": [
    "sc.set_figure_params(figsize=(4, 4))"
   ]
  },
  {
   "cell_type": "markdown",
   "metadata": {},
   "source": [
    "# Set Params"
   ]
  },
  {
   "cell_type": "code",
   "execution_count": 3,
   "metadata": {},
   "outputs": [],
   "source": [
    "deep_inject = False\n",
    "n_epochs_surgery = 300\n",
    "leave_out_cell_types = ['Pancreas Alpha']"
   ]
  },
  {
   "cell_type": "code",
   "execution_count": 4,
   "metadata": {},
   "outputs": [],
   "source": [
    "target_batches = [\"Pancreas SS2\", \"Pancreas CelSeq2\"]\n",
    "batch_key = \"study\"\n",
    "cell_type_key = \"cell_type\""
   ]
  },
  {
   "cell_type": "code",
   "execution_count": 5,
   "metadata": {},
   "outputs": [],
   "source": [
    "n_epochs_vae = 50\n",
    "n_epochs_scanvi = 10\n",
    "early_stopping_kwargs = {\n",
    "    \"early_stopping_metric\": \"elbo\",\n",
    "    \"save_best_state_metric\": \"elbo\",\n",
    "    \"patience\": 10,\n",
    "    \"threshold\": 0,\n",
    "    \"reduce_lr_on_plateau\": True,\n",
    "    \"lr_patience\": 8,\n",
    "    \"lr_factor\": 0.1,\n",
    "}\n",
    "early_stopping_kwargs_scanvi = {\n",
    "    \"early_stopping_metric\": \"accuracy\",\n",
    "    \"save_best_state_metric\": \"accuracy\",\n",
    "    \"on\": \"full_dataset\",\n",
    "    \"patience\": 10,\n",
    "    \"threshold\": 0.001,\n",
    "    \"reduce_lr_on_plateau\": True,\n",
    "    \"lr_patience\": 8,\n",
    "    \"lr_factor\": 0.1,\n",
    "}\n",
    "early_stopping_kwargs_surgery = {\n",
    "    \"early_stopping_metric\": \"elbo\",\n",
    "    \"save_best_state_metric\": \"elbo\",\n",
    "    \"on\": \"full_dataset\",\n",
    "    \"patience\": 10,\n",
    "    \"threshold\": 0.001,\n",
    "    \"reduce_lr_on_plateau\": True,\n",
    "    \"lr_patience\": 8,\n",
    "    \"lr_factor\": 0.1,\n",
    "}"
   ]
  },
  {
   "cell_type": "code",
   "execution_count": null,
   "metadata": {},
   "outputs": [],
   "source": [
    "# Save right dir path\n",
    "if deep_inject:\n",
    "    dir_path = os.path.expanduser(f'~/Documents/benchmarking/figure_1/scanvi/deep_cond/')\n",
    "else:\n",
    "    dir_path = os.path.expanduser(f'~/Documents/benchmarking/figure_1/scanvi/first_cond/')\n",
    "\n",
    "if not os.path.exists(dir_path):\n",
    "    os.makedirs(dir_path)\n",
    "control_path = f'{dir_path}controlling/'\n",
    "if not os.path.exists(control_path):\n",
    "    os.makedirs(control_path)"
   ]
  },
  {
   "cell_type": "markdown",
   "metadata": {},
   "source": [
    "# Adata Handling"
   ]
  },
  {
   "cell_type": "code",
   "execution_count": 6,
   "metadata": {},
   "outputs": [
    {
     "data": {
      "text/plain": [
       "AnnData object with n_obs × n_vars = 15681 × 1000\n",
       "    obs: 'batch', 'study', 'cell_type', 'size_factors'"
      ]
     },
     "execution_count": 6,
     "metadata": {},
     "output_type": "execute_result"
    }
   ],
   "source": [
    "adata_all = sc.read(os.path.expanduser(f'~/Documents/benchmarking_datasets/pancreas_normalized.h5ad'))\n",
    "adata = adata_all.raw.to_adata()\n",
    "adata"
   ]
  },
  {
   "cell_type": "code",
   "execution_count": 7,
   "metadata": {},
   "outputs": [],
   "source": [
    "query = np.array([s in target_batches for s in adata.obs[batch_key]])\n",
    "query_1 = np.array([s in [target_batches[0]] for s in adata.obs[batch_key]])\n",
    "query_2 = np.array([s in [target_batches[1]] for s in adata.obs[batch_key]])\n",
    "adata_ref_full = adata[~query].copy()\n",
    "adata_ref = adata_ref_full[~adata_ref_full.obs[cell_type_key].isin(leave_out_cell_types)].copy()\n",
    "adata_query_1 = adata[query_1].copy()\n",
    "adata_query_2 = adata[query_2].copy()"
   ]
  },
  {
   "cell_type": "code",
   "execution_count": 8,
   "metadata": {},
   "outputs": [
    {
     "data": {
      "text/plain": [
       "AnnData object with n_obs × n_vars = 7584 × 1000\n",
       "    obs: 'batch', 'study', 'cell_type', 'size_factors'"
      ]
     },
     "execution_count": 8,
     "metadata": {},
     "output_type": "execute_result"
    }
   ],
   "source": [
    "adata_ref"
   ]
  },
  {
   "cell_type": "code",
   "execution_count": 9,
   "metadata": {},
   "outputs": [
    {
     "data": {
      "text/plain": [
       "AnnData object with n_obs × n_vars = 2961 × 1000\n",
       "    obs: 'batch', 'study', 'cell_type', 'size_factors'"
      ]
     },
     "execution_count": 9,
     "metadata": {},
     "output_type": "execute_result"
    }
   ],
   "source": [
    "adata_query_1"
   ]
  },
  {
   "cell_type": "code",
   "execution_count": 10,
   "metadata": {},
   "outputs": [
    {
     "data": {
      "text/plain": [
       "AnnData object with n_obs × n_vars = 2426 × 1000\n",
       "    obs: 'batch', 'study', 'cell_type', 'size_factors'"
      ]
     },
     "execution_count": 10,
     "metadata": {},
     "output_type": "execute_result"
    }
   ],
   "source": [
    "adata_query_2"
   ]
  },
  {
   "cell_type": "code",
   "execution_count": 11,
   "metadata": {},
   "outputs": [
    {
     "name": "stdout",
     "output_type": "stream",
     "text": [
      "\u001b[34mINFO    \u001b[0m Using batches from adata.obs\u001b[1m[\u001b[0m\u001b[32m\"study\"\u001b[0m\u001b[1m]\u001b[0m                                               \n",
      "\u001b[34mINFO    \u001b[0m Using labels from adata.obs\u001b[1m[\u001b[0m\u001b[32m\"cell_type\"\u001b[0m\u001b[1m]\u001b[0m                                            \n",
      "\u001b[34mINFO    \u001b[0m Using data from adata.X                                                             \n",
      "\u001b[34mINFO    \u001b[0m Computing library size prior per batch                                              \n",
      "\u001b[34mINFO    \u001b[0m Successfully registered anndata object containing \u001b[1;34m7584\u001b[0m cells, \u001b[1;34m1000\u001b[0m vars, \u001b[1;34m3\u001b[0m batches, \n",
      "         \u001b[1;34m7\u001b[0m labels, and \u001b[1;34m0\u001b[0m proteins. Also registered \u001b[1;34m0\u001b[0m extra categorical covariates and \u001b[1;34m0\u001b[0m extra\n",
      "         continuous covariates.                                                              \n",
      "\u001b[34mINFO    \u001b[0m Please do not further modify adata until model is trained.                          \n"
     ]
    }
   ],
   "source": [
    "sca.dataset.setup_anndata(adata_ref, batch_key=batch_key, labels_key=cell_type_key)"
   ]
  },
  {
   "cell_type": "markdown",
   "metadata": {},
   "source": [
    "# Create SCANVI model and train"
   ]
  },
  {
   "cell_type": "code",
   "execution_count": 12,
   "metadata": {},
   "outputs": [],
   "source": [
    "vae = sca.models.SCANVI(\n",
    "    adata_ref,\n",
    "    \"Unknown\",\n",
    "    n_layers=2,\n",
    "    use_cuda=True,\n",
    "    encode_covariates=True,\n",
    "    deeply_inject_covariates=deep_inject,\n",
    "    use_layer_norm=\"both\",\n",
    "    use_batch_norm=\"none\",\n",
    ")"
   ]
  },
  {
   "cell_type": "code",
   "execution_count": 13,
   "metadata": {},
   "outputs": [
    {
     "name": "stdout",
     "output_type": "stream",
     "text": [
      "Labelled Indices:  7584\n",
      "Unlabelled Indices:  0\n"
     ]
    }
   ],
   "source": [
    "print(\"Labelled Indices: \", len(vae._labeled_indices))\n",
    "print(\"Unlabelled Indices: \", len(vae._unlabeled_indices))"
   ]
  },
  {
   "cell_type": "code",
   "execution_count": 14,
   "metadata": {},
   "outputs": [
    {
     "name": "stdout",
     "output_type": "stream",
     "text": [
      "\u001b[34mINFO    \u001b[0m Training Unsupervised Trainer for \u001b[1;34m50\u001b[0m epochs.                                        \n",
      "\u001b[34mINFO    \u001b[0m Training SemiSupervised Trainer for \u001b[1;34m10\u001b[0m epochs.                                      \n",
      "\u001b[34mINFO    \u001b[0m KL warmup phase exceeds overall training phaseIf your applications rely on the      \n",
      "         posterior quality, consider training for more epochs or reducing the kl warmup.     \n",
      "\u001b[34mINFO    \u001b[0m KL warmup for \u001b[1;34m400\u001b[0m epochs                                                            \n",
      "Training...:   0%|          | 0/50 [00:00<?, ?it/s]"
     ]
    },
    {
     "name": "stderr",
     "output_type": "stream",
     "text": [
      "/home/marco/.pyenv/versions/3.7.7/envs/scarches_test/lib/python3.7/site-packages/scvi/core/distributions/_negative_binomial.py:434: UserWarning: The value argument must be within the support of the distribution\n",
      "  UserWarning,\n"
     ]
    },
    {
     "name": "stdout",
     "output_type": "stream",
     "text": [
      "Training...: 100%|██████████| 50/50 [00:21<00:00,  2.29it/s]\n",
      "\u001b[34mINFO    \u001b[0m Training is still in warming up phase. If your applications rely on the posterior   \n",
      "         quality, consider training for more epochs or reducing the kl warmup.               \n",
      "\u001b[34mINFO    \u001b[0m Training time:  \u001b[1;34m15\u001b[0m s. \u001b[35m/\u001b[0m \u001b[1;34m50\u001b[0m epochs                                                   \n",
      "\u001b[34mINFO    \u001b[0m KL warmup phase exceeds overall training phaseIf your applications rely on the      \n",
      "         posterior quality, consider training for more epochs or reducing the kl warmup.     \n",
      "\u001b[34mINFO    \u001b[0m KL warmup for \u001b[1;34m400\u001b[0m epochs                                                            \n",
      "Training...: 100%|██████████| 10/10 [00:18<00:00,  1.84s/it]\n",
      "\u001b[34mINFO    \u001b[0m Training is still in warming up phase. If your applications rely on the posterior   \n",
      "         quality, consider training for more epochs or reducing the kl warmup.               \n",
      "\u001b[34mINFO    \u001b[0m Training time:  \u001b[1;34m11\u001b[0m s. \u001b[35m/\u001b[0m \u001b[1;34m10\u001b[0m epochs                                                   \n"
     ]
    }
   ],
   "source": [
    "ref_time = time.time()\n",
    "vae.train(\n",
    "    n_epochs_unsupervised=n_epochs_vae,\n",
    "    n_epochs_semisupervised=n_epochs_scanvi,\n",
    "    unsupervised_trainer_kwargs=dict(early_stopping_kwargs=early_stopping_kwargs),\n",
    "    semisupervised_trainer_kwargs=dict(metrics_to_monitor=[\"elbo\", \"accuracy\"],\n",
    "                                       early_stopping_kwargs=early_stopping_kwargs_scanvi),\n",
    "    frequency=1\n",
    ")\n",
    "ref_time = time.time() - ref_time"
   ]
  },
  {
   "cell_type": "markdown",
   "metadata": {},
   "source": [
    "# Reference Evaluation"
   ]
  },
  {
   "cell_type": "code",
   "execution_count": 15,
   "metadata": {},
   "outputs": [
    {
     "data": {
      "text/html": [
       "<div>\n",
       "<style scoped>\n",
       "    .dataframe tbody tr th:only-of-type {\n",
       "        vertical-align: middle;\n",
       "    }\n",
       "\n",
       "    .dataframe tbody tr th {\n",
       "        vertical-align: top;\n",
       "    }\n",
       "\n",
       "    .dataframe thead th {\n",
       "        text-align: right;\n",
       "    }\n",
       "</style>\n",
       "<table border=\"1\" class=\"dataframe\">\n",
       "  <thead>\n",
       "    <tr style=\"text-align: right;\">\n",
       "      <th></th>\n",
       "      <th>Pancreas Acinar</th>\n",
       "      <th>Pancreas Beta</th>\n",
       "      <th>Pancreas Delta</th>\n",
       "      <th>Pancreas Ductal</th>\n",
       "      <th>Pancreas Endothelial</th>\n",
       "      <th>Pancreas Gamma</th>\n",
       "      <th>Pancreas Stellate</th>\n",
       "    </tr>\n",
       "    <tr>\n",
       "      <th>index</th>\n",
       "      <th></th>\n",
       "      <th></th>\n",
       "      <th></th>\n",
       "      <th></th>\n",
       "      <th></th>\n",
       "      <th></th>\n",
       "      <th></th>\n",
       "    </tr>\n",
       "  </thead>\n",
       "  <tbody>\n",
       "    <tr>\n",
       "      <th>0-0-0-0-0</th>\n",
       "      <td>1.700872e-02</td>\n",
       "      <td>0.000023</td>\n",
       "      <td>4.826826e-05</td>\n",
       "      <td>1.594801e-05</td>\n",
       "      <td>9.828552e-01</td>\n",
       "      <td>0.000006</td>\n",
       "      <td>4.237988e-05</td>\n",
       "    </tr>\n",
       "    <tr>\n",
       "      <th>1-0-0-0-0</th>\n",
       "      <td>9.979936e-01</td>\n",
       "      <td>0.000007</td>\n",
       "      <td>5.485994e-05</td>\n",
       "      <td>5.480702e-05</td>\n",
       "      <td>1.839756e-03</td>\n",
       "      <td>0.000032</td>\n",
       "      <td>1.793347e-05</td>\n",
       "    </tr>\n",
       "    <tr>\n",
       "      <th>2-0-0-0-0</th>\n",
       "      <td>9.442510e-01</td>\n",
       "      <td>0.000045</td>\n",
       "      <td>1.931140e-04</td>\n",
       "      <td>4.826397e-05</td>\n",
       "      <td>5.515557e-02</td>\n",
       "      <td>0.000214</td>\n",
       "      <td>9.286892e-05</td>\n",
       "    </tr>\n",
       "    <tr>\n",
       "      <th>3-0-0-0-0</th>\n",
       "      <td>9.993677e-01</td>\n",
       "      <td>0.000006</td>\n",
       "      <td>8.114145e-05</td>\n",
       "      <td>3.306050e-05</td>\n",
       "      <td>4.053751e-04</td>\n",
       "      <td>0.000086</td>\n",
       "      <td>2.071284e-05</td>\n",
       "    </tr>\n",
       "    <tr>\n",
       "      <th>4-0-0-0-0</th>\n",
       "      <td>5.979191e-03</td>\n",
       "      <td>0.000011</td>\n",
       "      <td>8.354407e-05</td>\n",
       "      <td>9.590203e-05</td>\n",
       "      <td>9.937906e-01</td>\n",
       "      <td>0.000005</td>\n",
       "      <td>3.467494e-05</td>\n",
       "    </tr>\n",
       "    <tr>\n",
       "      <th>...</th>\n",
       "      <td>...</td>\n",
       "      <td>...</td>\n",
       "      <td>...</td>\n",
       "      <td>...</td>\n",
       "      <td>...</td>\n",
       "      <td>...</td>\n",
       "      <td>...</td>\n",
       "    </tr>\n",
       "    <tr>\n",
       "      <th>631-1-0</th>\n",
       "      <td>4.892427e-07</td>\n",
       "      <td>0.999994</td>\n",
       "      <td>3.708081e-07</td>\n",
       "      <td>2.934800e-07</td>\n",
       "      <td>4.114018e-07</td>\n",
       "      <td>0.000004</td>\n",
       "      <td>2.402937e-07</td>\n",
       "    </tr>\n",
       "    <tr>\n",
       "      <th>632-1-0</th>\n",
       "      <td>7.625266e-07</td>\n",
       "      <td>0.999991</td>\n",
       "      <td>4.861529e-07</td>\n",
       "      <td>3.365601e-07</td>\n",
       "      <td>4.915445e-07</td>\n",
       "      <td>0.000007</td>\n",
       "      <td>3.287217e-07</td>\n",
       "    </tr>\n",
       "    <tr>\n",
       "      <th>634-1-0</th>\n",
       "      <td>3.732964e-07</td>\n",
       "      <td>0.999995</td>\n",
       "      <td>2.349990e-07</td>\n",
       "      <td>2.835378e-07</td>\n",
       "      <td>4.636388e-07</td>\n",
       "      <td>0.000003</td>\n",
       "      <td>2.086357e-07</td>\n",
       "    </tr>\n",
       "    <tr>\n",
       "      <th>635-1-0</th>\n",
       "      <td>5.206258e-07</td>\n",
       "      <td>0.999993</td>\n",
       "      <td>5.490394e-07</td>\n",
       "      <td>2.064139e-07</td>\n",
       "      <td>4.521891e-07</td>\n",
       "      <td>0.000005</td>\n",
       "      <td>2.301208e-07</td>\n",
       "    </tr>\n",
       "    <tr>\n",
       "      <th>636-1-0</th>\n",
       "      <td>9.515637e-06</td>\n",
       "      <td>0.992269</td>\n",
       "      <td>5.415357e-06</td>\n",
       "      <td>7.469993e-03</td>\n",
       "      <td>5.212747e-06</td>\n",
       "      <td>0.000041</td>\n",
       "      <td>1.992185e-04</td>\n",
       "    </tr>\n",
       "  </tbody>\n",
       "</table>\n",
       "<p>7584 rows × 7 columns</p>\n",
       "</div>"
      ],
      "text/plain": [
       "           Pancreas Acinar  Pancreas Beta  Pancreas Delta  Pancreas Ductal  \\\n",
       "index                                                                        \n",
       "0-0-0-0-0     1.700872e-02       0.000023    4.826826e-05     1.594801e-05   \n",
       "1-0-0-0-0     9.979936e-01       0.000007    5.485994e-05     5.480702e-05   \n",
       "2-0-0-0-0     9.442510e-01       0.000045    1.931140e-04     4.826397e-05   \n",
       "3-0-0-0-0     9.993677e-01       0.000006    8.114145e-05     3.306050e-05   \n",
       "4-0-0-0-0     5.979191e-03       0.000011    8.354407e-05     9.590203e-05   \n",
       "...                    ...            ...             ...              ...   \n",
       "631-1-0       4.892427e-07       0.999994    3.708081e-07     2.934800e-07   \n",
       "632-1-0       7.625266e-07       0.999991    4.861529e-07     3.365601e-07   \n",
       "634-1-0       3.732964e-07       0.999995    2.349990e-07     2.835378e-07   \n",
       "635-1-0       5.206258e-07       0.999993    5.490394e-07     2.064139e-07   \n",
       "636-1-0       9.515637e-06       0.992269    5.415357e-06     7.469993e-03   \n",
       "\n",
       "           Pancreas Endothelial  Pancreas Gamma  Pancreas Stellate  \n",
       "index                                                               \n",
       "0-0-0-0-0          9.828552e-01        0.000006       4.237988e-05  \n",
       "1-0-0-0-0          1.839756e-03        0.000032       1.793347e-05  \n",
       "2-0-0-0-0          5.515557e-02        0.000214       9.286892e-05  \n",
       "3-0-0-0-0          4.053751e-04        0.000086       2.071284e-05  \n",
       "4-0-0-0-0          9.937906e-01        0.000005       3.467494e-05  \n",
       "...                         ...             ...                ...  \n",
       "631-1-0            4.114018e-07        0.000004       2.402937e-07  \n",
       "632-1-0            4.915445e-07        0.000007       3.287217e-07  \n",
       "634-1-0            4.636388e-07        0.000003       2.086357e-07  \n",
       "635-1-0            4.521891e-07        0.000005       2.301208e-07  \n",
       "636-1-0            5.212747e-06        0.000041       1.992185e-04  \n",
       "\n",
       "[7584 rows x 7 columns]"
      ]
     },
     "execution_count": 15,
     "metadata": {},
     "output_type": "execute_result"
    }
   ],
   "source": [
    "ref_predictions = vae.predict(adata=adata_ref,soft=True)\n",
    "ref_predictions"
   ]
  },
  {
   "cell_type": "code",
   "execution_count": null,
   "metadata": {},
   "outputs": [],
   "source": [
    "ref_predictions = vae.predict(adata_ref)\n",
    "adata_ref.obsm[\"X_scANVI\"] = vae.get_latent_representation()\n",
    "adata_ref.obs[\"predictions\"] = vae.predict()\n",
    "print(\"Acc: {}\".format(np.mean(ref_predictions == adata_ref.obs[cell_type_key])))"
   ]
  },
  {
   "cell_type": "code",
   "execution_count": null,
   "metadata": {},
   "outputs": [],
   "source": [
    "plt.figure()\n",
    "plt.plot(vae.trainer.history['accuracy_full_dataset'][2:], label=\"ACC\")\n",
    "plt.title(\"ACC\")\n",
    "plt.legend()\n",
    "plt.savefig(f'{control_path}reference_acc.png', bbox_inches='tight')"
   ]
  },
  {
   "cell_type": "code",
   "execution_count": null,
   "metadata": {},
   "outputs": [],
   "source": [
    "plt.figure()\n",
    "plt.plot(vae.trainer.history['elbo_full_dataset'][2:], label=\"ELBO\")\n",
    "plt.title(\"ELBO\")\n",
    "plt.legend()\n",
    "plt.savefig(f'{control_path}reference_elbo.png', bbox_inches='tight')"
   ]
  },
  {
   "cell_type": "code",
   "execution_count": null,
   "metadata": {},
   "outputs": [],
   "source": [
    "ref_cropped = sc.AnnData(adata_ref.obsm[\"X_scANVI\"])\n",
    "ref_cropped.obs[\"celltype\"] = adata_ref.obs[cell_type_key].tolist()\n",
    "ref_cropped.obs[\"batch\"] = adata_ref.obs[batch_key].tolist()\n",
    "ref_cropped.obs[\"predictions\"] = adata_ref.obs[\"predictions\"].tolist()"
   ]
  },
  {
   "cell_type": "code",
   "execution_count": null,
   "metadata": {},
   "outputs": [],
   "source": [
    "sc.pp.neighbors(ref_cropped)\n",
    "sc.tl.leiden(ref_cropped)\n",
    "sc.tl.umap(ref_cropped)\n",
    "ref_cropped.write_h5ad(filename=f'{dir_path}reference_data.h5ad')"
   ]
  },
  {
   "cell_type": "code",
   "execution_count": null,
   "metadata": {},
   "outputs": [],
   "source": [
    "ref_cropped"
   ]
  },
  {
   "cell_type": "code",
   "execution_count": null,
   "metadata": {},
   "outputs": [],
   "source": [
    "plt.figure()\n",
    "sc.pl.umap(\n",
    "    ref_cropped,\n",
    "    color=[\"batch\", \"celltype\"],\n",
    "    frameon=False,\n",
    "    ncols=1,\n",
    "    show=False\n",
    ")\n",
    "plt.savefig(f'{control_path}umap_reference.png', bbox_inches='tight')"
   ]
  },
  {
   "cell_type": "code",
   "execution_count": null,
   "metadata": {},
   "outputs": [],
   "source": [
    "torch.save(vae.model.state_dict(), f'{dir_path}reference_model_state_dict')\n",
    "ref_path = f'{dir_path}ref_model/'\n",
    "if not os.path.exists(ref_path):\n",
    "    os.makedirs(ref_path)\n",
    "vae.save(ref_path, overwrite=True)"
   ]
  },
  {
   "cell_type": "markdown",
   "metadata": {},
   "source": [
    "# Run surgery on first query batch"
   ]
  },
  {
   "cell_type": "code",
   "execution_count": null,
   "metadata": {},
   "outputs": [],
   "source": [
    "adata_query_1.obs['orig_cell_types'] = adata_query_1.obs[cell_type_key].copy()\n",
    "adata_query_1.obs[cell_type_key] = vae.unlabeled_category_"
   ]
  },
  {
   "cell_type": "code",
   "execution_count": null,
   "metadata": {},
   "outputs": [],
   "source": [
    "model_1 = sca.models.SCANVI.load_query_data(\n",
    "    adata_query_1,\n",
    "    ref_path,\n",
    "    freeze_dropout = True,\n",
    ")"
   ]
  },
  {
   "cell_type": "code",
   "execution_count": null,
   "metadata": {},
   "outputs": [],
   "source": [
    "print(\"Labelled Indices: \", len(model_1._labeled_indices))\n",
    "print(\"Unlabelled Indices: \", len(model_1._unlabeled_indices))"
   ]
  },
  {
   "cell_type": "code",
   "execution_count": null,
   "metadata": {},
   "outputs": [],
   "source": [
    "query_1_time = time.time()\n",
    "model_1.train(\n",
    "    n_epochs_semisupervised=n_epochs_surgery,\n",
    "    train_base_model=False,\n",
    "    semisupervised_trainer_kwargs=dict(metrics_to_monitor=[\"elbo\"], \n",
    "                                       weight_decay=0,\n",
    "                                       early_stopping_kwargs=early_stopping_kwargs_surgery\n",
    "                                      ),\n",
    "    frequency=1\n",
    ")\n",
    "query_1_time = time.time() - query_1_time"
   ]
  },
  {
   "cell_type": "markdown",
   "metadata": {},
   "source": [
    "# Evaluation Surgery on Query1"
   ]
  },
  {
   "cell_type": "code",
   "execution_count": null,
   "metadata": {},
   "outputs": [],
   "source": [
    "adata_query_1.obsm[\"X_scANVI\"] = model_1.get_latent_representation()\n",
    "adata_query_1.obs[\"predictions\"] = model_1.predict()\n",
    "query_1_predictions = model_1.predict()\n",
    "print(\"Acc: {}\".format(np.mean(query_1_predictions == adata_query_1.obs['orig_cell_types'])))"
   ]
  },
  {
   "cell_type": "code",
   "execution_count": null,
   "metadata": {},
   "outputs": [],
   "source": [
    "q1_cropped = sc.AnnData(adata_query_1.obsm[\"X_scANVI\"])\n",
    "q1_cropped.obs[\"celltype\"] = adata_query_1.obs['orig_cell_types'].tolist()\n",
    "q1_cropped.obs[\"batch\"] = adata_query_1.obs[batch_key].tolist()\n",
    "q1_cropped.obs[\"predictions\"] = adata_query_1.obs[\"predictions\"].tolist()"
   ]
  },
  {
   "cell_type": "code",
   "execution_count": null,
   "metadata": {},
   "outputs": [],
   "source": [
    "sc.pp.neighbors(q1_cropped)\n",
    "sc.tl.leiden(q1_cropped)\n",
    "sc.tl.umap(q1_cropped)\n",
    "q1_cropped.write_h5ad(filename=f'{dir_path}query_1_data.h5ad')"
   ]
  },
  {
   "cell_type": "code",
   "execution_count": null,
   "metadata": {},
   "outputs": [],
   "source": [
    "plt.figure()\n",
    "sc.pl.umap(\n",
    "    q1_cropped,\n",
    "    color=[\"batch\", \"celltype\"],\n",
    "    frameon=False,\n",
    "    ncols=1,\n",
    "    show=False\n",
    ")\n",
    "plt.savefig(f'{control_path}umap_query_1.png', bbox_inches='tight')"
   ]
  },
  {
   "cell_type": "markdown",
   "metadata": {},
   "source": [
    "# Evaluation Query1 on reference"
   ]
  },
  {
   "cell_type": "code",
   "execution_count": null,
   "metadata": {},
   "outputs": [],
   "source": [
    "adata_ref.obs['orig_cell_types'] = adata_ref.obs[cell_type_key].copy()\n",
    "adata_full_1 = adata_ref.concatenate(adata_query_1)\n",
    "adata_full_1.uns[\"_scvi\"] = adata_query_1.uns[\"_scvi\"]\n",
    "adata_full_1.obsm[\"X_scANVI\"] = model_1.get_latent_representation(adata=adata_full_1)"
   ]
  },
  {
   "cell_type": "code",
   "execution_count": null,
   "metadata": {},
   "outputs": [],
   "source": [
    "adata_full_1.obs[\"predictions\"] = model_1.predict(adata_full_1)\n",
    "full_1_predictions = model_1.predict(adata_full_1)\n",
    "print(\"Acc: {}\".format(np.mean(full_1_predictions == adata_full_1.obs['orig_cell_types'])))"
   ]
  },
  {
   "cell_type": "code",
   "execution_count": null,
   "metadata": {},
   "outputs": [],
   "source": [
    "f1_cropped = sc.AnnData(adata_full_1.obsm[\"X_scANVI\"])\n",
    "f1_cropped.obs[\"celltype\"] = adata_full_1.obs['orig_cell_types'].tolist()\n",
    "f1_cropped.obs[\"batch\"] = adata_full_1.obs[batch_key].tolist()\n",
    "f1_cropped.obs[\"predictions\"] = adata_full_1.obs[\"predictions\"].tolist()"
   ]
  },
  {
   "cell_type": "code",
   "execution_count": null,
   "metadata": {},
   "outputs": [],
   "source": [
    "sc.pp.neighbors(f1_cropped)\n",
    "sc.tl.leiden(f1_cropped)\n",
    "sc.tl.umap(f1_cropped)\n",
    "f1_cropped.write_h5ad(filename=f'{dir_path}full_1_data.h5ad')"
   ]
  },
  {
   "cell_type": "code",
   "execution_count": null,
   "metadata": {},
   "outputs": [],
   "source": [
    "plt.figure()\n",
    "sc.pl.umap(\n",
    "    f1_cropped,\n",
    "    color=[\"batch\", \"celltype\"],\n",
    "    frameon=False,\n",
    "    ncols=1,\n",
    "    show=False\n",
    ")\n",
    "plt.savefig(f'{control_path}umap_full_1.png', bbox_inches='tight')"
   ]
  },
  {
   "cell_type": "code",
   "execution_count": null,
   "metadata": {},
   "outputs": [],
   "source": [
    "sc.pl.umap(\n",
    "    f1_cropped,\n",
    "    color=[\"predictions\"],\n",
    "    frameon=False,\n",
    "    ncols=1,\n",
    "    show=False\n",
    ")\n",
    "plt.savefig(f'{control_path}pred_full_1.png', bbox_inches='tight')"
   ]
  },
  {
   "cell_type": "code",
   "execution_count": null,
   "metadata": {},
   "outputs": [],
   "source": [
    "torch.save(model_1.model.state_dict(), f'{dir_path}surgery_1_model_state_dict')\n",
    "surgery_1_path = f'{dir_path}surg_1_model/'\n",
    "if not os.path.exists(surgery_1_path):\n",
    "    os.makedirs(surgery_1_path)\n",
    "model_1.save(surgery_1_path, overwrite=True)"
   ]
  },
  {
   "cell_type": "markdown",
   "metadata": {},
   "source": [
    "# Run surgery on second query batch"
   ]
  },
  {
   "cell_type": "code",
   "execution_count": null,
   "metadata": {},
   "outputs": [],
   "source": [
    "adata_query_2.obs['orig_cell_types'] = adata_query_2.obs[cell_type_key].copy()\n",
    "adata_query_2.obs[cell_type_key] = model_1.unlabeled_category_\n",
    "model_2 = sca.models.SCANVI.load_query_data(\n",
    "    adata_query_2,\n",
    "    surgery_1_path,\n",
    "    freeze_dropout = True,\n",
    ")"
   ]
  },
  {
   "cell_type": "code",
   "execution_count": null,
   "metadata": {},
   "outputs": [],
   "source": [
    "print(\"Labelled Indices: \", len(model_2._labeled_indices))\n",
    "print(\"Unlabelled Indices: \", model_2._unlabeled_indices.shape[0])"
   ]
  },
  {
   "cell_type": "code",
   "execution_count": null,
   "metadata": {},
   "outputs": [],
   "source": [
    "query_2_time = time.time()\n",
    "model_2.train(\n",
    "    n_epochs_semisupervised=n_epochs_surgery,\n",
    "    train_base_model=False,\n",
    "    semisupervised_trainer_kwargs=dict(metrics_to_monitor=[\"elbo\"],\n",
    "                                       weight_decay=0,\n",
    "                                      early_stopping_kwargs=early_stopping_kwargs_surgery),\n",
    "    frequency=1\n",
    ")\n",
    "query_2_time = time.time() - query_2_time"
   ]
  },
  {
   "cell_type": "markdown",
   "metadata": {},
   "source": [
    "# Evaluation Surgery on Query2"
   ]
  },
  {
   "cell_type": "code",
   "execution_count": null,
   "metadata": {},
   "outputs": [],
   "source": [
    "adata_query_2.obsm[\"X_scANVI\"] = model_2.get_latent_representation()\n",
    "adata_query_2.obs[\"predictions\"] = model_2.predict()\n",
    "query_predictions = model_2.predict()\n",
    "print(\"Acc: {}\".format(np.mean(query_predictions == adata_query_2.obs['orig_cell_types'])))"
   ]
  },
  {
   "cell_type": "code",
   "execution_count": null,
   "metadata": {},
   "outputs": [],
   "source": [
    "q2_cropped = sc.AnnData(adata_query_2.obsm[\"X_scANVI\"])\n",
    "q2_cropped.obs[\"celltype\"] = adata_query_2.obs['orig_cell_types'].tolist()\n",
    "q2_cropped.obs[\"batch\"] = adata_query_2.obs[batch_key].tolist()\n",
    "q2_cropped.obs[\"predictions\"] = adata_query_2.obs[\"predictions\"].tolist()"
   ]
  },
  {
   "cell_type": "code",
   "execution_count": null,
   "metadata": {},
   "outputs": [],
   "source": [
    "sc.pp.neighbors(q2_cropped)\n",
    "sc.tl.leiden(q2_cropped)\n",
    "sc.tl.umap(q2_cropped)\n",
    "q2_cropped.write_h5ad(filename=f'{dir_path}query_2_data.h5ad')"
   ]
  },
  {
   "cell_type": "code",
   "execution_count": null,
   "metadata": {},
   "outputs": [],
   "source": [
    "plt.figure()\n",
    "sc.pl.umap(\n",
    "    q2_cropped,\n",
    "    color=[\"batch\", \"celltype\"],\n",
    "    frameon=False,\n",
    "    ncols=1,\n",
    "    show=False\n",
    ")\n",
    "plt.savefig(f'{control_path}umap_query_2.png', bbox_inches='tight')"
   ]
  },
  {
   "cell_type": "markdown",
   "metadata": {},
   "source": [
    "# Evaluation Query1 and Query2 on Reference"
   ]
  },
  {
   "cell_type": "code",
   "execution_count": null,
   "metadata": {},
   "outputs": [],
   "source": [
    "adata_full_2 = adata_full_1.concatenate(adata_query_2)\n",
    "adata_full_2.uns[\"_scvi\"] = adata_query_2.uns[\"_scvi\"]\n",
    "adata_full_2.obsm[\"X_scANVI\"] = model_2.get_latent_representation(adata=adata_full_2)\n",
    "adata_full_2.obs[\"predicitions\"] = model_2.predict(adata_full_2)\n",
    "full_predictions = model_2.predict(adata_full_2)\n",
    "print(\"Acc: {}\".format(np.mean(full_predictions == adata_full_2.obs['orig_cell_types'])))"
   ]
  },
  {
   "cell_type": "code",
   "execution_count": null,
   "metadata": {},
   "outputs": [],
   "source": [
    "f2_cropped = sc.AnnData(adata_full_2.obsm[\"X_scANVI\"])\n",
    "f2_cropped.obs[\"celltype\"] = adata_full_2.obs['orig_cell_types'].tolist()\n",
    "f2_cropped.obs[\"batch\"] = adata_full_2.obs[batch_key].tolist()\n",
    "f2_cropped.obs[\"predictions\"] = adata_full_2.obs[\"predictions\"].tolist()"
   ]
  },
  {
   "cell_type": "code",
   "execution_count": null,
   "metadata": {},
   "outputs": [],
   "source": [
    "sc.pp.neighbors(f2_cropped)\n",
    "sc.tl.leiden(f2_cropped)\n",
    "sc.tl.umap(f2_cropped)\n",
    "f2_cropped.write_h5ad(filename=f'{dir_path}full_2_data.h5ad')"
   ]
  },
  {
   "cell_type": "code",
   "execution_count": null,
   "metadata": {},
   "outputs": [],
   "source": [
    "plt.figure()\n",
    "sc.pl.umap(\n",
    "    f2_cropped,\n",
    "    color=[\"batch\", \"celltype\"],\n",
    "    frameon=False,\n",
    "    ncols=1,\n",
    "    show=False\n",
    ")\n",
    "plt.savefig(f'{control_path}umap_full_2.png', bbox_inches='tight')"
   ]
  },
  {
   "cell_type": "code",
   "execution_count": null,
   "metadata": {},
   "outputs": [],
   "source": [
    "plt.figure()\n",
    "sc.pl.umap(\n",
    "    f2_cropped,\n",
    "    color=[\"predictions\"],\n",
    "    frameon=False,\n",
    "    ncols=1,\n",
    "    show=False\n",
    ")\n",
    "plt.savefig(f'{control_path}pred_full_2.png', bbox_inches='tight')"
   ]
  },
  {
   "cell_type": "code",
   "execution_count": null,
   "metadata": {},
   "outputs": [],
   "source": [
    "torch.save(model_2.model.state_dict(), f'{dir_path}surgery_2_model_state_dict')\n",
    "surgery_2_path = f'{dir_path}surg_2_model/'\n",
    "if not os.path.exists(surgery_2_path):\n",
    "    os.makedirs(surgery_2_path)\n",
    "model_2.save(surgery_2_path, overwrite=True)"
   ]
  },
  {
   "cell_type": "code",
   "execution_count": null,
   "metadata": {},
   "outputs": [],
   "source": [
    "times = dict()\n",
    "times[\"ref_time\"] = ref_time\n",
    "times[\"query_1_time\"] = query_1_time\n",
    "times[\"query_2_time\"] = query_2_time\n",
    "times[\"full_time\"] = ref_time + query_1_time + query_2_time\n",
    "with open(f'{dir_path}results_times.txt', 'w') as filehandle:\n",
    "    json.dump(times, filehandle)"
   ]
  },
  {
   "cell_type": "code",
   "execution_count": null,
   "metadata": {},
   "outputs": [],
   "source": []
  }
 ],
 "metadata": {
  "kernelspec": {
   "display_name": "scarches",
   "language": "python",
   "name": "scarches_testing"
  },
  "language_info": {
   "codemirror_mode": {
    "name": "ipython",
    "version": 3
   },
   "file_extension": ".py",
   "mimetype": "text/x-python",
   "name": "python",
   "nbconvert_exporter": "python",
   "pygments_lexer": "ipython3",
   "version": "3.7.7"
  }
 },
 "nbformat": 4,
 "nbformat_minor": 4
}
