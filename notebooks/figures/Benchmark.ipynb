{
 "cells": [
  {
   "cell_type": "code",
   "execution_count": 2,
   "metadata": {},
   "outputs": [],
   "source": [
    "import scanpy as sc\n",
    "import pandas as pd\n",
    "import numpy as np\n",
    "import seaborn as sns\n",
    "from matplotlib import pyplot as plt"
   ]
  },
  {
   "cell_type": "code",
   "execution_count": 3,
   "metadata": {},
   "outputs": [],
   "source": [
    "import matplotlib as mpl\n",
    "mpl.rcParams['figure.dpi'] = 100"
   ]
  },
  {
   "cell_type": "code",
   "execution_count": 39,
   "metadata": {},
   "outputs": [],
   "source": [
    "surgery_methods = ['scvi', 'scanvi', 'CVAE', 'DCA', 'trVAE']\n",
    "other_methods = ['Liger', 'Harmony', 'mnnCorrect', 'Scanorama', 'Seurat', 'Conos']"
   ]
  },
  {
   "cell_type": "code",
   "execution_count": 5,
   "metadata": {},
   "outputs": [],
   "source": [
    "%load_ext rpy2.ipython"
   ]
  },
  {
   "cell_type": "code",
   "execution_count": 31,
   "metadata": {},
   "outputs": [],
   "source": [
    "df = pd.read_csv('/home/mohsen/data/scArches/rqr_pbmc.csv')\n",
    "df['reference_time'] = 0.0\n",
    "df['query_time'] = 0.0\n",
    "df.rqr = df.rqr.round(2)\n",
    "df.to_csv('/home/mohsen/data/scArches/rqr_pbmc_final.csv', index=False)\n"
   ]
  },
  {
   "cell_type": "code",
   "execution_count": 7,
   "metadata": {},
   "outputs": [],
   "source": [
    "df = pd.read_csv('/home/mohsen/data/scArches/rqr_pbmc.csv')\n",
    "df['reference_time'] = 0.0\n",
    "df['query_time'] = 0.0\n",
    "df.rqr = df.rqr.round(2)\n",
    "best_pairs = [('CVAE', 0.44), ('trVAE', 0.89), ('DCA', 0.89), ('scvi', 0.44), ('scanvi', 0.89)]\n",
    "best_df = None\n",
    "for method, rqr in best_pairs:\n",
    "    row = df[((df['method'] == method) & (df['rqr'] == rqr))]\n",
    "    best_df = row if best_df is None else pd.concat([best_df, row])\n",
    "best_df.to_csv('/home/mohsen/data/scArches/rqr_pbmc_best_surgery_methods.csv', index=False)\n",
    "\n"
   ]
  },
  {
   "cell_type": "code",
   "execution_count": 38,
   "metadata": {},
   "outputs": [],
   "source": [
    "df = pd.read_csv('/home/mohsen/data/scArches/rqr_pancreas_final_new.csv')\n",
    "df['reference_time'] = 0.0\n",
    "df['query_time'] = 0.0\n",
    "df = df[df['method'].isin(['trVAE', 'CVAE', 'DCA', 'scvi', 'scanvi'])]\n",
    "df.to_csv('/home/mohsen/data/scArches/rqr_pancreas_surgery_methods.csv', index=False)"
   ]
  },
  {
   "cell_type": "code",
   "execution_count": 43,
   "metadata": {},
   "outputs": [],
   "source": [
    "df = pd.read_csv('/home/mohsen/data/scArches/rqr_pancreas_final_new.csv')\n",
    "df['reference_time'] = 0.0\n",
    "df['query_time'] = 0.0\n",
    "best_pairs = [('CVAE', 0.6), ('trVAE', 0.8), ('DCA', 0.8), ('scvi', 0.6), ('scanvi', 0.6)]\n",
    "best_df = None\n",
    "for method, rqr in best_pairs:\n",
    "    row = df[((df['method'] == method) & (df['rqr'] == rqr))]\n",
    "    best_df = row if best_df is None else pd.concat([best_df, row])\n",
    "best_df.to_csv('/home/mohsen/data/scArches/rqr_pancreas_best_surgery_methods.csv', index=False)"
   ]
  },
  {
   "cell_type": "code",
   "execution_count": 46,
   "metadata": {},
   "outputs": [],
   "source": [
    "df = pd.read_csv('/home/mohsen/data/scArches/rqr_pancreas_final_new.csv')\n",
    "df = df[df['method'].isin(other_methods)]\n",
    "pd.concat([best_df, df]).to_csv('/home/mohsen/data/scArches/rqr_pancreas_final_benchmark.csv', index=False)"
   ]
  },
  {
   "cell_type": "code",
   "execution_count": 50,
   "metadata": {},
   "outputs": [
    {
     "name": "stderr",
     "output_type": "stream",
     "text": [
      "R[write to console]: The following `from` values were not present in `x`: cell cycle conservation, hvg overlap, trajectory, iLISI, cLISI\n",
      "\n",
      "R[write to console]: The following `from` values were not present in `x`: Seurat, Seuratrpca, mnnCorrect, Bbknn, Liger, Combat, Saucie, Fastmnn, Desc, Scgen\n",
      "\n",
      "R[write to console]: The following `from` values were not present in `x`: cell cycle conservation, hvg overlap, trajectory, iLISI, cLISI\n",
      "\n",
      "R[write to console]: The following `from` values were not present in `x`: Seurat, Seuratrpca, mnnCorrect, Bbknn, Liger, Combat, Saucie, Fastmnn, Desc, Scgen\n",
      "\n",
      "R[write to console]: The following `from` values were not present in `x`: cell cycle conservation, hvg overlap, trajectory, iLISI, cLISI\n",
      "\n",
      "R[write to console]: The following `from` values were not present in `x`: Seurat, Seuratrpca, mnnCorrect, Bbknn, Liger, Combat, Saucie, Fastmnn, Desc, Scgen\n",
      "\n",
      "R[write to console]: The following `from` values were not present in `x`: cell cycle conservation, hvg overlap, trajectory, iLISI, cLISI\n",
      "\n",
      "R[write to console]: The following `from` values were not present in `x`: Seurat, Seuratrpca, mnnCorrect, Bbknn, Liger, Combat, Saucie, Fastmnn, Desc, Scgen\n",
      "\n",
      "R[write to console]: The following `from` values were not present in `x`: cell cycle conservation, hvg overlap, trajectory, iLISI, cLISI\n",
      "\n",
      "R[write to console]: The following `from` values were not present in `x`: Seuratrpca, Bbknn, Combat, Saucie, Fastmnn, Desc, Scgen\n",
      "\n",
      "R[write to console]: The following `from` values were not present in `x`: cell cycle conservation, hvg overlap, trajectory, iLISI, cLISI\n",
      "\n",
      "R[write to console]: The following `from` values were not present in `x`: Seurat, Seuratrpca, mnnCorrect, Bbknn, Liger, Combat, Saucie, Fastmnn, Desc, Scgen\n",
      "\n"
     ]
    }
   ],
   "source": [
    "%%R \n",
    "source('/home/mohsen/projects/scnet_reproducibility/scripts/PlotSingleAtlas.R')\n",
    "plotSingleAtlas('/home/mohsen/data/scArches/rqr_pbmc_final.csv')\n",
    "plotSingleAtlas('/home/mohsen/data/scArches/rqr_pbmc_best_surgery_methods.csv')\n",
    "plotSingleAtlas('/home/mohsen/data/scArches/rqr_pancreas_surgery_methods.csv')\n",
    "plotSingleAtlas('/home/mohsen/data/scArches/rqr_pancreas_best_surgery_methods.csv')\n",
    "plotSingleAtlas('/home/mohsen/data/scArches/rqr_pancreas_final_benchmark.csv')\n",
    "plotSingleAtlas('/home/mohsen/data/scArches/rqr_test.csv')"
   ]
  },
  {
   "cell_type": "code",
   "execution_count": null,
   "metadata": {},
   "outputs": [],
   "source": []
  }
 ],
 "metadata": {
  "kernelspec": {
   "display_name": "Python 3",
   "language": "python",
   "name": "python3"
  },
  "language_info": {
   "codemirror_mode": {
    "name": "ipython",
    "version": 3
   },
   "file_extension": ".py",
   "mimetype": "text/x-python",
   "name": "python",
   "nbconvert_exporter": "python",
   "pygments_lexer": "ipython3",
   "version": "3.6.9"
  }
 },
 "nbformat": 4,
 "nbformat_minor": 4
}
