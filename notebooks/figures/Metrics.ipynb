{
 "cells": [
  {
   "cell_type": "code",
   "execution_count": null,
   "metadata": {},
   "outputs": [],
   "source": [
    "import os\n",
    "os.chdir('/home/mohsen/projects/scarches/')"
   ]
  },
  {
   "cell_type": "code",
   "execution_count": null,
   "metadata": {},
   "outputs": [],
   "source": [
    "import scanpy as sc\n",
    "import scarches as sca\n",
    "import seaborn as sns\n",
    "import scIB as scib\n",
    "import pandas as pd\n",
    "from matplotlib import pyplot as plt"
   ]
  },
  {
   "cell_type": "code",
   "execution_count": null,
   "metadata": {},
   "outputs": [],
   "source": [
    "def compute_metrics(latent_adata, adata, data_name, method, rqr=None, batch_key='study', label_key='cell_type'):\n",
    "    latent_adata.obsm['X_pca'] = latent_adata.X\n",
    "    print(adata.shape, latent_adata.shape)\n",
    "    n_batches = len(adata.obs[batch_key].unique().tolist())\n",
    "    \n",
    "    scores = scib.metrics.metrics(adata, latent_adata, batch_key, label_key, \n",
    "                                  nmi_=True, ari_=True, silhouette_=True, pcr_=True, graph_conn_=True, \n",
    "                                  isolated_labels_=True, hvg_score_=False)\n",
    "    scores = scores.T\n",
    "    scores = scores[['NMI_cluster/label', 'ARI_cluster/label', 'ASW_label', 'ASW_label/batch', \n",
    "                     'PCR_batch', 'isolated_label_F1', 'isolated_label_silhouette', 'graph_conn']]\n",
    "    \n",
    "    ebm = sca.metrics.entropy_batch_mixing(latent_adata, batch_key, n_neighbors=15)\n",
    "    knn = sca.metrics.knn_purity(latent_adata, label_key, n_neighbors=15)\n",
    "    \n",
    "    scores['EBM'] = ebm\n",
    "    scores['KNN'] = knn\n",
    "    scores['method'] = method\n",
    "    scores['data'] = data_name\n",
    "    scores['rqr'] = rqr / n_batches if rqr is not None else None\n",
    "    \n",
    "    return scores"
   ]
  },
  {
   "cell_type": "code",
   "execution_count": null,
   "metadata": {},
   "outputs": [],
   "source": [
    "def compute_rqr_metrics(dataset):\n",
    "    scores = None\n",
    "\n",
    "    if dataset == 'mouse_brain':\n",
    "        adata = sc.read(f'/home/mohsen/data/{dataset}/mouse_brain_subsampled_normalized_hvg.h5ad')\n",
    "        batch_key, label_key = 'study', 'cell_type'\n",
    "        ratios = [1, 2, 3]\n",
    "    elif dataset == 'pancreas':\n",
    "        adata = sc.read(f'/home/mohsen/data/{dataset}/{dataset}_normalized.h5ad')\n",
    "        batch_key, label_key = 'study', 'cell_type'\n",
    "        ratios = [1, 2, 3, 4]\n",
    "    else:\n",
    "        adata = sc.read(f'/home/mohsen/data/PBMC/Immune_ALL_human_wo_villani_rqr_normalized_hvg.h5ad')\n",
    "        batch_key, label_key = 'condition', 'final_annotation'\n",
    "        ratios = [1, 4, 8]\n",
    "        \n",
    "    scores = None\n",
    "    for method in ['scvi', 'scanvi', 'CVAE', 'trVAE', 'DCA']:\n",
    "        for ratio in ratios:\n",
    "            print(f'**** Running for {method} with ratio = {ratio} ****')\n",
    "            if method in ['CVAE', 'trVAE', 'DCA']:\n",
    "                latent_adata = sc.read(f'/home/mohsen/data/scArches/ref_query_ratio/{method}/{dataset}/{ratio}/all.h5ad')\n",
    "            elif method in ['scvi', 'scanvi']:\n",
    "                if dataset == 'pbmc':\n",
    "                    test_num = 1 + ratio // 4\n",
    "                    figure_num = 6\n",
    "                    latent_adata = sc.read(f'/home/mohsen/data/scArches/scVI_scANVI/figure_{figure_num}/{method}/test_{test_num}_first_cond/full_data.h5ad')\n",
    "                else:\n",
    "                    test_num = ratio\n",
    "                    figure_num = 3\n",
    "                    latent_adata = sc.read(f'/home/mohsen/data/scArches/scVI_scANVI/figure_{figure_num}/{method}/{dataset}/test_{test_num}_first_cond/full_data.h5ad')                    \n",
    "                \n",
    "                latent_adata.obs[batch_key] = latent_adata.obs['batch'].values\n",
    "                latent_adata.obs[label_key] = latent_adata.obs['celltype'].values\n",
    "                            \n",
    "            df = compute_metrics(latent_adata, adata, dataset, method, ratio, batch_key, label_key)\n",
    "            scores = pd.concat([scores, df], axis=0) if scores is not None else df\n",
    "            \n",
    "    if dataset in ['pancreas', 'mouse_brain']:\n",
    "        for method in ['Harmony', 'Liger', 'Scanorama', 'Seurat', 'mnnCorrect', 'Conos']:\n",
    "            print(f'**** Running for {method} ****')\n",
    "            latent_adata = sc.read(f'/home/mohsen/data/scArches/Full Integration Results/{dataset}/{method}/result_adata.h5ad')\n",
    "            df = compute_metrics(latent_adata, adata, dataset, method, None, batch_key, label_key)\n",
    "            scores = pd.concat([scores, df], axis=0) if scores is not None else df\n",
    "            \n",
    "    return scores"
   ]
  },
  {
   "cell_type": "code",
   "execution_count": null,
   "metadata": {},
   "outputs": [],
   "source": [
    "scores = compute_rqr_metrics('pbmc')\n",
    "scores"
   ]
  },
  {
   "cell_type": "code",
   "execution_count": null,
   "metadata": {},
   "outputs": [],
   "source": [
    "scores = compute_rqr_metrics('mouse_brain')"
   ]
  },
  {
   "cell_type": "code",
   "execution_count": null,
   "metadata": {},
   "outputs": [],
   "source": []
  }
 ],
 "metadata": {
  "kernelspec": {
   "display_name": "Python 3",
   "language": "python",
   "name": "python3"
  },
  "language_info": {
   "codemirror_mode": {
    "name": "ipython",
    "version": 3
   },
   "file_extension": ".py",
   "mimetype": "text/x-python",
   "name": "python",
   "nbconvert_exporter": "python",
   "pygments_lexer": "ipython3",
   "version": "3.6.9"
  }
 },
 "nbformat": 4,
 "nbformat_minor": 4
}
