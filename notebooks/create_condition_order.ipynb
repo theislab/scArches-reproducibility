{
 "cells": [
  {
   "cell_type": "code",
   "execution_count": 1,
   "metadata": {},
   "outputs": [],
   "source": [
    "import os\n",
    "os.chdir('../')\n",
    "os.environ['CUDA_VISIBLE_DEVICES'] = '0'"
   ]
  },
  {
   "cell_type": "code",
   "execution_count": 2,
   "metadata": {},
   "outputs": [],
   "source": [
    "import scanpy as sc\n",
    "import json\n",
    "save_path = os.path.expanduser(f'~/Documents/')"
   ]
  },
  {
   "cell_type": "code",
   "execution_count": 3,
   "metadata": {},
   "outputs": [],
   "source": [
    "def takeSecond(elem):\n",
    "    return elem[1]\n",
    "\n",
    "def create_conditions_order(adata, condition_key):\n",
    "    adata_conditions = adata.obs[condition_key].unique().tolist()\n",
    "    study_stats = list()\n",
    "    condition_list = list()\n",
    "    for condition in adata_conditions:\n",
    "        adata_study = adata[adata.obs[condition_key].isin([condition])].copy()\n",
    "        study_stats.append([condition, adata_study.X.shape[0]])\n",
    "    study_stats.sort(key=takeSecond, reverse=True)\n",
    "    study_stats = ([ a for a,b in study_stats ], [ b for a,b in study_stats ])\n",
    "    for n_reference in range(len(adata_conditions)-1):\n",
    "        condition_list.append(dict())\n",
    "        condition_list[n_reference]['reference'] = study_stats[0][:n_reference+1]\n",
    "        condition_list[n_reference]['query'] = study_stats[0][n_reference+1:]\n",
    "    return condition_list"
   ]
  },
  {
   "cell_type": "markdown",
   "metadata": {},
   "source": [
    "# Create and save conditions_order.txt File"
   ]
  },
  {
   "cell_type": "code",
   "execution_count": 4,
   "metadata": {},
   "outputs": [
    {
     "name": "stdout",
     "output_type": "stream",
     "text": [
      "AnnData object with n_obs × n_vars = 15681 × 1000\n",
      "    obs: 'batch', 'study', 'cell_type', 'size_factors'\n",
      "Pancreas inDrop 8391\n",
      "Pancreas CelSeq2 2426\n",
      "Pancreas CelSeq 1271\n",
      "Pancreas Fluidigm C1 632\n",
      "Pancreas SS2 2961\n"
     ]
    },
    {
     "name": "stderr",
     "output_type": "stream",
     "text": [
      "/home/marco/.pyenv/versions/masterthesis/lib/python3.7/site-packages/anndata/_core/anndata.py:1094: FutureWarning: is_categorical is deprecated and will be removed in a future version.  Use is_categorical_dtype instead\n",
      "  if not is_categorical(df_full[k]):\n"
     ]
    }
   ],
   "source": [
    "condition_key = 'study'\n",
    "full_path = f'{save_path}/datasets/pancreas_normalized.h5ad'\n",
    "adata = sc.read(full_path)\n",
    "print(adata)\n",
    "for condition in adata.obs[condition_key].unique().tolist():\n",
    "    adata_study = adata[adata.obs[condition_key].isin([condition])].copy()\n",
    "    print(condition, adata_study.X.shape[0])"
   ]
  },
  {
   "cell_type": "code",
   "execution_count": 5,
   "metadata": {},
   "outputs": [
    {
     "data": {
      "text/plain": [
       "[{'reference': ['Pancreas inDrop'],\n",
       "  'query': ['Pancreas SS2',\n",
       "   'Pancreas CelSeq2',\n",
       "   'Pancreas CelSeq',\n",
       "   'Pancreas Fluidigm C1']},\n",
       " {'reference': ['Pancreas inDrop', 'Pancreas SS2'],\n",
       "  'query': ['Pancreas CelSeq2', 'Pancreas CelSeq', 'Pancreas Fluidigm C1']},\n",
       " {'reference': ['Pancreas inDrop', 'Pancreas SS2', 'Pancreas CelSeq2'],\n",
       "  'query': ['Pancreas CelSeq', 'Pancreas Fluidigm C1']},\n",
       " {'reference': ['Pancreas inDrop',\n",
       "   'Pancreas SS2',\n",
       "   'Pancreas CelSeq2',\n",
       "   'Pancreas CelSeq'],\n",
       "  'query': ['Pancreas Fluidigm C1']}]"
      ]
     },
     "execution_count": 5,
     "metadata": {},
     "output_type": "execute_result"
    }
   ],
   "source": [
    "condition_list = create_conditions_order(adata, condition_key)\n",
    "condition_list"
   ]
  },
  {
   "cell_type": "code",
   "execution_count": 6,
   "metadata": {},
   "outputs": [],
   "source": [
    "with open(f'{save_path}conditions_order_pancreas.txt', 'w') as filehandle:\n",
    "    json.dump(condition_list, filehandle)"
   ]
  },
  {
   "cell_type": "markdown",
   "metadata": {},
   "source": [
    "# Load existing .txt File"
   ]
  },
  {
   "cell_type": "code",
   "execution_count": 7,
   "metadata": {},
   "outputs": [],
   "source": [
    "with open(f'{save_path}conditions_order_pancreas.txt') as filehandle:\n",
    "    condition_list = json.load(filehandle)"
   ]
  },
  {
   "cell_type": "code",
   "execution_count": 8,
   "metadata": {},
   "outputs": [
    {
     "name": "stdout",
     "output_type": "stream",
     "text": [
      "\n",
      "TEST: 1\n",
      "Reference: ['Pancreas inDrop']\n",
      "Target: ['Pancreas SS2', 'Pancreas CelSeq2', 'Pancreas CelSeq', 'Pancreas Fluidigm C1']\n",
      "\n",
      "TEST: 2\n",
      "Reference: ['Pancreas inDrop', 'Pancreas SS2']\n",
      "Target: ['Pancreas CelSeq2', 'Pancreas CelSeq', 'Pancreas Fluidigm C1']\n",
      "\n",
      "TEST: 3\n",
      "Reference: ['Pancreas inDrop', 'Pancreas SS2', 'Pancreas CelSeq2']\n",
      "Target: ['Pancreas CelSeq', 'Pancreas Fluidigm C1']\n",
      "\n",
      "TEST: 4\n",
      "Reference: ['Pancreas inDrop', 'Pancreas SS2', 'Pancreas CelSeq2', 'Pancreas CelSeq']\n",
      "Target: ['Pancreas Fluidigm C1']\n"
     ]
    }
   ],
   "source": [
    "for i in range(len(condition_list)):\n",
    "    ref_conditions = condition_list[i]['reference']\n",
    "    target_conditions = condition_list[i]['query']\n",
    "    print(\"\\nTEST:\", i+1)\n",
    "    print(\"Reference:\", ref_conditions)\n",
    "    print(\"Target:\", target_conditions)"
   ]
  },
  {
   "cell_type": "markdown",
   "metadata": {},
   "source": [
    "# Same Example for Mouse Brain"
   ]
  },
  {
   "cell_type": "code",
   "execution_count": 9,
   "metadata": {},
   "outputs": [
    {
     "name": "stdout",
     "output_type": "stream",
     "text": [
      "AnnData object with n_obs × n_vars = 56399 × 2000\n",
      "    obs: 'Age', 'Subclass', 'Taxonomy_group', 'Tissue', 'age', 'batch', 'cell_ontology_class', 'cell_ontology_id', 'cell_type', 'class', 'cluster', 'cluster_id', 'louvain', 'reason', 'refined_class', 'region', 'region_subcluster', 'sample_type', 'study', 'subcluster', 'n_counts'\n",
      "    var: 'highly_variable', 'means', 'dispersions', 'dispersions_norm'\n",
      "Saunders 34502\n",
      "Zeisel 7394\n",
      "Rosenberg 6647\n",
      "Tabula_muris 7856\n"
     ]
    }
   ],
   "source": [
    "condition_key = 'study'\n",
    "full_path = f'{save_path}/datasets/mouse_brain_normalized.h5ad'\n",
    "adata = sc.read(full_path)\n",
    "print(adata)\n",
    "for condition in adata.obs[condition_key].unique().tolist():\n",
    "    adata_study = adata[adata.obs[condition_key].isin([condition])].copy()\n",
    "    print(condition, adata_study.X.shape[0])"
   ]
  },
  {
   "cell_type": "code",
   "execution_count": 10,
   "metadata": {},
   "outputs": [
    {
     "data": {
      "text/plain": [
       "[{'reference': ['Saunders'], 'query': ['Tabula_muris', 'Zeisel', 'Rosenberg']},\n",
       " {'reference': ['Saunders', 'Tabula_muris'], 'query': ['Zeisel', 'Rosenberg']},\n",
       " {'reference': ['Saunders', 'Tabula_muris', 'Zeisel'], 'query': ['Rosenberg']}]"
      ]
     },
     "execution_count": 10,
     "metadata": {},
     "output_type": "execute_result"
    }
   ],
   "source": [
    "condition_list = create_conditions_order(adata, condition_key)\n",
    "condition_list"
   ]
  },
  {
   "cell_type": "code",
   "execution_count": 11,
   "metadata": {},
   "outputs": [],
   "source": [
    "with open(f'{save_path}conditions_order_brain.txt', 'w') as filehandle:\n",
    "    json.dump(condition_list, filehandle)"
   ]
  },
  {
   "cell_type": "code",
   "execution_count": 12,
   "metadata": {},
   "outputs": [],
   "source": [
    "with open(f'{save_path}conditions_order_brain.txt') as filehandle:\n",
    "    condition_list = json.load(filehandle)"
   ]
  },
  {
   "cell_type": "code",
   "execution_count": 13,
   "metadata": {},
   "outputs": [
    {
     "name": "stdout",
     "output_type": "stream",
     "text": [
      "\n",
      "TEST: 1\n",
      "Reference: ['Saunders']\n",
      "Target: ['Tabula_muris', 'Zeisel', 'Rosenberg']\n",
      "\n",
      "TEST: 2\n",
      "Reference: ['Saunders', 'Tabula_muris']\n",
      "Target: ['Zeisel', 'Rosenberg']\n",
      "\n",
      "TEST: 3\n",
      "Reference: ['Saunders', 'Tabula_muris', 'Zeisel']\n",
      "Target: ['Rosenberg']\n"
     ]
    }
   ],
   "source": [
    "for i in range(len(condition_list)):\n",
    "    ref_conditions = condition_list[i]['reference']\n",
    "    target_conditions = condition_list[i]['query']\n",
    "    print(\"\\nTEST:\", i+1)\n",
    "    print(\"Reference:\", ref_conditions)\n",
    "    print(\"Target:\", target_conditions)"
   ]
  },
  {
   "cell_type": "code",
   "execution_count": null,
   "metadata": {},
   "outputs": [],
   "source": []
  }
 ],
 "metadata": {
  "kernelspec": {
   "display_name": "masterthesis",
   "language": "python",
   "name": "masterthesis"
  },
  "language_info": {
   "codemirror_mode": {
    "name": "ipython",
    "version": 3
   },
   "file_extension": ".py",
   "mimetype": "text/x-python",
   "name": "python",
   "nbconvert_exporter": "python",
   "pygments_lexer": "ipython3",
   "version": "3.7.7"
  }
 },
 "nbformat": 4,
 "nbformat_minor": 4
}
