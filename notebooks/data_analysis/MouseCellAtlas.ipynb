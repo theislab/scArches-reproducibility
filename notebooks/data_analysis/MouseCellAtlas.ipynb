{
 "cells": [
  {
   "cell_type": "code",
   "execution_count": 1,
   "metadata": {},
   "outputs": [],
   "source": [
    "import os\n",
    "os.chdir(\"../../\")"
   ]
  },
  {
   "cell_type": "code",
   "execution_count": 2,
   "metadata": {},
   "outputs": [],
   "source": [
    "import numpy as np\n",
    "import scanpy as sc\n",
    "import pandas as pd"
   ]
  },
  {
   "cell_type": "code",
   "execution_count": 3,
   "metadata": {},
   "outputs": [],
   "source": [
    "def hvg_batch(adata, batch_key=None, target_genes=2000, flavor='cell_ranger', n_bins=20, adataOut=False):\n",
    "    \"\"\"\n",
    "\n",
    "    Method to select HVGs based on mean dispersions of genes that are highly \n",
    "    variable genes in all batches. Using a the top target_genes per batch by\n",
    "    average normalize dispersion. If target genes still hasn't been reached, \n",
    "    then HVGs in all but one batches are used to fill up. This is continued \n",
    "    until HVGs in a single batch are considered.\n",
    "    \"\"\"\n",
    "    \n",
    "    adata_hvg = adata if adataOut else adata.copy()\n",
    "\n",
    "    n_batches = len(adata_hvg.obs[batch_key].cat.categories)\n",
    "\n",
    "    # Calculate double target genes per dataset\n",
    "    sc.pp.highly_variable_genes(adata_hvg,\n",
    "                                flavor=flavor, \n",
    "                                n_top_genes=target_genes,\n",
    "                                n_bins=n_bins, \n",
    "                                batch_key=batch_key)\n",
    "\n",
    "    nbatch1_dispersions = adata_hvg.var['dispersions_norm'][adata_hvg.var.highly_variable_nbatches >\n",
    "                                                           len(adata_hvg.obs[batch_key].cat.categories)-1]\n",
    "    \n",
    "    nbatch1_dispersions.sort_values(ascending=False, inplace=True)\n",
    "\n",
    "    if len(nbatch1_dispersions) > target_genes:\n",
    "        hvg = nbatch1_dispersions.index[:target_genes]\n",
    "    \n",
    "    else:\n",
    "        enough = False\n",
    "        print(f'Using {len(nbatch1_dispersions)} HVGs from full intersect set')\n",
    "        hvg = nbatch1_dispersions.index[:]\n",
    "        not_n_batches = 1\n",
    "        \n",
    "        while not enough:\n",
    "            target_genes_diff = target_genes - len(hvg)\n",
    "\n",
    "            tmp_dispersions = adata_hvg.var['dispersions_norm'][adata_hvg.var.highly_variable_nbatches ==\n",
    "                                                                (n_batches-not_n_batches)]\n",
    "\n",
    "            if len(tmp_dispersions) < target_genes_diff:\n",
    "                print(f'Using {len(tmp_dispersions)} HVGs from n_batch-{not_n_batches} set')\n",
    "                hvg = hvg.append(tmp_dispersions.index)\n",
    "                not_n_batches += 1\n",
    "\n",
    "            else:\n",
    "                print(f'Using {target_genes_diff} HVGs from n_batch-{not_n_batches} set')\n",
    "                tmp_dispersions.sort_values(ascending=False, inplace=True)\n",
    "                hvg = hvg.append(tmp_dispersions.index[:target_genes_diff])\n",
    "                enough=True\n",
    "\n",
    "    print(f'Using {len(hvg)} HVGs')\n",
    "\n",
    "    if not adataOut:\n",
    "        del adata_hvg\n",
    "        return hvg.tolist()\n",
    "    else:\n",
    "        return adata_hvg[:,hvg].copy()"
   ]
  },
  {
   "cell_type": "code",
   "execution_count": 4,
   "metadata": {},
   "outputs": [],
   "source": [
    "def subsample_selection(adata, tissue_key, frac=0.1):\n",
    "    tissues = adata.obs[tissue_key].unique().tolist()\n",
    "    subsampled_adata = None\n",
    "    for tissue in tissues:\n",
    "        tissue_adata = adata[adata.obs[tissue_key] == tissue]\n",
    "        n_samples = tissue_adata.shape[0]\n",
    "        subsample_idx = np.random.choice(n_samples, int(frac * n_samples), replace=False)\n",
    "        tissue_adata_subsampled = tissue_adata[subsample_idx, :]\n",
    "        subsampled_adata = tissue_adata_subsampled if subsampled_adata is None else subsampled_adata.concatenate(tissue_adata_subsampled)\n",
    "    return subsampled_adata"
   ]
  },
  {
   "cell_type": "code",
   "execution_count": 5,
   "metadata": {},
   "outputs": [
    {
     "data": {
      "text/plain": [
       "AnnData object with n_obs × n_vars = 233445 × 34749 \n",
       "    obs: 'batch', 'tissue', 'sample', 'barcode', 'cell_type', 'marker_gene'"
      ]
     },
     "execution_count": 5,
     "metadata": {},
     "output_type": "execute_result"
    }
   ],
   "source": [
    "adata = sc.read(\"./data/MCA/adata_raw_annotated.h5ad\")\n",
    "adata"
   ]
  },
  {
   "cell_type": "code",
   "execution_count": 4,
   "metadata": {},
   "outputs": [
    {
     "data": {
      "text/plain": [
       "(0.0, 607.0)"
      ]
     },
     "execution_count": 4,
     "metadata": {},
     "output_type": "execute_result"
    }
   ],
   "source": [
    "adata.X.min(), adata.X.max()"
   ]
  },
  {
   "cell_type": "code",
   "execution_count": 5,
   "metadata": {},
   "outputs": [],
   "source": [
    "sc.pp.normalize_total(adata, target_sum=1e4)\n",
    "sc.pp.log1p(adata)"
   ]
  },
  {
   "cell_type": "code",
   "execution_count": 6,
   "metadata": {},
   "outputs": [
    {
     "data": {
      "text/plain": [
       "(0.0, 8.617314)"
      ]
     },
     "execution_count": 6,
     "metadata": {},
     "output_type": "execute_result"
    }
   ],
   "source": [
    "adata.X.min(), adata.X.max()"
   ]
  },
  {
   "cell_type": "code",
   "execution_count": 7,
   "metadata": {},
   "outputs": [],
   "source": [
    "adata.obs['method'] = 'MCA'\n",
    "adata.obs['age'] = '1m'\n",
    "adata.obs['method_age'] = 'MCA - 1m'\n",
    "adata.obs['tissue_age'] = pd.Categorical(adata.obs['tissue'].str.cat(adata.obs['age'], sep=' - '))"
   ]
  },
  {
   "cell_type": "code",
   "execution_count": 8,
   "metadata": {},
   "outputs": [
    {
     "name": "stderr",
     "output_type": "stream",
     "text": [
      "... storing 'method' as categorical\n",
      "... storing 'age' as categorical\n",
      "... storing 'method_age' as categorical\n"
     ]
    }
   ],
   "source": [
    "adata.write_h5ad(\"./data/MCA/MCA_normalized_all.h5ad\")"
   ]
  },
  {
   "cell_type": "code",
   "execution_count": 9,
   "metadata": {},
   "outputs": [
    {
     "data": {
      "text/plain": [
       "AnnData object with n_obs × n_vars = 356213 × 20116 \n",
       "    obs: 'FACS.selection', 'age', 'batch', 'cell', 'cell_ontology_class', 'cell_ontology_id', 'free_annotation', 'method', 'mouse.id', 'n_counts', 'n_genes', 'sex', 'subtissue', 'tissue', 'tissue_free_annotation', 'method_tissue', 'method_age'\n",
       "    var: 'n_cells-0', 'n_cells-1'"
      ]
     },
     "execution_count": 9,
     "metadata": {},
     "output_type": "execute_result"
    }
   ],
   "source": [
    "tabula_senis = sc.read(\"./data/tabula_senis/tabula_senis_normalized_all.h5ad\")\n",
    "tabula_senis"
   ]
  },
  {
   "cell_type": "code",
   "execution_count": 10,
   "metadata": {},
   "outputs": [],
   "source": [
    "shared_genes = list(set(adata.var_names).intersection(set(tabula_senis.var_names)))"
   ]
  },
  {
   "cell_type": "code",
   "execution_count": 11,
   "metadata": {},
   "outputs": [],
   "source": [
    "adata[:, shared_genes].write_h5ad(\"./data/MCA/MCA_shared_normalized_all.h5ad\")"
   ]
  },
  {
   "cell_type": "code",
   "execution_count": 12,
   "metadata": {},
   "outputs": [],
   "source": [
    "del adata"
   ]
  },
  {
   "cell_type": "code",
   "execution_count": 13,
   "metadata": {},
   "outputs": [],
   "source": [
    "tabula_senis[:, shared_genes].write_h5ad(\"./data/tabula_senis/tabula_senis_shared_normalized_all.h5ad\")"
   ]
  },
  {
   "cell_type": "code",
   "execution_count": 14,
   "metadata": {},
   "outputs": [],
   "source": [
    "del tabula_senis"
   ]
  },
  {
   "cell_type": "code",
   "execution_count": 6,
   "metadata": {},
   "outputs": [
    {
     "data": {
      "text/plain": [
       "AnnData object with n_obs × n_vars = 233445 × 17721 \n",
       "    obs: 'batch', 'tissue', 'sample', 'barcode', 'cell_type', 'marker_gene', 'method', 'age', 'method_age', 'tissue_age'"
      ]
     },
     "execution_count": 6,
     "metadata": {},
     "output_type": "execute_result"
    }
   ],
   "source": [
    "adata = sc.read(\"./data/MCA/MCA_shared_normalized_all.h5ad\")\n",
    "adata"
   ]
  },
  {
   "cell_type": "code",
   "execution_count": 5,
   "metadata": {},
   "outputs": [
    {
     "data": {
      "text/plain": [
       "AnnData object with n_obs × n_vars = 356213 × 17721 \n",
       "    obs: 'FACS.selection', 'age', 'batch', 'cell', 'cell_ontology_class', 'cell_ontology_id', 'free_annotation', 'method', 'mouse.id', 'n_counts', 'n_genes', 'sex', 'subtissue', 'tissue', 'tissue_free_annotation', 'method_tissue', 'method_age'\n",
       "    var: 'n_cells-0', 'n_cells-1'"
      ]
     },
     "execution_count": 5,
     "metadata": {},
     "output_type": "execute_result"
    }
   ],
   "source": [
    "tabula_senis = sc.read(\"./data/tabula_senis/tabula_senis_shared_normalized_all.h5ad\")\n",
    "tabula_senis"
   ]
  },
  {
   "cell_type": "code",
   "execution_count": 6,
   "metadata": {},
   "outputs": [
    {
     "data": {
      "text/plain": [
       "View of AnnData object with n_obs × n_vars = 233445 × 2000 \n",
       "    obs: 'batch', 'tissue', 'sample', 'barcode', 'cell_type', 'marker_gene', 'method', 'age', 'method_age', 'tissue_age'"
      ]
     },
     "execution_count": 6,
     "metadata": {},
     "output_type": "execute_result"
    }
   ],
   "source": [
    "adata = adata[:, tabula_senis.var_names]\n",
    "adata"
   ]
  },
  {
   "cell_type": "code",
   "execution_count": 13,
   "metadata": {},
   "outputs": [
    {
     "data": {
      "text/plain": [
       "['Bladder',\n",
       " 'BoneMarrow',\n",
       " 'BoneMarrowcKit',\n",
       " 'Brain',\n",
       " 'EmbryonicMesenchyme',\n",
       " 'EmbryonicStemCells',\n",
       " 'FetalBrain',\n",
       " 'FetalFemaleGonad',\n",
       " 'FetalIntestine',\n",
       " 'FetalLiver',\n",
       " 'FetalLung',\n",
       " 'FetalStomach',\n",
       " 'Kidney',\n",
       " 'Liver',\n",
       " 'Lung',\n",
       " 'Male(fetal)Gonad',\n",
       " 'MammaryGland',\n",
       " 'Muscle',\n",
       " 'NeonatalBrain',\n",
       " 'NeonatalCalvaria',\n",
       " 'NeonatalHeart',\n",
       " 'NeonatalMuscle',\n",
       " 'NeonatalPancreas',\n",
       " 'NeonatalRib',\n",
       " 'NeonatalSkin',\n",
       " 'Ovary',\n",
       " 'Pancreas',\n",
       " 'PeripheralBlood',\n",
       " 'Placenta',\n",
       " 'Prostate',\n",
       " 'SmallIntestine',\n",
       " 'Spleen',\n",
       " 'Stomach',\n",
       " 'Thymus',\n",
       " 'TrophoblastStemCells',\n",
       " 'Uterus']"
      ]
     },
     "execution_count": 13,
     "metadata": {},
     "output_type": "execute_result"
    }
   ],
   "source": [
    "sorted(adata.obs['tissue'].value_counts().index.tolist())"
   ]
  },
  {
   "cell_type": "code",
   "execution_count": 14,
   "metadata": {},
   "outputs": [],
   "source": [
    "adata.obs['tissue'].replace(\"BoneMarrowcKit\", \"BoneMarrow\", inplace=True)"
   ]
  },
  {
   "cell_type": "code",
   "execution_count": 15,
   "metadata": {},
   "outputs": [
    {
     "data": {
      "text/plain": [
       "Marrow               54737\n",
       "Spleen               39552\n",
       "Limb_Muscle          32722\n",
       "Lung                 29758\n",
       "Tongue               24415\n",
       "Kidney               23480\n",
       "Mammary_Gland        15577\n",
       "Brain_Myeloid        13417\n",
       "Thymus               13322\n",
       "Bladder              11377\n",
       "Trachea              11136\n",
       "Large_Intestine      10198\n",
       "Liver                10153\n",
       "Heart                 9669\n",
       "Pancreas              9585\n",
       "Skin                  9314\n",
       "Heart_and_Aorta       8613\n",
       "Brain_Non-Myeloid     7249\n",
       "Fat                   6777\n",
       "SCAT                  3755\n",
       "GAT                   3406\n",
       "MAT                   3014\n",
       "BAT                   2223\n",
       "Diaphragm             1858\n",
       "Aorta                  906\n",
       "Name: tissue, dtype: int64"
      ]
     },
     "execution_count": 15,
     "metadata": {},
     "output_type": "execute_result"
    }
   ],
   "source": [
    "tabula_senis.obs['tissue'].value_counts()"
   ]
  },
  {
   "cell_type": "code",
   "execution_count": 16,
   "metadata": {},
   "outputs": [],
   "source": [
    "tabula_senis.obs['tissue'].replace(\"Marrow\", \"BoneMarrow\", inplace=True)\n",
    "tabula_senis.obs['tissue'].replace(\"Brain_Myeloid\", \"Brain\", inplace=True)\n",
    "tabula_senis.obs['tissue'].replace(\"Brain_Non-Myeloid\", \"Brain\", inplace=True)\n",
    "tabula_senis.obs['tissue'].replace(\"Mammary_Gland\", \"MammaryGland\", inplace=True)"
   ]
  },
  {
   "cell_type": "code",
   "execution_count": 17,
   "metadata": {},
   "outputs": [
    {
     "data": {
      "text/plain": [
       "['Spleen',\n",
       " 'Bladder',\n",
       " 'Brain',\n",
       " 'Pancreas',\n",
       " 'BoneMarrow',\n",
       " 'Liver',\n",
       " 'Thymus',\n",
       " 'MammaryGland',\n",
       " 'Lung',\n",
       " 'Kidney']"
      ]
     },
     "execution_count": 17,
     "metadata": {},
     "output_type": "execute_result"
    }
   ],
   "source": [
    "shared_tissues = list(set(adata.obs['tissue'].unique().tolist()).intersection(set(tabula_senis.obs['tissue'].unique().tolist())))\n",
    "shared_tissues"
   ]
  },
  {
   "cell_type": "code",
   "execution_count": 18,
   "metadata": {},
   "outputs": [],
   "source": [
    "shared_tissues += ['Stomach']"
   ]
  },
  {
   "cell_type": "code",
   "execution_count": 19,
   "metadata": {},
   "outputs": [
    {
     "data": {
      "text/plain": [
       "View of AnnData object with n_obs × n_vars = 228207 × 5000 \n",
       "    obs: 'FACS.selection', 'age', 'batch', 'cell', 'cell_ontology_class', 'cell_ontology_id', 'free_annotation', 'method', 'mouse.id', 'n_counts', 'n_genes', 'sex', 'subtissue', 'tissue', 'tissue_free_annotation', 'method_tissue', 'method_age'\n",
       "    var: 'n_cells-0', 'n_cells-1', 'highly_variable', 'means', 'dispersions', 'dispersions_norm', 'highly_variable_nbatches', 'highly_variable_intersection'"
      ]
     },
     "execution_count": 19,
     "metadata": {},
     "output_type": "execute_result"
    }
   ],
   "source": [
    "tabula_senis = tabula_senis[tabula_senis.obs['tissue'].isin(shared_tissues)]\n",
    "tabula_senis"
   ]
  },
  {
   "cell_type": "code",
   "execution_count": 20,
   "metadata": {},
   "outputs": [
    {
     "data": {
      "text/plain": [
       "View of AnnData object with n_obs × n_vars = 100309 × 5000 \n",
       "    obs: 'batch', 'tissue', 'sample', 'barcode', 'cell_type', 'marker_gene', 'method', 'age', 'method_age', 'tissue_age'"
      ]
     },
     "execution_count": 20,
     "metadata": {},
     "output_type": "execute_result"
    }
   ],
   "source": [
    "adata = adata[adata.obs['tissue'].isin(shared_tissues)]\n",
    "adata"
   ]
  },
  {
   "cell_type": "code",
   "execution_count": 21,
   "metadata": {},
   "outputs": [
    {
     "name": "stderr",
     "output_type": "stream",
     "text": [
      "Trying to set attribute `.obs` of view, making a copy.\n"
     ]
    }
   ],
   "source": [
    "tabula_senis.obs['cell_type'] = tabula_senis.obs['cell_ontology_class']"
   ]
  },
  {
   "cell_type": "code",
   "execution_count": 22,
   "metadata": {},
   "outputs": [
    {
     "name": "stderr",
     "output_type": "stream",
     "text": [
      "... storing 'FACS.selection' as categorical\n",
      "... storing 'age' as categorical\n",
      "... storing 'barcode' as categorical\n",
      "... storing 'cell' as categorical\n",
      "... storing 'cell_ontology_class' as categorical\n",
      "... storing 'cell_ontology_id' as categorical\n",
      "... storing 'cell_type' as categorical\n",
      "... storing 'free_annotation' as categorical\n",
      "... storing 'marker_gene' as categorical\n",
      "... storing 'method' as categorical\n",
      "... storing 'method_age' as categorical\n",
      "... storing 'method_tissue' as categorical\n",
      "... storing 'mouse.id' as categorical\n",
      "... storing 'sample' as categorical\n",
      "... storing 'sex' as categorical\n",
      "... storing 'subtissue' as categorical\n",
      "... storing 'tissue' as categorical\n",
      "... storing 'tissue_age' as categorical\n",
      "... storing 'tissue_free_annotation' as categorical\n"
     ]
    }
   ],
   "source": [
    "adata.concatenate(tabula_senis).write_h5ad(\"./data/tabula_senis_mca/tabula_senis_mca_normalized_hvg_all.h5ad\")"
   ]
  },
  {
   "cell_type": "code",
   "execution_count": 23,
   "metadata": {},
   "outputs": [
    {
     "data": {
      "text/plain": [
       "AnnData object with n_obs × n_vars = 114101 × 5000 \n",
       "    obs: 'FACS.selection', 'age', 'batch', 'cell', 'cell_ontology_class', 'cell_ontology_id', 'cell_type', 'free_annotation', 'method', 'method_age', 'method_tissue', 'mouse.id', 'n_counts', 'n_genes', 'sex', 'subtissue', 'tissue', 'tissue_free_annotation'\n",
       "    var: 'n_cells-0', 'n_cells-1', 'highly_variable', 'means', 'dispersions', 'dispersions_norm', 'highly_variable_nbatches', 'highly_variable_intersection'"
      ]
     },
     "execution_count": 23,
     "metadata": {},
     "output_type": "execute_result"
    }
   ],
   "source": [
    "subsampled_adata = subsample_selection(tabula_senis, \"tissue\", 0.5)\n",
    "subsampled_adata"
   ]
  },
  {
   "cell_type": "code",
   "execution_count": 24,
   "metadata": {},
   "outputs": [
    {
     "name": "stderr",
     "output_type": "stream",
     "text": [
      "... storing 'FACS.selection' as categorical\n",
      "... storing 'age' as categorical\n",
      "... storing 'barcode' as categorical\n",
      "... storing 'cell' as categorical\n",
      "... storing 'cell_ontology_class' as categorical\n",
      "... storing 'cell_ontology_id' as categorical\n",
      "... storing 'cell_type' as categorical\n",
      "... storing 'free_annotation' as categorical\n",
      "... storing 'marker_gene' as categorical\n",
      "... storing 'method' as categorical\n",
      "... storing 'method_age' as categorical\n",
      "... storing 'method_tissue' as categorical\n",
      "... storing 'mouse.id' as categorical\n",
      "... storing 'sample' as categorical\n",
      "... storing 'sex' as categorical\n",
      "... storing 'subtissue' as categorical\n",
      "... storing 'tissue' as categorical\n",
      "... storing 'tissue_age' as categorical\n",
      "... storing 'tissue_free_annotation' as categorical\n"
     ]
    }
   ],
   "source": [
    "subsampled_adata.concatenate(adata).write_h5ad(\"./data/tabula_senis_mca/tabula_senis_mca_normalized_hvg_subsampled.h5ad\")"
   ]
  },
  {
   "cell_type": "code",
   "execution_count": 4,
   "metadata": {},
   "outputs": [
    {
     "data": {
      "text/plain": [
       "AnnData object with n_obs × n_vars = 133340 × 18756 \n",
       "    obs: 'barcode', 'batch', 'cell_type', 'cell_type_union', 'channel', 'log_counts', 'marker_gene', 'n_counts', 'n_genes', 'percent_mito', 'sample', 'sample_id', 'sex', 'size_factors', 'study', 'tissue'\n",
       "    var: 'gene_ids-1-1'\n",
       "    layers: 'counts'"
      ]
     },
     "execution_count": 4,
     "metadata": {},
     "output_type": "execute_result"
    }
   ],
   "source": [
    "adata = sc.read(\"./data/atlases_merged_anno_new.h5ad\")\n",
    "adata"
   ]
  },
  {
   "cell_type": "code",
   "execution_count": 5,
   "metadata": {},
   "outputs": [],
   "source": [
    "adata.X = adata.layers['counts'].A"
   ]
  },
  {
   "cell_type": "code",
   "execution_count": 6,
   "metadata": {},
   "outputs": [],
   "source": [
    "del adata.layers['counts']"
   ]
  },
  {
   "cell_type": "code",
   "execution_count": 7,
   "metadata": {},
   "outputs": [],
   "source": [
    "sc.pp.normalize_total(adata, target_sum=1e4)\n",
    "sc.pp.log1p(adata)"
   ]
  },
  {
   "cell_type": "code",
   "execution_count": 8,
   "metadata": {},
   "outputs": [
    {
     "data": {
      "text/plain": [
       "(0.0, 8.826167)"
      ]
     },
     "execution_count": 8,
     "metadata": {},
     "output_type": "execute_result"
    }
   ],
   "source": [
    "adata.X.min(), adata.X.max()"
   ]
  },
  {
   "cell_type": "code",
   "execution_count": 9,
   "metadata": {},
   "outputs": [],
   "source": [
    "adata.obs['age'] = '3m'\n",
    "adata.obs['method'] = adata.obs['study'].values\n",
    "adata.obs['method'].replace('TM-smartseq2', 'facs', inplace=True)\n",
    "adata.obs['method'].replace('TM-droplet', 'droplet', inplace=True)"
   ]
  },
  {
   "cell_type": "code",
   "execution_count": 10,
   "metadata": {},
   "outputs": [],
   "source": [
    "adata.obs['Tech'] = 'MCA'\n",
    "adata.obs.loc[adata.obs['method'] != 'MCA', 'Tech'] = 'Tabula Muris'"
   ]
  },
  {
   "cell_type": "code",
   "execution_count": 11,
   "metadata": {},
   "outputs": [],
   "source": [
    "adata.obs['method_age'] = pd.Categorical(adata.obs['method'].str.cat(adata.obs['age'], sep=' - '))"
   ]
  },
  {
   "cell_type": "code",
   "execution_count": 12,
   "metadata": {},
   "outputs": [
    {
     "data": {
      "text/plain": [
       "MCA        72502\n",
       "droplet    35553\n",
       "facs       25285\n",
       "Name: method, dtype: int64"
      ]
     },
     "execution_count": 12,
     "metadata": {},
     "output_type": "execute_result"
    }
   ],
   "source": [
    "adata.obs['method'].value_counts()"
   ]
  },
  {
   "cell_type": "code",
   "execution_count": 13,
   "metadata": {},
   "outputs": [
    {
     "data": {
      "text/plain": [
       "MCA - 3m        72502\n",
       "droplet - 3m    35553\n",
       "facs - 3m       25285\n",
       "Name: method_age, dtype: int64"
      ]
     },
     "execution_count": 13,
     "metadata": {},
     "output_type": "execute_result"
    }
   ],
   "source": [
    "adata.obs['method_age'].value_counts()"
   ]
  },
  {
   "cell_type": "code",
   "execution_count": 14,
   "metadata": {},
   "outputs": [
    {
     "data": {
      "text/plain": [
       "MCA             72502\n",
       "Tabula Muris    60838\n",
       "Name: Tech, dtype: int64"
      ]
     },
     "execution_count": 14,
     "metadata": {},
     "output_type": "execute_result"
    }
   ],
   "source": [
    "adata.obs['Tech'].value_counts()"
   ]
  },
  {
   "cell_type": "code",
   "execution_count": null,
   "metadata": {},
   "outputs": [],
   "source": [
    "adata_old = sc.read(\"./data/tabula_senis_mca/tabula_senis_mca_normalized_hvg_all.h5ad\")\n",
    "adata_old"
   ]
  },
  {
   "cell_type": "code",
   "execution_count": null,
   "metadata": {},
   "outputs": [],
   "source": [
    "adata_old = adata_old[adata_old.obs['age'] != '3m']\n",
    "adata_old = adata_old[adata_old.obs['method'] != \"MCA\"]\n",
    "adata_old"
   ]
  },
  {
   "cell_type": "code",
   "execution_count": null,
   "metadata": {},
   "outputs": [],
   "source": [
    "adata_old.obs['Tech'] = 'Tabula Senis'"
   ]
  },
  {
   "cell_type": "code",
   "execution_count": null,
   "metadata": {},
   "outputs": [],
   "source": [
    "adata = adata_old.concatenate(adata)\n",
    "adata"
   ]
  },
  {
   "cell_type": "code",
   "execution_count": null,
   "metadata": {},
   "outputs": [],
   "source": [
    "adata.obs['Tech'].value_counts()"
   ]
  },
  {
   "cell_type": "code",
   "execution_count": null,
   "metadata": {},
   "outputs": [],
   "source": [
    "adata.obs['method'].value_counts()"
   ]
  },
  {
   "cell_type": "code",
   "execution_count": null,
   "metadata": {},
   "outputs": [],
   "source": [
    "adata.obs['age'].value_counts()"
   ]
  },
  {
   "cell_type": "code",
   "execution_count": null,
   "metadata": {},
   "outputs": [],
   "source": [
    "adata.obs['method_age'].value_counts()"
   ]
  },
  {
   "cell_type": "code",
   "execution_count": null,
   "metadata": {},
   "outputs": [],
   "source": [
    "adata.obs['tissue'].replace('Mammary', 'Mammary_Gland', inplace=True)\n",
    "adata.obs['tissue'].replace('MammaryGland', 'Mammary_Gland', inplace=True)"
   ]
  },
  {
   "cell_type": "code",
   "execution_count": null,
   "metadata": {},
   "outputs": [],
   "source": [
    "adata.obs['tissue'].value_counts()"
   ]
  },
  {
   "cell_type": "code",
   "execution_count": 28,
   "metadata": {},
   "outputs": [
    {
     "name": "stderr",
     "output_type": "stream",
     "text": [
      "... storing 'FACS.selection' as categorical\n",
      "... storing 'Tech' as categorical\n",
      "... storing 'age' as categorical\n",
      "... storing 'barcode' as categorical\n",
      "... storing 'cell' as categorical\n",
      "... storing 'cell_ontology_class' as categorical\n",
      "... storing 'cell_ontology_id' as categorical\n",
      "... storing 'cell_type' as categorical\n",
      "... storing 'cell_type_union' as categorical\n",
      "... storing 'channel' as categorical\n",
      "... storing 'free_annotation' as categorical\n",
      "... storing 'marker_gene' as categorical\n",
      "... storing 'method' as categorical\n",
      "... storing 'method_age' as categorical\n",
      "... storing 'method_tissue' as categorical\n",
      "... storing 'mouse.id' as categorical\n",
      "... storing 'sample' as categorical\n",
      "... storing 'sample_id' as categorical\n",
      "... storing 'sex' as categorical\n",
      "... storing 'study' as categorical\n",
      "... storing 'subtissue' as categorical\n",
      "... storing 'tissue' as categorical\n",
      "... storing 'tissue_age' as categorical\n",
      "... storing 'tissue_free_annotation' as categorical\n"
     ]
    }
   ],
   "source": [
    "adata.write_h5ad(\"./data/tabula_senis_mca/tabula_senis_mca_new_normalized_hvg_all.h5ad\")"
   ]
  },
  {
   "cell_type": "code",
   "execution_count": 29,
   "metadata": {},
   "outputs": [
    {
     "data": {
      "text/plain": [
       "View of AnnData object with n_obs × n_vars = 178679 × 5000 \n",
       "    obs: 'FACS.selection', 'Tech', 'age', 'barcode', 'batch', 'cell', 'cell_ontology_class', 'cell_ontology_id', 'cell_type', 'cell_type_union', 'channel', 'free_annotation', 'log_counts', 'marker_gene', 'method', 'method_age', 'method_tissue', 'mouse.id', 'n_counts', 'n_genes', 'percent_mito', 'sample', 'sample_id', 'sex', 'size_factors', 'study', 'subtissue', 'tissue', 'tissue_age', 'tissue_free_annotation'\n",
       "    var: 'n_cells-0-1-0', 'n_cells-1-1-0', 'highly_variable-1-0', 'means-1-0', 'dispersions-1-0', 'dispersions_norm-1-0', 'highly_variable_nbatches-1-0', 'highly_variable_intersection-1-0', 'gene_ids-1-1-1'"
      ]
     },
     "execution_count": 29,
     "metadata": {},
     "output_type": "execute_result"
    }
   ],
   "source": [
    "senis = adata[adata.obs['age'] != '3m']\n",
    "senis"
   ]
  },
  {
   "cell_type": "code",
   "execution_count": 30,
   "metadata": {},
   "outputs": [
    {
     "data": {
      "text/plain": [
       "AnnData object with n_obs × n_vars = 107202 × 5000 \n",
       "    obs: 'FACS.selection', 'Tech', 'age', 'barcode', 'batch', 'cell', 'cell_ontology_class', 'cell_ontology_id', 'cell_type', 'cell_type_union', 'channel', 'free_annotation', 'log_counts', 'marker_gene', 'method', 'method_age', 'method_tissue', 'mouse.id', 'n_counts', 'n_genes', 'percent_mito', 'sample', 'sample_id', 'sex', 'size_factors', 'study', 'subtissue', 'tissue', 'tissue_age', 'tissue_free_annotation'\n",
       "    var: 'n_cells-0-1-0', 'n_cells-1-1-0', 'highly_variable-1-0', 'means-1-0', 'dispersions-1-0', 'dispersions_norm-1-0', 'highly_variable_nbatches-1-0', 'highly_variable_intersection-1-0', 'gene_ids-1-1-1'"
      ]
     },
     "execution_count": 30,
     "metadata": {},
     "output_type": "execute_result"
    }
   ],
   "source": [
    "senis = subsample_selection(senis, 'tissue', 0.6)\n",
    "senis"
   ]
  },
  {
   "cell_type": "code",
   "execution_count": 31,
   "metadata": {},
   "outputs": [
    {
     "data": {
      "text/plain": [
       "AnnData object with n_obs × n_vars = 213871 × 5000 \n",
       "    obs: 'FACS.selection', 'Tech', 'age', 'barcode', 'batch', 'cell', 'cell_ontology_class', 'cell_ontology_id', 'cell_type', 'cell_type_union', 'channel', 'free_annotation', 'log_counts', 'marker_gene', 'method', 'method_age', 'method_tissue', 'mouse.id', 'n_counts', 'n_genes', 'percent_mito', 'sample', 'sample_id', 'sex', 'size_factors', 'study', 'subtissue', 'tissue', 'tissue_age', 'tissue_free_annotation'\n",
       "    var: 'n_cells-0-1-0', 'n_cells-1-1-0', 'highly_variable-1-0', 'means-1-0', 'dispersions-1-0', 'dispersions_norm-1-0', 'highly_variable_nbatches-1-0', 'highly_variable_intersection-1-0', 'gene_ids-1-1-1'"
      ]
     },
     "execution_count": 31,
     "metadata": {},
     "output_type": "execute_result"
    }
   ],
   "source": [
    "adata = senis.concatenate(subsample_selection(adata[adata.obs['age'] == '3m'], 'tissue', 0.8))\n",
    "adata"
   ]
  },
  {
   "cell_type": "code",
   "execution_count": 32,
   "metadata": {},
   "outputs": [
    {
     "name": "stderr",
     "output_type": "stream",
     "text": [
      "... storing 'FACS.selection' as categorical\n",
      "... storing 'Tech' as categorical\n",
      "... storing 'age' as categorical\n",
      "... storing 'barcode' as categorical\n",
      "... storing 'cell' as categorical\n",
      "... storing 'cell_ontology_class' as categorical\n",
      "... storing 'cell_ontology_id' as categorical\n",
      "... storing 'cell_type' as categorical\n",
      "... storing 'cell_type_union' as categorical\n",
      "... storing 'channel' as categorical\n",
      "... storing 'free_annotation' as categorical\n",
      "... storing 'marker_gene' as categorical\n",
      "... storing 'method' as categorical\n",
      "... storing 'method_age' as categorical\n",
      "... storing 'method_tissue' as categorical\n",
      "... storing 'mouse.id' as categorical\n",
      "... storing 'sample' as categorical\n",
      "... storing 'sample_id' as categorical\n",
      "... storing 'sex' as categorical\n",
      "... storing 'study' as categorical\n",
      "... storing 'subtissue' as categorical\n",
      "... storing 'tissue' as categorical\n",
      "... storing 'tissue_free_annotation' as categorical\n"
     ]
    }
   ],
   "source": [
    "adata.write_h5ad(\"./data/tabula_senis_mca/tabula_senis_mca_new_normalized_hvg_subsampled.h5ad\")"
   ]
  },
  {
   "cell_type": "code",
   "execution_count": 16,
   "metadata": {},
   "outputs": [
    {
     "data": {
      "text/plain": [
       "AnnData object with n_obs × n_vars = 312019 × 5000 \n",
       "    obs: 'FACS.selection', 'Tech', 'age', 'barcode', 'batch', 'cell', 'cell_ontology_class', 'cell_ontology_id', 'cell_type', 'cell_type_union', 'channel', 'free_annotation', 'log_counts', 'marker_gene', 'method', 'method_age', 'method_tissue', 'mouse.id', 'n_counts', 'n_genes', 'percent_mito', 'sample', 'sample_id', 'sex', 'size_factors', 'study', 'subtissue', 'tissue', 'tissue_age', 'tissue_free_annotation'\n",
       "    var: 'n_cells-0-1-0', 'n_cells-1-1-0', 'highly_variable-1-0', 'means-1-0', 'dispersions-1-0', 'dispersions_norm-1-0', 'highly_variable_nbatches-1-0', 'highly_variable_intersection-1-0', 'gene_ids-1-1-1'"
      ]
     },
     "execution_count": 16,
     "metadata": {},
     "output_type": "execute_result"
    }
   ],
   "source": [
    "adata_new = sc.read(\"./data/tabula_senis_mca/tabula_senis_mca_new_normalized_hvg_all.h5ad\")\n",
    "adata_new"
   ]
  },
  {
   "cell_type": "code",
   "execution_count": 17,
   "metadata": {},
   "outputs": [
    {
     "data": {
      "text/plain": [
       "AnnData object with n_obs × n_vars = 328516 × 5000 \n",
       "    obs: 'FACS.selection', 'age', 'barcode', 'batch', 'cell', 'cell_ontology_class', 'cell_ontology_id', 'cell_type', 'free_annotation', 'marker_gene', 'method', 'method_age', 'method_tissue', 'mouse.id', 'n_counts', 'n_genes', 'sample', 'sex', 'subtissue', 'tissue', 'tissue_age', 'tissue_free_annotation'\n",
       "    var: 'n_cells-0-1', 'n_cells-1-1', 'highly_variable-1', 'means-1', 'dispersions-1', 'dispersions_norm-1', 'highly_variable_nbatches-1', 'highly_variable_intersection-1'"
      ]
     },
     "execution_count": 17,
     "metadata": {},
     "output_type": "execute_result"
    }
   ],
   "source": [
    "adata_old = sc.read(\"./data/tabula_senis_mca/tabula_senis_mca_normalized_hvg_all.h5ad\")\n",
    "adata_old"
   ]
  },
  {
   "cell_type": "code",
   "execution_count": 18,
   "metadata": {},
   "outputs": [
    {
     "data": {
      "text/plain": [
       "Tabula Senis    178679\n",
       "MCA              72502\n",
       "Tabula Muris     60838\n",
       "Name: Tech, dtype: int64"
      ]
     },
     "execution_count": 18,
     "metadata": {},
     "output_type": "execute_result"
    }
   ],
   "source": [
    "adata_new.obs['Tech'].value_counts()"
   ]
  },
  {
   "cell_type": "code",
   "execution_count": 41,
   "metadata": {},
   "outputs": [
    {
     "data": {
      "text/plain": [
       "MCA - 1m         100309\n",
       "droplet - 30m     44183\n",
       "droplet - 18m     30194\n",
       "droplet - 21m     26236\n",
       "droplet - 3m      26004\n",
       "droplet - 24m     24748\n",
       "facs - 3m         23524\n",
       "facs - 18m        20739\n",
       "facs - 24m        17081\n",
       "droplet - 1m      14770\n",
       "facs - 21m          728\n",
       "Name: method_age, dtype: int64"
      ]
     },
     "execution_count": 41,
     "metadata": {},
     "output_type": "execute_result"
    }
   ],
   "source": [
    "adata_old.obs['method_age'].value_counts()"
   ]
  },
  {
   "cell_type": "code",
   "execution_count": 21,
   "metadata": {},
   "outputs": [],
   "source": [
    "mca_new = adata_new[adata_new.obs['Tech'] == 'MCA']\n",
    "mca_old = adata_old[adata_old.obs['method'] == 'MCA']"
   ]
  },
  {
   "cell_type": "code",
   "execution_count": 22,
   "metadata": {},
   "outputs": [],
   "source": [
    "muris_new = adata_new[adata_new.obs['Tech'] == 'Tabula Muris']\n",
    "muris_old = adata_old[adata_old.obs['age'] == '3m']"
   ]
  },
  {
   "cell_type": "code",
   "execution_count": 23,
   "metadata": {},
   "outputs": [],
   "source": [
    "mca_new.obs.index = mca_new.obs.index.map(lambda x: x.split(\"-\")[0])\n",
    "mca_old.obs.index = mca_old.obs.index.map(lambda x: x.split(\"-\")[0])"
   ]
  },
  {
   "cell_type": "code",
   "execution_count": 24,
   "metadata": {},
   "outputs": [],
   "source": [
    "muris_new.obs.index = muris_new.obs.index.map(lambda x: x.split(\"-\")[0])\n",
    "muris_old.obs.index = muris_old.obs.index.map(lambda x: x.split(\"-\")[0])"
   ]
  },
  {
   "cell_type": "code",
   "execution_count": 25,
   "metadata": {},
   "outputs": [
    {
     "data": {
      "text/plain": [
       "((72502, 5000), (100309, 5000))"
      ]
     },
     "execution_count": 25,
     "metadata": {},
     "output_type": "execute_result"
    }
   ],
   "source": [
    "mca_new.shape, mca_old.shape"
   ]
  },
  {
   "cell_type": "code",
   "execution_count": 26,
   "metadata": {},
   "outputs": [
    {
     "data": {
      "text/plain": [
       "((60838, 5000), (49528, 5000))"
      ]
     },
     "execution_count": 26,
     "metadata": {},
     "output_type": "execute_result"
    }
   ],
   "source": [
    "muris_new.shape, muris_old.shape"
   ]
  },
  {
   "cell_type": "code",
   "execution_count": 42,
   "metadata": {},
   "outputs": [],
   "source": [
    "muris_shared_index = muris_new.obs.merge(muris_old.obs, on='index').index.tolist()\n",
    "mca_shared_index = mca_new.obs.merge(mca_old.obs, on='index').index.tolist()"
   ]
  },
  {
   "cell_type": "code",
   "execution_count": 28,
   "metadata": {},
   "outputs": [
    {
     "data": {
      "text/plain": [
       "View of AnnData object with n_obs × n_vars = 23128 × 5000 \n",
       "    obs: 'FACS.selection', 'age', 'barcode', 'batch', 'cell', 'cell_ontology_class', 'cell_ontology_id', 'cell_type', 'free_annotation', 'marker_gene', 'method', 'method_age', 'method_tissue', 'mouse.id', 'n_counts', 'n_genes', 'sample', 'sex', 'subtissue', 'tissue', 'tissue_age', 'tissue_free_annotation'\n",
       "    var: 'n_cells-0-1', 'n_cells-1-1', 'highly_variable-1', 'means-1', 'dispersions-1', 'dispersions_norm-1', 'highly_variable_nbatches-1', 'highly_variable_intersection-1'"
      ]
     },
     "execution_count": 28,
     "metadata": {},
     "output_type": "execute_result"
    }
   ],
   "source": [
    "muris_shared = muris_old[muris_shared_index]\n",
    "muris_shared"
   ]
  },
  {
   "cell_type": "code",
   "execution_count": 29,
   "metadata": {},
   "outputs": [
    {
     "name": "stderr",
     "output_type": "stream",
     "text": [
      "Trying to set attribute `.obs` of view, making a copy.\n"
     ]
    }
   ],
   "source": [
    "muris_shared.obs['cell_type_union'] = muris_new[muris_shared_index].obs['cell_type_union']"
   ]
  },
  {
   "cell_type": "code",
   "execution_count": 30,
   "metadata": {},
   "outputs": [],
   "source": [
    "muris_dict = muris_shared.obs.groupby(['cell_ontology_class', 'cell_type_union']).size().to_dict()"
   ]
  },
  {
   "cell_type": "code",
   "execution_count": 31,
   "metadata": {},
   "outputs": [],
   "source": [
    "cell_type_map = {}\n",
    "for (cell_type_lvl2, cell_type_lvl1) in muris_dict.keys():\n",
    "    cell_type_lvl2_population = len(muris_shared[muris_shared.obs['cell_ontology_class'] == cell_type_lvl2])\n",
    "    if muris_dict[(cell_type_lvl2, cell_type_lvl1)] >= 0.5 * cell_type_lvl2_population:\n",
    "        cell_type_map[cell_type_lvl2] = cell_type_lvl1"
   ]
  },
  {
   "cell_type": "code",
   "execution_count": 33,
   "metadata": {},
   "outputs": [
    {
     "data": {
      "text/plain": [
       "View of AnnData object with n_obs × n_vars = 178679 × 5000 \n",
       "    obs: 'FACS.selection', 'Tech', 'age', 'barcode', 'batch', 'cell', 'cell_ontology_class', 'cell_ontology_id', 'cell_type', 'cell_type_union', 'channel', 'free_annotation', 'log_counts', 'marker_gene', 'method', 'method_age', 'method_tissue', 'mouse.id', 'n_counts', 'n_genes', 'percent_mito', 'sample', 'sample_id', 'sex', 'size_factors', 'study', 'subtissue', 'tissue', 'tissue_age', 'tissue_free_annotation'\n",
       "    var: 'n_cells-0-1-0', 'n_cells-1-1-0', 'highly_variable-1-0', 'means-1-0', 'dispersions-1-0', 'dispersions_norm-1-0', 'highly_variable_nbatches-1-0', 'highly_variable_intersection-1-0', 'gene_ids-1-1-1'"
      ]
     },
     "execution_count": 33,
     "metadata": {},
     "output_type": "execute_result"
    }
   ],
   "source": [
    "senis = adata_new[adata_new.obs['Tech'] == 'Tabula Senis']\n",
    "senis"
   ]
  },
  {
   "cell_type": "code",
   "execution_count": 36,
   "metadata": {},
   "outputs": [],
   "source": [
    "senis.obs['cell_type_union'] = senis.obs['cell_ontology_class'].map(lambda x: cell_type_map[x] if x in cell_type_map.keys() else x)"
   ]
  },
  {
   "cell_type": "code",
   "execution_count": 50,
   "metadata": {},
   "outputs": [
    {
     "data": {
      "text/plain": [
       "View of AnnData object with n_obs × n_vars = 71437 × 5000 \n",
       "    obs: 'FACS.selection', 'Tech', 'age', 'barcode', 'batch', 'cell', 'cell_ontology_class', 'cell_ontology_id', 'cell_type', 'cell_type_union', 'channel', 'free_annotation', 'log_counts', 'marker_gene', 'method', 'method_age', 'method_tissue', 'mouse.id', 'n_counts', 'n_genes', 'percent_mito', 'sample', 'sample_id', 'sex', 'size_factors', 'study', 'subtissue', 'tissue', 'tissue_age', 'tissue_free_annotation'\n",
       "    var: 'n_cells-0-1-0', 'n_cells-1-1-0', 'highly_variable-1-0', 'means-1-0', 'dispersions-1-0', 'dispersions_norm-1-0', 'highly_variable_nbatches-1-0', 'highly_variable_intersection-1-0', 'gene_ids-1-1-1'"
      ]
     },
     "execution_count": 50,
     "metadata": {},
     "output_type": "execute_result"
    }
   ],
   "source": [
    "mca_shared = mca_new[mca_shared_index]\n",
    "mca_shared"
   ]
  },
  {
   "cell_type": "code",
   "execution_count": 51,
   "metadata": {},
   "outputs": [],
   "source": [
    "mca_dict = mca_shared.obs.groupby(['cell_type', 'cell_type_union']).size().to_dict()"
   ]
  },
  {
   "cell_type": "code",
   "execution_count": 54,
   "metadata": {},
   "outputs": [],
   "source": [
    "cell_type_map = {}\n",
    "for (cell_type_lvl2, cell_type_lvl1) in muris_dict.keys():\n",
    "    cell_type_lvl2_population = len(muris_shared[muris_shared.obs['cell_ontology_class'] == cell_type_lvl2])\n",
    "    if muris_dict[(cell_type_lvl2, cell_type_lvl1)] >= 0.5 * cell_type_lvl2_population:\n",
    "        cell_type_map[cell_type_lvl2] = cell_type_lvl1"
   ]
  },
  {
   "cell_type": "code",
   "execution_count": 67,
   "metadata": {},
   "outputs": [],
   "source": [
    "mca_old.obs['cell_type_union'] = mca_old.obs['cell_type'].map(lambda x: cell_type_map[x] if x in cell_type_map.keys() else x)"
   ]
  },
  {
   "cell_type": "code",
   "execution_count": 70,
   "metadata": {},
   "outputs": [],
   "source": [
    "mca_old.obs['Tech'] = 'MCA'"
   ]
  },
  {
   "cell_type": "code",
   "execution_count": 80,
   "metadata": {},
   "outputs": [
    {
     "name": "stderr",
     "output_type": "stream",
     "text": [
      "Observation names are not unique. To make them unique, call `.obs_names_make_unique`.\n",
      "Or pass `index_unique!=None` to `.concatenate`.\n"
     ]
    },
    {
     "data": {
      "text/plain": [
       "AnnData object with n_obs × n_vars = 312019 × 5000 \n",
       "    obs: 'FACS.selection', 'Tech', 'age', 'barcode', 'batch', 'cell', 'cell_ontology_class', 'cell_ontology_id', 'cell_type', 'cell_type_union', 'channel', 'free_annotation', 'log_counts', 'marker_gene', 'method', 'method_age', 'method_tissue', 'mouse.id', 'n_counts', 'n_genes', 'percent_mito', 'sample', 'sample_id', 'sex', 'size_factors', 'study', 'subtissue', 'tissue', 'tissue_age', 'tissue_free_annotation'\n",
       "    var: 'n_cells-0-1-0', 'n_cells-1-1-0', 'highly_variable-1-0', 'means-1-0', 'dispersions-1-0', 'dispersions_norm-1-0', 'highly_variable_nbatches-1-0', 'highly_variable_intersection-1-0', 'gene_ids-1-1-1'"
      ]
     },
     "execution_count": 80,
     "metadata": {},
     "output_type": "execute_result"
    }
   ],
   "source": [
    "adata = senis.concatenate(muris_new, mca_new)\n",
    "adata"
   ]
  },
  {
   "cell_type": "code",
   "execution_count": 81,
   "metadata": {},
   "outputs": [
    {
     "data": {
      "text/plain": [
       "Tabula Senis    178679\n",
       "MCA              72502\n",
       "Tabula Muris     60838\n",
       "Name: Tech, dtype: int64"
      ]
     },
     "execution_count": 81,
     "metadata": {},
     "output_type": "execute_result"
    }
   ],
   "source": [
    "adata.obs['Tech'].value_counts()"
   ]
  },
  {
   "cell_type": "code",
   "execution_count": 83,
   "metadata": {},
   "outputs": [
    {
     "name": "stderr",
     "output_type": "stream",
     "text": [
      "... storing 'FACS.selection' as categorical\n",
      "... storing 'Tech' as categorical\n",
      "... storing 'age' as categorical\n",
      "... storing 'barcode' as categorical\n",
      "... storing 'cell' as categorical\n",
      "... storing 'cell_ontology_class' as categorical\n",
      "... storing 'cell_ontology_id' as categorical\n",
      "... storing 'cell_type' as categorical\n",
      "... storing 'cell_type_union' as categorical\n",
      "... storing 'channel' as categorical\n",
      "... storing 'free_annotation' as categorical\n",
      "... storing 'marker_gene' as categorical\n",
      "... storing 'method' as categorical\n",
      "... storing 'method_age' as categorical\n",
      "... storing 'method_tissue' as categorical\n",
      "... storing 'mouse.id' as categorical\n",
      "... storing 'sample' as categorical\n",
      "... storing 'sample_id' as categorical\n",
      "... storing 'sex' as categorical\n",
      "... storing 'study' as categorical\n",
      "... storing 'subtissue' as categorical\n",
      "... storing 'tissue' as categorical\n",
      "... storing 'tissue_free_annotation' as categorical\n"
     ]
    }
   ],
   "source": [
    "adata.write_h5ad(\"./data/tabula_senis_mca/tabula_senis_mca_new_label_consistent_normalized_hvg_all.h5ad\")"
   ]
  },
  {
   "cell_type": "code",
   "execution_count": 84,
   "metadata": {},
   "outputs": [
    {
     "name": "stderr",
     "output_type": "stream",
     "text": [
      "Observation names are not unique. To make them unique, call `.obs_names_make_unique`.\n",
      "Or pass `index_unique!=None` to `.concatenate`.\n"
     ]
    },
    {
     "data": {
      "text/plain": [
       "AnnData object with n_obs × n_vars = 204808 × 5000 \n",
       "    obs: 'FACS.selection', 'Tech', 'age', 'barcode', 'batch', 'cell', 'cell_ontology_class', 'cell_ontology_id', 'cell_type', 'cell_type_union', 'channel', 'free_annotation', 'log_counts', 'marker_gene', 'method', 'method_age', 'method_tissue', 'mouse.id', 'n_counts', 'n_genes', 'percent_mito', 'sample', 'sample_id', 'sex', 'size_factors', 'study', 'subtissue', 'tissue', 'tissue_age', 'tissue_free_annotation'\n",
       "    var: 'n_cells-0-1-0', 'n_cells-1-1-0', 'highly_variable-1-0', 'means-1-0', 'dispersions-1-0', 'dispersions_norm-1-0', 'highly_variable_nbatches-1-0', 'highly_variable_intersection-1-0', 'gene_ids-1-1-1'"
      ]
     },
     "execution_count": 84,
     "metadata": {},
     "output_type": "execute_result"
    }
   ],
   "source": [
    "adata = subsample_selection(senis, 'tissue', 0.4).concatenate(muris_new, mca_new)\n",
    "adata"
   ]
  },
  {
   "cell_type": "code",
   "execution_count": 85,
   "metadata": {},
   "outputs": [
    {
     "name": "stderr",
     "output_type": "stream",
     "text": [
      "... storing 'FACS.selection' as categorical\n",
      "... storing 'Tech' as categorical\n",
      "... storing 'age' as categorical\n",
      "... storing 'barcode' as categorical\n",
      "... storing 'cell' as categorical\n",
      "... storing 'cell_ontology_class' as categorical\n",
      "... storing 'cell_ontology_id' as categorical\n",
      "... storing 'cell_type' as categorical\n",
      "... storing 'cell_type_union' as categorical\n",
      "... storing 'channel' as categorical\n",
      "... storing 'free_annotation' as categorical\n",
      "... storing 'marker_gene' as categorical\n",
      "... storing 'method' as categorical\n",
      "... storing 'method_age' as categorical\n",
      "... storing 'method_tissue' as categorical\n",
      "... storing 'mouse.id' as categorical\n",
      "... storing 'sample' as categorical\n",
      "... storing 'sample_id' as categorical\n",
      "... storing 'sex' as categorical\n",
      "... storing 'study' as categorical\n",
      "... storing 'subtissue' as categorical\n",
      "... storing 'tissue' as categorical\n",
      "... storing 'tissue_free_annotation' as categorical\n"
     ]
    }
   ],
   "source": [
    "adata.write_h5ad(\"./data/tabula_senis_mca/tabula_senis_mca_new_label_consistent_normalized_hvg_subsampled.h5ad\")"
   ]
  },
  {
   "cell_type": "code",
   "execution_count": 5,
   "metadata": {},
   "outputs": [
    {
     "name": "stderr",
     "output_type": "stream",
     "text": [
      "Observation names are not unique. To make them unique, call `.obs_names_make_unique`.\n"
     ]
    },
    {
     "data": {
      "text/plain": [
       "AnnData object with n_obs × n_vars = 312019 × 5000 \n",
       "    obs: 'FACS.selection', 'Tech', 'age', 'barcode', 'batch', 'cell', 'cell_ontology_class', 'cell_ontology_id', 'cell_type', 'cell_type_union', 'channel', 'free_annotation', 'log_counts', 'marker_gene', 'method', 'method_age', 'method_tissue', 'mouse.id', 'n_counts', 'n_genes', 'percent_mito', 'sample', 'sample_id', 'sex', 'size_factors', 'study', 'subtissue', 'tissue', 'tissue_age', 'tissue_free_annotation'\n",
       "    var: 'n_cells-0-1-0', 'n_cells-1-1-0', 'highly_variable-1-0', 'means-1-0', 'dispersions-1-0', 'dispersions_norm-1-0', 'highly_variable_nbatches-1-0', 'highly_variable_intersection-1-0', 'gene_ids-1-1-1'"
      ]
     },
     "execution_count": 5,
     "metadata": {},
     "output_type": "execute_result"
    }
   ],
   "source": [
    "adata = sc.read(\"./data/tabula_senis_mca/tabula_senis_mca_new_label_consistent_normalized_hvg_all.h5ad\")\n",
    "adata"
   ]
  },
  {
   "cell_type": "code",
   "execution_count": 7,
   "metadata": {},
   "outputs": [],
   "source": [
    "adata = adata[~adata.obs['tissue'].isin(['Mammary_Gland', 'Marrow', 'Muscle'])]"
   ]
  },
  {
   "cell_type": "code",
   "execution_count": 8,
   "metadata": {},
   "outputs": [
    {
     "data": {
      "text/plain": [
       "View of AnnData object with n_obs × n_vars = 205890 × 5000 \n",
       "    obs: 'FACS.selection', 'Tech', 'age', 'barcode', 'batch', 'cell', 'cell_ontology_class', 'cell_ontology_id', 'cell_type', 'cell_type_union', 'channel', 'free_annotation', 'log_counts', 'marker_gene', 'method', 'method_age', 'method_tissue', 'mouse.id', 'n_counts', 'n_genes', 'percent_mito', 'sample', 'sample_id', 'sex', 'size_factors', 'study', 'subtissue', 'tissue', 'tissue_age', 'tissue_free_annotation'\n",
       "    var: 'n_cells-0-1-0', 'n_cells-1-1-0', 'highly_variable-1-0', 'means-1-0', 'dispersions-1-0', 'dispersions_norm-1-0', 'highly_variable_nbatches-1-0', 'highly_variable_intersection-1-0', 'gene_ids-1-1-1'"
      ]
     },
     "execution_count": 8,
     "metadata": {},
     "output_type": "execute_result"
    }
   ],
   "source": [
    "adata"
   ]
  },
  {
   "cell_type": "code",
   "execution_count": 9,
   "metadata": {},
   "outputs": [],
   "source": [
    "cell_types_to_keep = []\n",
    "for cell_type in adata.obs['cell_type_union'].unique().tolist():\n",
    "    if len(adata[adata.obs['cell_type_union'] == cell_type]) > 50:\n",
    "        cell_types_to_keep.append(cell_type)"
   ]
  },
  {
   "cell_type": "code",
   "execution_count": 10,
   "metadata": {},
   "outputs": [
    {
     "data": {
      "text/plain": [
       "View of AnnData object with n_obs × n_vars = 205522 × 5000 \n",
       "    obs: 'FACS.selection', 'Tech', 'age', 'barcode', 'batch', 'cell', 'cell_ontology_class', 'cell_ontology_id', 'cell_type', 'cell_type_union', 'channel', 'free_annotation', 'log_counts', 'marker_gene', 'method', 'method_age', 'method_tissue', 'mouse.id', 'n_counts', 'n_genes', 'percent_mito', 'sample', 'sample_id', 'sex', 'size_factors', 'study', 'subtissue', 'tissue', 'tissue_age', 'tissue_free_annotation'\n",
       "    var: 'n_cells-0-1-0', 'n_cells-1-1-0', 'highly_variable-1-0', 'means-1-0', 'dispersions-1-0', 'dispersions_norm-1-0', 'highly_variable_nbatches-1-0', 'highly_variable_intersection-1-0', 'gene_ids-1-1-1'"
      ]
     },
     "execution_count": 10,
     "metadata": {},
     "output_type": "execute_result"
    }
   ],
   "source": [
    "adata = adata[adata.obs['cell_type_union'].isin(cell_types_to_keep)]\n",
    "adata"
   ]
  },
  {
   "cell_type": "code",
   "execution_count": 11,
   "metadata": {},
   "outputs": [
    {
     "data": {
      "text/plain": [
       "Tabula Senis    123260\n",
       "MCA              42049\n",
       "Tabula Muris     40213\n",
       "Name: Tech, dtype: int64"
      ]
     },
     "execution_count": 11,
     "metadata": {},
     "output_type": "execute_result"
    }
   ],
   "source": [
    "adata.obs['Tech'].value_counts()"
   ]
  },
  {
   "cell_type": "code",
   "execution_count": 12,
   "metadata": {},
   "outputs": [
    {
     "data": {
      "text/plain": [
       "AnnData object with n_obs × n_vars = 49300 × 5000 \n",
       "    obs: 'FACS.selection', 'Tech', 'age', 'barcode', 'batch', 'cell', 'cell_ontology_class', 'cell_ontology_id', 'cell_type', 'cell_type_union', 'channel', 'free_annotation', 'log_counts', 'marker_gene', 'method', 'method_age', 'method_tissue', 'mouse.id', 'n_counts', 'n_genes', 'percent_mito', 'sample', 'sample_id', 'sex', 'size_factors', 'study', 'subtissue', 'tissue', 'tissue_age', 'tissue_free_annotation'\n",
       "    var: 'n_cells-0-1-0', 'n_cells-1-1-0', 'highly_variable-1-0', 'means-1-0', 'dispersions-1-0', 'dispersions_norm-1-0', 'highly_variable_nbatches-1-0', 'highly_variable_intersection-1-0', 'gene_ids-1-1-1'"
      ]
     },
     "execution_count": 12,
     "metadata": {},
     "output_type": "execute_result"
    }
   ],
   "source": [
    "subsampled_adata = subsample_selection(adata[adata.obs['Tech'] == 'Tabula Senis'], 'tissue', 0.4)\n",
    "subsampled_adata"
   ]
  },
  {
   "cell_type": "code",
   "execution_count": 14,
   "metadata": {},
   "outputs": [
    {
     "name": "stderr",
     "output_type": "stream",
     "text": [
      "Observation names are not unique. To make them unique, call `.obs_names_make_unique`.\n",
      "Or pass `index_unique!=None` to `.concatenate`.\n"
     ]
    },
    {
     "data": {
      "text/plain": [
       "AnnData object with n_obs × n_vars = 131562 × 5000 \n",
       "    obs: 'FACS.selection', 'Tech', 'age', 'barcode', 'batch', 'cell', 'cell_ontology_class', 'cell_ontology_id', 'cell_type', 'cell_type_union', 'channel', 'free_annotation', 'log_counts', 'marker_gene', 'method', 'method_age', 'method_tissue', 'mouse.id', 'n_counts', 'n_genes', 'percent_mito', 'sample', 'sample_id', 'sex', 'size_factors', 'study', 'subtissue', 'tissue', 'tissue_age', 'tissue_free_annotation'\n",
       "    var: 'n_cells-0-1-0', 'n_cells-1-1-0', 'highly_variable-1-0', 'means-1-0', 'dispersions-1-0', 'dispersions_norm-1-0', 'highly_variable_nbatches-1-0', 'highly_variable_intersection-1-0', 'gene_ids-1-1-1'"
      ]
     },
     "execution_count": 14,
     "metadata": {},
     "output_type": "execute_result"
    }
   ],
   "source": [
    "subsampled_adata = adata[adata.obs['Tech'] != 'Tabula Senis'].concatenate(subsampled_adata)\n",
    "subsampled_adata"
   ]
  },
  {
   "cell_type": "code",
   "execution_count": 15,
   "metadata": {},
   "outputs": [
    {
     "data": {
      "text/plain": [
       "Tabula Senis    49300\n",
       "MCA             42049\n",
       "Tabula Muris    40213\n",
       "Name: Tech, dtype: int64"
      ]
     },
     "execution_count": 15,
     "metadata": {},
     "output_type": "execute_result"
    }
   ],
   "source": [
    "subsampled_adata.obs['Tech'].value_counts()"
   ]
  },
  {
   "cell_type": "code",
   "execution_count": 16,
   "metadata": {},
   "outputs": [
    {
     "name": "stderr",
     "output_type": "stream",
     "text": [
      "... storing 'FACS.selection' as categorical\n",
      "... storing 'Tech' as categorical\n",
      "... storing 'age' as categorical\n",
      "... storing 'barcode' as categorical\n",
      "... storing 'cell' as categorical\n",
      "... storing 'cell_ontology_class' as categorical\n",
      "... storing 'cell_ontology_id' as categorical\n",
      "... storing 'cell_type' as categorical\n",
      "... storing 'cell_type_union' as categorical\n",
      "... storing 'channel' as categorical\n",
      "... storing 'free_annotation' as categorical\n",
      "... storing 'marker_gene' as categorical\n",
      "... storing 'method' as categorical\n",
      "... storing 'method_age' as categorical\n",
      "... storing 'method_tissue' as categorical\n",
      "... storing 'mouse.id' as categorical\n",
      "... storing 'sample' as categorical\n",
      "... storing 'sample_id' as categorical\n",
      "... storing 'sex' as categorical\n",
      "... storing 'study' as categorical\n",
      "... storing 'subtissue' as categorical\n",
      "... storing 'tissue' as categorical\n",
      "... storing 'tissue_free_annotation' as categorical\n"
     ]
    }
   ],
   "source": [
    "subsampled_adata.write_h5ad(\"./data/tabula_senis_mca/tabula_senis_mca_new_label_consistent_normalized_hvg_subsampled_notebook.h5ad\")"
   ]
  },
  {
   "cell_type": "code",
   "execution_count": null,
   "metadata": {},
   "outputs": [],
   "source": []
  }
 ],
 "metadata": {
  "kernelspec": {
   "display_name": "Python 3",
   "language": "python",
   "name": "python3"
  },
  "language_info": {
   "codemirror_mode": {
    "name": "ipython",
    "version": 3
   },
   "file_extension": ".py",
   "mimetype": "text/x-python",
   "name": "python",
   "nbconvert_exporter": "python",
   "pygments_lexer": "ipython3",
   "version": "3.7.6"
  }
 },
 "nbformat": 4,
 "nbformat_minor": 4
}
