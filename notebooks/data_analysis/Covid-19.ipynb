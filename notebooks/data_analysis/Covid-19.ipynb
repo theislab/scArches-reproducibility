{
 "cells": [
  {
   "cell_type": "code",
   "execution_count": null,
   "metadata": {},
   "outputs": [],
   "source": [
    "import sys\n",
    "sys.path.append(\"./\")\n",
    "\n",
    "import scanpy as sc\n",
    "import pandas as pd\n",
    "from os import listdir\n",
    "import numpy as np\n",
    "import re\n",
    "from scipy import sparse"
   ]
  },
  {
   "cell_type": "code",
   "execution_count": null,
   "metadata": {},
   "outputs": [],
   "source": [
    "import csv\n",
    "\n",
    "df = pd.read_csv(\"all.cell.annotation.meta.txt\",delimiter='\\t')\n",
    "df.to_csv('celltypes.csv')"
   ]
  },
  {
   "cell_type": "code",
   "execution_count": null,
   "metadata": {
    "scrolled": true
   },
   "outputs": [],
   "source": [
    "meta = pd.read_csv(\"celltypes.csv\")\n",
    "meta"
   ]
  },
  {
   "cell_type": "code",
   "execution_count": null,
   "metadata": {},
   "outputs": [],
   "source": [
    "final_adata = None"
   ]
  },
  {
   "cell_type": "code",
   "execution_count": null,
   "metadata": {
    "scrolled": true
   },
   "outputs": [],
   "source": [
    "for fl in listdir(\"./datas\"):\n",
    "    adata = sc.read_10x_h5(f\"./datas/{fl}\")\n",
    "    indices = adata.obs.index.values\n",
    "    newIndices = np.array([re.sub('-\\d+', '', x) for x in indices], dtype=object)\n",
    "    \n",
    "        \n",
    "    filtered_meta = meta[meta['sample'] == fl[:-3]]\n",
    "    rows = filtered_meta.ID.values\n",
    "    metaID = np.array([re.sub('_\\d+', '', x) for x in rows], dtype=object)\n",
    "    i = np.nonzero(newIndices[:, None] == metaID)[0]\n",
    "    \n",
    "    if(adata.var.shape[0] > 33538):\n",
    "        new_adata = sc.AnnData(X = adata.X[i,:-1])\n",
    "    else:\n",
    "        new_adata = sc.AnnData(X = adata.X[i])\n",
    "    \n",
    "    \n",
    "    new_adata.obs['ID'] = filtered_meta['ID'].values   \n",
    "    new_adata.obs['sample'] = filtered_meta['sample'].values      \n",
    "    new_adata.obs['sample_new'] = filtered_meta['sample_new'].values      \n",
    "    new_adata.obs['condition'] = filtered_meta['group'].values      \n",
    "    new_adata.obs['celltype'] = filtered_meta['celltype'].values      \n",
    "    \n",
    "    if(final_adata):\n",
    "        final_adata = final_adata.concatenate(new_adata, index_unique=None)\n",
    "    else:\n",
    "        final_adata = new_adata\n"
   ]
  },
  {
   "cell_type": "code",
   "execution_count": null,
   "metadata": {
    "scrolled": true
   },
   "outputs": [],
   "source": [
    "final_adata.var = adata.var\n",
    "final_adata.var"
   ]
  },
  {
   "cell_type": "code",
   "execution_count": null,
   "metadata": {},
   "outputs": [],
   "source": [
    "final_adata.obs = final_adata.obs.drop(['batch'], axis=1)"
   ]
  },
  {
   "cell_type": "code",
   "execution_count": null,
   "metadata": {},
   "outputs": [],
   "source": [
    "final_adata.obs = final_adata.obs[['ID', 'sample', 'sample_new', 'condition', 'celltype']]"
   ]
  },
  {
   "cell_type": "code",
   "execution_count": null,
   "metadata": {},
   "outputs": [],
   "source": [
    "final_adata"
   ]
  },
  {
   "cell_type": "code",
   "execution_count": null,
   "metadata": {},
   "outputs": [],
   "source": [
    "final_adata.write('covid_data.h5ad')"
   ]
  }
 ],
 "metadata": {
  "kernelspec": {
   "display_name": "Python 3",
   "language": "python",
   "name": "python3"
  },
  "language_info": {
   "codemirror_mode": {
    "name": "ipython",
    "version": 3
   },
   "file_extension": ".py",
   "mimetype": "text/x-python",
   "name": "python",
   "nbconvert_exporter": "python",
   "pygments_lexer": "ipython3",
   "version": "3.6.8"
  }
 },
 "nbformat": 4,
 "nbformat_minor": 4
}
