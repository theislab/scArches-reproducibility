{
 "cells": [
  {
   "cell_type": "code",
   "execution_count": 2,
   "metadata": {},
   "outputs": [],
   "source": [
    "import scanpy as sc\n",
    "import os \n",
    "os.chdir(\"../../\")\n",
    "import scnet as sn"
   ]
  },
  {
   "cell_type": "code",
   "execution_count": 17,
   "metadata": {},
   "outputs": [],
   "source": [
    "def hvg_batch(adata, batch_key=None, target_genes=2000, flavor='cell_ranger', n_bins=20, adataOut=False):\n",
    "    \"\"\"\n",
    "    Method to select HVGs based on mean dispersions of genes that are highly \n",
    "    variable genes in all batches. Using a the top target_genes per batch by\n",
    "    average normalize dispersion. If target genes still hasn't been reached, \n",
    "    then HVGs in all but one batches are used to fill up. This is continued \n",
    "    until HVGs in a single batch are considered.\n",
    "    \"\"\"\n",
    "    \n",
    "    adata_hvg = adata if adataOut else adata.copy()\n",
    "\n",
    "    n_batches = len(adata_hvg.obs[batch_key].cat.categories)\n",
    "\n",
    "    # Calculate double target genes per dataset\n",
    "    sc.pp.highly_variable_genes(adata_hvg,\n",
    "                                flavor=flavor, \n",
    "                                n_top_genes=target_genes,\n",
    "                                n_bins=n_bins, \n",
    "                                batch_key=batch_key)\n",
    "\n",
    "    nbatch1_dispersions = adata_hvg.var['dispersions_norm'][adata_hvg.var.highly_variable_nbatches >\n",
    "                                                           len(adata_hvg.obs[batch_key].cat.categories)-1]\n",
    "    \n",
    "    nbatch1_dispersions.sort_values(ascending=False, inplace=True)\n",
    "\n",
    "    if len(nbatch1_dispersions) > target_genes:\n",
    "        hvg = nbatch1_dispersions.index[:target_genes]\n",
    "    \n",
    "    else:\n",
    "        enough = False\n",
    "        print(f'Using {len(nbatch1_dispersions)} HVGs from full intersect set')\n",
    "        hvg = nbatch1_dispersions.index[:]\n",
    "        not_n_batches = 1\n",
    "        \n",
    "        while not enough:\n",
    "            target_genes_diff = target_genes - len(hvg)\n",
    "\n",
    "            tmp_dispersions = adata_hvg.var['dispersions_norm'][adata_hvg.var.highly_variable_nbatches ==\n",
    "                                                                (n_batches-not_n_batches)]\n",
    "\n",
    "            if len(tmp_dispersions) < target_genes_diff:\n",
    "                print(f'Using {len(tmp_dispersions)} HVGs from n_batch-{not_n_batches} set')\n",
    "                hvg = hvg.append(tmp_dispersions.index)\n",
    "                not_n_batches += 1\n",
    "\n",
    "            else:\n",
    "                print(f'Using {target_genes_diff} HVGs from n_batch-{not_n_batches} set')\n",
    "                tmp_dispersions.sort_values(ascending=False, inplace=True)\n",
    "                hvg = hvg.append(tmp_dispersions.index[:target_genes_diff])\n",
    "                enough=True\n",
    "\n",
    "    print(f'Using {len(hvg)} HVGs')\n",
    "\n",
    "    if not adataOut:\n",
    "        del adata_hvg\n",
    "        return hvg.tolist()\n",
    "    else:\n",
    "        return adata_hvg[:,hvg].copy()\n",
    "\n"
   ]
  },
  {
   "cell_type": "code",
   "execution_count": 10,
   "metadata": {},
   "outputs": [
    {
     "data": {
      "text/plain": [
       "AnnData object with n_obs × n_vars = 15921 × 15369 \n",
       "    obs: 'batch', 'study', 'cell_type'"
      ]
     },
     "execution_count": 10,
     "metadata": {},
     "output_type": "execute_result"
    }
   ],
   "source": [
    "adata_count = sc.read(\"./data/pancreas/pancreas_count.h5ad\")\n",
    "adata_count"
   ]
  },
  {
   "cell_type": "code",
   "execution_count": 11,
   "metadata": {},
   "outputs": [],
   "source": [
    "adata = adata_count.copy()"
   ]
  },
  {
   "cell_type": "code",
   "execution_count": 12,
   "metadata": {},
   "outputs": [],
   "source": [
    "sc.pp.normalize_per_cell(adata)\n",
    "sc.pp.log1p(adata)"
   ]
  },
  {
   "cell_type": "code",
   "execution_count": 13,
   "metadata": {},
   "outputs": [
    {
     "name": "stdout",
     "output_type": "stream",
     "text": [
      "Using 1209 HVGs from full intersect set\n",
      "Using 2016 HVGs from n_batch-1 set\n",
      "Using 3115 HVGs from n_batch-2 set\n",
      "Using 660 HVGs from n_batch-3 set\n",
      "Using 7000 HVGs\n"
     ]
    },
    {
     "data": {
      "text/plain": [
       "AnnData object with n_obs × n_vars = 15921 × 7000 \n",
       "    obs: 'batch', 'study', 'cell_type', 'n_counts'\n",
       "    var: 'highly_variable', 'means', 'dispersions', 'dispersions_norm', 'highly_variable_nbatches', 'highly_variable_intersection'"
      ]
     },
     "execution_count": 13,
     "metadata": {},
     "output_type": "execute_result"
    }
   ],
   "source": [
    "adata_hvg = hvg_batch(adata, batch_key=\"study\", target_genes=7000, adataOut=True)\n",
    "adata_hvg"
   ]
  },
  {
   "cell_type": "code",
   "execution_count": 17,
   "metadata": {},
   "outputs": [],
   "source": [
    "adata_normalized = adata.copy()"
   ]
  },
  {
   "cell_type": "code",
   "execution_count": 18,
   "metadata": {},
   "outputs": [
    {
     "data": {
      "text/plain": [
       "AnnData object with n_obs × n_vars = 15921 × 7000 \n",
       "    obs: 'batch', 'study', 'cell_type', 'n_counts', 'size_factors'\n",
       "    var: 'highly_variable', 'means', 'dispersions', 'dispersions_norm', 'highly_variable_nbatches', 'highly_variable_intersection'"
      ]
     },
     "execution_count": 18,
     "metadata": {},
     "output_type": "execute_result"
    }
   ],
   "source": [
    "adata_normalized = sn.tl.normalize(adata_normalized,\n",
    "                                   filter_min_counts=False,\n",
    "                                   logtrans_input=True,\n",
    "                                   size_factors=True,\n",
    "                                   normalize_input=False,\n",
    "                                   n_top_genes=-1,\n",
    "                                   )\n",
    "adata_normalized"
   ]
  },
  {
   "cell_type": "code",
   "execution_count": 19,
   "metadata": {},
   "outputs": [
    {
     "data": {
      "text/plain": [
       "View of AnnData object with n_obs × n_vars = 15921 × 7000 \n",
       "    obs: 'batch', 'study', 'cell_type'\n",
       "    var: 'highly_variable', 'means', 'dispersions', 'dispersions_norm', 'highly_variable_nbatches', 'highly_variable_intersection'"
      ]
     },
     "execution_count": 19,
     "metadata": {},
     "output_type": "execute_result"
    }
   ],
   "source": [
    "adata = adata[:, adata_normalized.var_names]\n",
    "adata"
   ]
  },
  {
   "cell_type": "code",
   "execution_count": 20,
   "metadata": {},
   "outputs": [
    {
     "data": {
      "text/plain": [
       "(0.0, 1453667.0)"
      ]
     },
     "execution_count": 20,
     "metadata": {},
     "output_type": "execute_result"
    }
   ],
   "source": [
    "adata.X.min(), adata.X.max()"
   ]
  },
  {
   "cell_type": "code",
   "execution_count": 22,
   "metadata": {},
   "outputs": [
    {
     "data": {
      "text/plain": [
       "(0.0, 8.5599375)"
      ]
     },
     "execution_count": 22,
     "metadata": {},
     "output_type": "execute_result"
    }
   ],
   "source": [
    "adata_normalized.X.min(), adata_normalized.X.max()"
   ]
  },
  {
   "cell_type": "code",
   "execution_count": 21,
   "metadata": {},
   "outputs": [],
   "source": [
    "adata.write_h5ad(\"./data/pancreas_hvg_normal/pancreas_hvg_normal_count.h5ad\")"
   ]
  },
  {
   "cell_type": "code",
   "execution_count": 23,
   "metadata": {},
   "outputs": [],
   "source": [
    "adata_normalized.write_h5ad(\"./data/pancreas_hvg_normal/pancreas_hvg_normal_normalized.h5ad\")"
   ]
  },
  {
   "cell_type": "code",
   "execution_count": 24,
   "metadata": {},
   "outputs": [
    {
     "data": {
      "text/plain": [
       "(0.0, 1453667.0)"
      ]
     },
     "execution_count": 24,
     "metadata": {},
     "output_type": "execute_result"
    }
   ],
   "source": [
    "adata_hvg.X.min(), adata_hvg.X.max()"
   ]
  },
  {
   "cell_type": "code",
   "execution_count": 25,
   "metadata": {},
   "outputs": [],
   "source": [
    "adata_hvg.write_h5ad(\"./data/pancreas_hvg_br/pancreas_hvg_br_count.h5ad\")"
   ]
  },
  {
   "cell_type": "code",
   "execution_count": 26,
   "metadata": {},
   "outputs": [],
   "source": [
    "adata_hvg_normalized = adata_hvg.copy()"
   ]
  },
  {
   "cell_type": "code",
   "execution_count": 27,
   "metadata": {},
   "outputs": [
    {
     "data": {
      "text/plain": [
       "AnnData object with n_obs × n_vars = 15921 × 7000 \n",
       "    obs: 'batch', 'study', 'cell_type', 'n_counts', 'size_factors'\n",
       "    var: 'highly_variable', 'means', 'dispersions', 'dispersions_norm', 'highly_variable_nbatches', 'highly_variable_intersection'"
      ]
     },
     "execution_count": 27,
     "metadata": {},
     "output_type": "execute_result"
    }
   ],
   "source": [
    "adata_hvg_normalized = sn.tl.normalize(adata_hvg_normalized,\n",
    "                                       filter_min_counts=False,\n",
    "                                       logtrans_input=True,\n",
    "                                       size_factors=True,\n",
    "                                       normalize_input=False,\n",
    "                                       n_top_genes=7000,\n",
    "                                       )\n",
    "adata_hvg_normalized"
   ]
  },
  {
   "cell_type": "code",
   "execution_count": 28,
   "metadata": {},
   "outputs": [
    {
     "data": {
      "text/plain": [
       "(0.0, 8.168483)"
      ]
     },
     "execution_count": 28,
     "metadata": {},
     "output_type": "execute_result"
    }
   ],
   "source": [
    "adata_hvg_normalized.X.min(), adata_hvg_normalized.X.max()"
   ]
  },
  {
   "cell_type": "code",
   "execution_count": 30,
   "metadata": {},
   "outputs": [],
   "source": [
    "adata_hvg_normalized.write_h5ad(\"./data/pancreas_hvg_br/pancreas_hvg_br_normalized.h5ad\")"
   ]
  },
  {
   "cell_type": "code",
   "execution_count": 36,
   "metadata": {},
   "outputs": [
    {
     "data": {
      "text/plain": [
       "AnnData object with n_obs × n_vars = 15681 × 15369 \n",
       "    obs: 'batch', 'study', 'cell_type'"
      ]
     },
     "execution_count": 36,
     "metadata": {},
     "output_type": "execute_result"
    }
   ],
   "source": [
    "adata = sc.read(\"./data/pancreas/pancreas_count.h5ad\")\n",
    "adata"
   ]
  },
  {
   "cell_type": "code",
   "execution_count": 37,
   "metadata": {},
   "outputs": [
    {
     "data": {
      "text/plain": [
       "Pancreas inDrop         8391\n",
       "Pancreas SS2            2961\n",
       "Pancreas CelSeq2        2426\n",
       "Pancreas CelSeq         1271\n",
       "Pancreas Fluidigm C1     632\n",
       "Name: study, dtype: int64"
      ]
     },
     "execution_count": 37,
     "metadata": {},
     "output_type": "execute_result"
    }
   ],
   "source": [
    "adata.obs['study'].value_counts()"
   ]
  },
  {
   "cell_type": "code",
   "execution_count": 38,
   "metadata": {},
   "outputs": [
    {
     "data": {
      "text/plain": [
       "Pancreas Beta           5085\n",
       "Pancreas Alpha          4704\n",
       "Pancreas Ductal         2104\n",
       "Pancreas Delta          1041\n",
       "Pancreas Endothelial     836\n",
       "Pancreas Acinar          713\n",
       "Pancreas Gamma           637\n",
       "Pancreas Stellate        561\n",
       "Name: cell_type, dtype: int64"
      ]
     },
     "execution_count": 38,
     "metadata": {},
     "output_type": "execute_result"
    }
   ],
   "source": [
    "adata.obs['cell_type'].value_counts()"
   ]
  },
  {
   "cell_type": "code",
   "execution_count": 31,
   "metadata": {},
   "outputs": [
    {
     "name": "stderr",
     "output_type": "stream",
     "text": [
      "Trying to set attribute `.obs` of view, making a copy.\n",
      "Trying to set attribute `.obs` of view, making a copy.\n"
     ]
    }
   ],
   "source": [
    "adata = adata[~adata.obs['cell_type'].isin(['Pancreas Unkonwn'])]\n",
    "adata.obs['cell_type'] = adata.obs['cell_type'].replace(\"Pancreas Beta(ER stress)\", \"Pancreas Beta\")\n",
    "adata = adata[~adata.obs['cell_type'].isin(['Pancreas Beta(ER stress)'])]\n",
    "adata.obs['study'] = adata.obs['study'].replace(\"Pancreas Celseq\", \"Pancreas CelSeq\")"
   ]
  },
  {
   "cell_type": "code",
   "execution_count": 34,
   "metadata": {},
   "outputs": [
    {
     "data": {
      "text/plain": [
       "AnnData object with n_obs × n_vars = 15681 × 15369 \n",
       "    obs: 'batch', 'study', 'cell_type'"
      ]
     },
     "execution_count": 34,
     "metadata": {},
     "output_type": "execute_result"
    }
   ],
   "source": [
    "adata"
   ]
  },
  {
   "cell_type": "code",
   "execution_count": 35,
   "metadata": {
    "pycharm": {
     "name": "#%%\n"
    }
   },
   "outputs": [
    {
     "name": "stderr",
     "output_type": "stream",
     "text": [
      "... storing 'study' as categorical\n"
     ]
    }
   ],
   "source": [
    "adata.write_h5ad(\"./data/pancreas/pancreas_count.h5ad\")"
   ]
  }
 ],
 "metadata": {
  "kernelspec": {
   "display_name": "Python 3",
   "language": "python",
   "name": "python3"
  },
  "language_info": {
   "codemirror_mode": {
    "name": "ipython",
    "version": 3
   },
   "file_extension": ".py",
   "mimetype": "text/x-python",
   "name": "python",
   "nbconvert_exporter": "python",
   "pygments_lexer": "ipython3",
   "version": "3.6.8"
  },
  "pycharm": {
   "stem_cell": {
    "cell_type": "raw",
    "source": [],
    "metadata": {
     "collapsed": false
    }
   }
  }
 },
 "nbformat": 4,
 "nbformat_minor": 2
}