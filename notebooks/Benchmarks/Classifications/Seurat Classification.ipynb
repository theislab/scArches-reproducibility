{
 "cells": [
  {
   "cell_type": "code",
   "execution_count": null,
   "metadata": {},
   "outputs": [],
   "source": [
    "import scanpy as sc\n",
    "import numpy as np\n",
    "import os\n",
    "import pandas as pd\n",
    "from scipy.sparse import csr_matrix\n",
    "from scipy.stats import entropy, itemfreq\n",
    "from sklearn.neighbors import NearestNeighbors\n",
    "from sklearn.cluster import KMeans\n",
    "from sklearn.mixture import GaussianMixture as GMM\n",
    "from sklearn.metrics import adjusted_rand_score as ARI\n",
    "from sklearn.metrics import normalized_mutual_info_score as NMI\n",
    "from sklearn.metrics import silhouette_score\n",
    "from sklearn.preprocessing import LabelEncoder\n",
    "import csv"
   ]
  },
  {
   "cell_type": "code",
   "execution_count": null,
   "metadata": {},
   "outputs": [],
   "source": [
    "DATASETS = {\n",
    "    \"tabula_senis\": {\"name\": \"tabula_senis\", \"tissue\": \"tissue\", \"condition_key\": \"method_age\", \"cell_type_key\": 'cell_ontology_class',\n",
    "                    \"target_conditions\": [\"droplet - 3m\", \"facs - 3m\"]},\n",
    "}"
   ]
  },
  {
   "cell_type": "code",
   "execution_count": null,
   "metadata": {},
   "outputs": [],
   "source": [
    "sc.settings.autosave = True"
   ]
  },
  {
   "cell_type": "markdown",
   "metadata": {},
   "source": [
    "# Tabula Senis Muris"
   ]
  },
  {
   "cell_type": "code",
   "execution_count": null,
   "metadata": {},
   "outputs": [],
   "source": [
    "data_dict = DATASETS['tabula_senis']\n",
    "data_name = data_dict['name']\n",
    "condition_key = data_dict['condition_key']\n",
    "cell_type_key = data_dict['cell_type_key']\n",
    "tissue = data_dict['tissue']\n",
    "target_conditions = data_dict['target_conditions']\n",
    "\n",
    "adata = sc.read(f\"./data/{data_name}_normalized.h5ad\")\n",
    "adata"
   ]
  },
  {
   "cell_type": "code",
   "execution_count": null,
   "metadata": {},
   "outputs": [],
   "source": [
    "source_adata = adata[~adata.obs[tissue].isin(['Trachea'])]\n",
    "source_adata = source_adata[~source_adata.obs[condition_key].isin(target_conditions)]\n",
    "source_adata"
   ]
  },
  {
   "cell_type": "code",
   "execution_count": null,
   "metadata": {},
   "outputs": [],
   "source": [
    "target_adata = adata[adata.obs[condition_key].isin(target_conditions)]\n",
    "target_adata"
   ]
  },
  {
   "cell_type": "code",
   "execution_count": null,
   "metadata": {},
   "outputs": [],
   "source": [
    "conditions = ['droplet - 24m', 'droplet - 18m', 'droplet - 21m', 'droplet - 1m', 'droplet - 30m', 'facs - 18m', 'facs - 24m', 'facs - 21m']"
   ]
  },
  {
   "cell_type": "code",
   "execution_count": null,
   "metadata": {},
   "outputs": [],
   "source": [
    "for c in conditions:\n",
    "    batch_adata = source_adata[source_adata.obs[condition_key] == c, :]\n",
    "    batch = pd.DataFrame(data=batch_adata.X.A.transpose(),\n",
    "                  index=batch_adata.var_names,\n",
    "                  columns=batch_adata.obs_names)\n",
    "    with open(f'./{c}_celltype.csv', 'w') as f: \n",
    "        write = csv.writer(f) \n",
    "        write.writerow([c])\n",
    "        for row in zip(batch_adata.obs[cell_type_key].tolist()):\n",
    "            write.writerow(row)\n",
    "    batch.to_csv(f\"./{c}.csv\")"
   ]
  },
  {
   "cell_type": "code",
   "execution_count": null,
   "metadata": {},
   "outputs": [],
   "source": [
    "for t in target_conditions:\n",
    "    batch_adata = target_adata[target_adata.obs[condition_key] == t, :]\n",
    "    batch = pd.DataFrame(data=batch_adata.X.A.transpose(),\n",
    "                  index=batch_adata.var_names,\n",
    "                  columns=batch_adata.obs_names)\n",
    "    \n",
    "    \n",
    "    with open(f'./{t}_celltype.csv', 'w') as f: \n",
    "        write = csv.writer(f) \n",
    "        write.writerow([t])\n",
    "        for row in zip(batch_adata.obs[cell_type_key].tolist()):\n",
    "            write.writerow(row)\n",
    "        \n",
    "    batch.to_csv(f\"./{t}.csv\")"
   ]
  },
  {
   "cell_type": "markdown",
   "metadata": {},
   "source": [
    "### Now run the Seurat_Classification.R script, then continue\n",
    "<br>"
   ]
  },
  {
   "cell_type": "code",
   "execution_count": null,
   "metadata": {},
   "outputs": [],
   "source": [
    "final_adata = None\n",
    "for t in target_conditions:\n",
    "    batch_adata = target_adata[target_adata.obs[condition_key] == t, :]\n",
    "    \n",
    "    preds = pd.read_csv(f'./results/Seurat/{data_name}/{t}_pred.csv', index_col=0).values.T\n",
    "    batch_adata.obs['Prediction'] = preds[0]\n",
    "    batch_adata.obs['Prediction_Score'] = preds[1]\n",
    "    \n",
    "    if final_adata is None:\n",
    "        final_adata = batch_adata\n",
    "    else:\n",
    "        final_adata = final_adata.concatenate(batch_adata)"
   ]
  },
  {
   "cell_type": "code",
   "execution_count": null,
   "metadata": {},
   "outputs": [],
   "source": [
    "final_adata.write(f\"./results/Seurat/{data_name}/classification_result_adata.h5ad\")"
   ]
  }
 ],
 "metadata": {
  "kernelspec": {
   "display_name": "Python 3",
   "language": "python",
   "name": "python3"
  },
  "language_info": {
   "codemirror_mode": {
    "name": "ipython",
    "version": 3
   },
   "file_extension": ".py",
   "mimetype": "text/x-python",
   "name": "python",
   "nbconvert_exporter": "python",
   "pygments_lexer": "ipython3",
   "version": "3.7.6"
  }
 },
 "nbformat": 4,
 "nbformat_minor": 4
}
