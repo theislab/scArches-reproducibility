{
 "cells": [
  {
   "cell_type": "code",
   "execution_count": null,
   "metadata": {},
   "outputs": [],
   "source": [
    "import scanpy as sc\n",
    "import numpy as np\n",
    "import pandas as pd\n",
    "from sklearn.svm import LinearSVC\n",
    "from sklearn.calibration import CalibratedClassifierCV"
   ]
  },
  {
   "cell_type": "code",
   "execution_count": null,
   "metadata": {},
   "outputs": [],
   "source": [
    "DATASETS = {\n",
    "    \"tabula_senis\": {\"name\": \"tabula_senis\", \"tissue\": \"tissue\", \"condition_key\": \"method_age\", \"cell_type_key\": 'cell_ontology_class',\n",
    "                    \"target_conditions\": [\"droplet - 3m\", \"facs - 3m\"]},\n",
    "}"
   ]
  },
  {
   "cell_type": "code",
   "execution_count": null,
   "metadata": {},
   "outputs": [],
   "source": [
    "sc.settings.autosave = True"
   ]
  },
  {
   "cell_type": "markdown",
   "metadata": {},
   "source": [
    "# Tabula Senis Muris"
   ]
  },
  {
   "cell_type": "code",
   "execution_count": null,
   "metadata": {},
   "outputs": [],
   "source": [
    "data_dict = DATASETS['tabula_senis']\n",
    "data_name = data_dict['name']\n",
    "condition_key = data_dict['condition_key']\n",
    "cell_type_key = data_dict['cell_type_key']\n",
    "tissue = data_dict['tissue']\n",
    "target_conditions = data_dict['target_conditions']\n",
    "\n",
    "adata = sc.read(f\"./data/{data_name}_normalized.h5ad\")\n",
    "adata"
   ]
  },
  {
   "cell_type": "code",
   "execution_count": null,
   "metadata": {},
   "outputs": [],
   "source": [
    "source_adata = adata[~adata.obs[tissue].isin(['Trachea'])]\n",
    "source_adata = source_adata[~source_adata.obs[condition_key].isin(target_conditions)]\n",
    "source_adata"
   ]
  },
  {
   "cell_type": "code",
   "execution_count": null,
   "metadata": {},
   "outputs": [],
   "source": [
    "target_adata = adata[adata.obs[condition_key].isin(target_conditions)]\n",
    "target_adata"
   ]
  },
  {
   "cell_type": "code",
   "execution_count": null,
   "metadata": {},
   "outputs": [],
   "source": [
    "target_adata.obs[cell_type_key].to_csv(\"SVM_cells.csv\")"
   ]
  },
  {
   "cell_type": "code",
   "execution_count": null,
   "metadata": {},
   "outputs": [],
   "source": [
    "Classifier = LinearSVC()\n",
    "clf = CalibratedClassifierCV(Classifier)\n",
    "\n",
    "clf.fit(source_adata.X, source_adata.obs[cell_type_key])"
   ]
  },
  {
   "cell_type": "code",
   "execution_count": null,
   "metadata": {},
   "outputs": [],
   "source": [
    "threshold = 0.7\n",
    "\n",
    "predicted = clf.predict(target_adata.X)\n",
    "probs = np.max(clf.predict_proba(target_adata.X), axis = 1)\n",
    "unlabeled = np.where(probs < threshold)\n",
    "predicted[unlabeled] = 'Unknown'"
   ]
  },
  {
   "cell_type": "code",
   "execution_count": null,
   "metadata": {},
   "outputs": [],
   "source": [
    "pd.DataFrame({'Predicted': predicted, 'Prediction_Score':probs}).to_csv(\"SVM_Results.csv\")"
   ]
  }
 ],
 "metadata": {
  "kernelspec": {
   "display_name": "Python 3",
   "language": "python",
   "name": "python3"
  },
  "language_info": {
   "codemirror_mode": {
    "name": "ipython",
    "version": 3
   },
   "file_extension": ".py",
   "mimetype": "text/x-python",
   "name": "python",
   "nbconvert_exporter": "python",
   "pygments_lexer": "ipython3",
   "version": "3.7.6"
  }
 },
 "nbformat": 4,
 "nbformat_minor": 4
}
