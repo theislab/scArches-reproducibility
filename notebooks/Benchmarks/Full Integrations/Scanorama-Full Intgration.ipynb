{
 "cells": [
  {
   "cell_type": "code",
   "execution_count": null,
   "metadata": {},
   "outputs": [],
   "source": [
    "import sys\n",
    "sys.path.append(\"./\")\n",
    "\n",
    "import scanpy as sc\n",
    "import pandas as pd\n",
    "from scipy.sparse import csr_matrix\n",
    "from scipy.stats import entropy, itemfreq\n",
    "from sklearn.neighbors import NearestNeighbors\n",
    "from sklearn.cluster import KMeans\n",
    "from sklearn.mixture import GaussianMixture as GMM\n",
    "from sklearn.metrics import adjusted_rand_score as ARI\n",
    "from sklearn.metrics import normalized_mutual_info_score as NMI\n",
    "from sklearn.metrics import silhouette_score\n",
    "import os\n",
    "import argparse\n",
    "from sklearn.preprocessing import LabelEncoder\n",
    "import numpy as np\n",
    "import csv\n",
    "import scanorama\n",
    "import time\n"
   ]
  },
  {
   "cell_type": "code",
   "execution_count": null,
   "metadata": {},
   "outputs": [],
   "source": [
    "DATASETS = {\n",
    "    \"pancreas\": {\"name\": \"pancreas\", \"batch_key\": \"study\", \"cell_type_key\": \"cell_type\",\n",
    "                \"batches\": [\"Pancreas inDrop\", \"Pancreas CelSeq2\", \"Pancreas CelSeq\", \"Pancreas Fluidigm C1\", \"Pancreas SS2\"]},\n",
    "    \"brain\": {\"name\": \"mouse_brain\", \"batch_key\": \"study\", \"cell_type_key\": \"cell_type\",\n",
    "             \"batches\": [\"Saunders\", \"Rosenberg\", \"Tabula_muris\", \"Zeisel\"]}\n",
    "}"
   ]
  },
  {
   "cell_type": "code",
   "execution_count": null,
   "metadata": {},
   "outputs": [],
   "source": [
    "sc.settings.autosave = True"
   ]
  },
  {
   "cell_type": "markdown",
   "metadata": {},
   "source": [
    "# Scanorama"
   ]
  },
  {
   "cell_type": "code",
   "execution_count": null,
   "metadata": {},
   "outputs": [],
   "source": [
    "for data in [\"pancreas\", \"brain\"]:\n",
    "    data_dict = DATASETS[data]\n",
    "    data_name = data_dict['name']\n",
    "    batch_key = data_dict['batch_key']\n",
    "    cell_type_key = data_dict['cell_type_key']\n",
    "\n",
    "    adata = sc.read(f\"./data/{data_name}_normalized.h5ad\")\n",
    "\n",
    "\n",
    "    adata.obs['cell_types'] = adata.obs[cell_type_key]\n",
    "    \n",
    "    os.makedirs(f\"./results/Scanorama/{data_name}/\", exist_ok=True)\n",
    "    \n",
    "    final_adata = None\n",
    "    adata_list = []\n",
    "    labels_array = np.array([])\n",
    "    batch_array = np.array([])\n",
    "    \n",
    "    for b in data_dict['batches']:\n",
    "        batch_adata = adata[adata.obs[batch_key] == b, :]\n",
    "        if final_adata is None:\n",
    "            final_adata = batch_adata\n",
    "        else:\n",
    "            final_adata = final_adata.concatenate(batch_adata)\n",
    "        \n",
    "        adata_list.append(batch_adata)\n",
    "        labels_array = np.concatenate((labels_array, batch_adata.obs[cell_type_key]))\n",
    "        batch_array = np.concatenate((batch_array, batch_adata.obs[batch_key]))\n",
    "    \n",
    "    print(f\"before\")\n",
    "    sc.pp.neighbors(final_adata)\n",
    "    sc.tl.umap(final_adata)\n",
    "    sc.settings.figdir = f\"./results/Scanorama/{data_name}/before\"\n",
    "    sc.pl.umap(final_adata, color=[batch_key, cell_type_key], wspace=.5)\n",
    "    \n",
    "    t1 = time.time()\n",
    "    \n",
    "    corrected = scanorama.correct_scanpy(adata_list)\n",
    "    \n",
    "    t2 = time.time()\n",
    "\n",
    "    \n",
    "    final_adata = None\n",
    "    for corrected_adata in corrected:\n",
    "        if final_adata is None:\n",
    "            final_adata = corrected_adata\n",
    "        else:\n",
    "            final_adata = final_adata.concatenate(corrected_adata)\n",
    "            \n",
    "    final_adata.obs[batch_key] = batch_array\n",
    "    final_adata.obs[cell_type_key] = labels_array\n",
    "            \n",
    "    sc.tl.pca(final_adata, svd_solver=\"arpack\", n_comps=20)\n",
    "    final_adata = sc.AnnData(X=final_adata.obsm['X_pca'], obs=final_adata.obs)  \n",
    "        \n",
    "    \n",
    "    print(f\"after\")\n",
    "    sc.pp.neighbors(final_adata)\n",
    "    sc.tl.umap(final_adata)\n",
    "    sc.settings.figdir = f\"./results/Scanorama/{data_name}/after\"\n",
    "    sc.pl.umap(final_adata, color=[batch_key, cell_type_key], wspace=.5)\n",
    "    final_adata.write(f\"./results/Scanorama/{data_name}/result_adata.h5ad\")\n",
    "    \n",
    "    with open(f'./results/scanorama_time_{data_name}.txt', 'w') as f:\n",
    "        f.write(str(t2-t1))\n",
    "    "
   ]
  }
 ],
 "metadata": {
  "kernelspec": {
   "display_name": "Python 3",
   "language": "python",
   "name": "python3"
  },
  "language_info": {
   "codemirror_mode": {
    "name": "ipython",
    "version": 3
   },
   "file_extension": ".py",
   "mimetype": "text/x-python",
   "name": "python",
   "nbconvert_exporter": "python",
   "pygments_lexer": "ipython3",
   "version": "3.7.6"
  }
 },
 "nbformat": 4,
 "nbformat_minor": 4
}
