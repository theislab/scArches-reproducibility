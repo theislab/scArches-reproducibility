{
 "cells": [
  {
   "cell_type": "code",
   "execution_count": null,
   "metadata": {},
   "outputs": [],
   "source": [
    "import scanpy as sc\n",
    "import numpy as np\n",
    "import os\n",
    "import pandas as pd\n",
    "from scipy.sparse import csr_matrix\n",
    "from scipy.stats import entropy, itemfreq\n",
    "from sklearn.neighbors import NearestNeighbors\n",
    "from sklearn.cluster import KMeans\n",
    "from sklearn.mixture import GaussianMixture as GMM\n",
    "from sklearn.metrics import adjusted_rand_score as ARI\n",
    "from sklearn.metrics import normalized_mutual_info_score as NMI\n",
    "from sklearn.metrics import silhouette_score\n",
    "from sklearn.preprocessing import LabelEncoder"
   ]
  },
  {
   "cell_type": "code",
   "execution_count": null,
   "metadata": {},
   "outputs": [],
   "source": [
    "DATASETS = {\n",
    "    \"pancreas\": {\"name\": \"pancreas\", \"batch_key\": \"study\", \"cell_type_key\": \"cell_type\"},\n",
    "    \"brain\": {\"name\": \"mouse_brain\", \"batch_key\": \"study\", \"cell_type_key\": \"cell_type\"}\n",
    "}"
   ]
  },
  {
   "cell_type": "code",
   "execution_count": null,
   "metadata": {},
   "outputs": [],
   "source": [
    "sc.settings.autosave = True"
   ]
  },
  {
   "cell_type": "markdown",
   "metadata": {},
   "source": [
    "# Pancreas"
   ]
  },
  {
   "cell_type": "code",
   "execution_count": null,
   "metadata": {},
   "outputs": [],
   "source": [
    "data_dict = DATASETS['pancreas']\n",
    "data_name = data_dict['name']\n",
    "batch_key = data_dict['batch_key']\n",
    "cell_type_key = data_dict['cell_type_key']\n",
    "\n",
    "adata = sc.read(f\"./data/{data_name}_normalized.h5ad\")\n",
    "adata"
   ]
  },
  {
   "cell_type": "code",
   "execution_count": null,
   "metadata": {},
   "outputs": [],
   "source": [
    "batches = [\"Pancreas inDrop\", \"Pancreas CelSeq2\", \"Pancreas CelSeq\", \"Pancreas Fluidigm C1\", \"Pancreas SS2\"]"
   ]
  },
  {
   "cell_type": "code",
   "execution_count": null,
   "metadata": {},
   "outputs": [],
   "source": [
    "for s in batches:\n",
    "    batch_adata = adata[adata.obs[batch_key] == s, :]\n",
    "    batch = pd.DataFrame(data=batch_adata.X.transpose(),\n",
    "                  index=batch_adata.var_names,\n",
    "                  columns=batch_adata.obs_names)\n",
    "    batch.to_csv(f\"./{s}.csv\")"
   ]
  },
  {
   "cell_type": "code",
   "execution_count": null,
   "metadata": {},
   "outputs": [],
   "source": [
    "os.makedirs(f\"./results/Seurat/{data_name}/\", exist_ok=True)"
   ]
  },
  {
   "cell_type": "markdown",
   "metadata": {},
   "source": [
    "### Now run the Seurat-FI.R script, then continue\n",
    "<br>"
   ]
  },
  {
   "cell_type": "code",
   "execution_count": null,
   "metadata": {},
   "outputs": [],
   "source": [
    "X = pd.read_csv(f'./results/Seurat/{data_name}/corrected.csv', index_col=0).values.T\n",
    "        \n",
    "final_adata = None\n",
    "for s in batches:\n",
    "    batch_adata = adata[adata.obs[batch_key] == s, :]\n",
    "    \n",
    "    if final_adata is None:\n",
    "        final_adata = batch_adata\n",
    "    else:\n",
    "        final_adata = final_adata.concatenate(batch_adata)\n",
    "\n",
    "final_adata.X = X\n",
    "sc.tl.pca(final_adata, svd_solver=\"arpack\", n_comps=20)\n",
    "final_adata = sc.AnnData(X=final_adata.obsm['X_pca'], obs=final_adata.obs)\n",
    "\n",
    "\n",
    "print(f\"after\")\n",
    "sc.pp.neighbors(final_adata)\n",
    "sc.tl.umap(final_adata)\n",
    "sc.settings.figdir = f\"./results/Seurat/{data_name}/after\"\n",
    "sc.pl.umap(final_adata, color=[batch_key, cell_type_key], wspace=.5)\n",
    "final_adata.write(f\"./results/Seurat/{data_name}/result_adata.h5ad\")\n",
    "\n"
   ]
  },
  {
   "cell_type": "markdown",
   "metadata": {},
   "source": [
    "# Mouse Brain"
   ]
  },
  {
   "cell_type": "code",
   "execution_count": null,
   "metadata": {},
   "outputs": [],
   "source": [
    "data_dict = DATASETS['brain']\n",
    "data_name = data_dict['name']\n",
    "batch_key = data_dict['batch_key']\n",
    "cell_type_key = data_dict['cell_type_key']\n",
    "\n",
    "adata = sc.read(f\"./data/{data_name}_normalized.h5ad\")\n",
    "adata"
   ]
  },
  {
   "cell_type": "code",
   "execution_count": null,
   "metadata": {},
   "outputs": [],
   "source": [
    "batches = [\"Saunders\", \"Rosenberg\", \"Tabula_muris\", \"Zeisel\"]"
   ]
  },
  {
   "cell_type": "code",
   "execution_count": null,
   "metadata": {},
   "outputs": [],
   "source": [
    "os.makedirs(f\"./results/Seurat/{data_name}/\", exist_ok=True)"
   ]
  },
  {
   "cell_type": "markdown",
   "metadata": {},
   "source": [
    "### Now run the Seurat-FI.R script, then continue\n",
    "<br>"
   ]
  },
  {
   "cell_type": "code",
   "execution_count": null,
   "metadata": {},
   "outputs": [],
   "source": [
    "X = pd.read_csv(f'./results/Seurat/{data_name}/corrected.csv', index_col=0).values.T\n",
    "        \n",
    "final_adata = None\n",
    "for s in batches:\n",
    "    batch_adata = adata[adata.obs[batch_key] == s, :]\n",
    "    \n",
    "    if final_adata is None:\n",
    "        final_adata = batch_adata\n",
    "    else:\n",
    "        final_adata = final_adata.concatenate(batch_adata)\n",
    "\n",
    "final_adata = sc.AnnData(X=X, obs=final_adata.obs)\n",
    "del X\n",
    "sc.tl.pca(final_adata, svd_solver=\"arpack\", n_comps=20)\n",
    "final_adata = sc.AnnData(X=final_adata.obsm['X_pca'], obs=final_adata.obs)\n",
    "\n",
    "\n",
    "print(f\"after\")\n",
    "sc.pp.neighbors(final_adata)\n",
    "sc.tl.umap(final_adata)\n",
    "sc.settings.figdir = f\"./results/Seurat/{data_name}/after\"\n",
    "sc.pl.umap(final_adata, color=[batch_key, cell_type_key], wspace=.5)\n",
    "final_adata.write(f\"./results/Seurat/{data_name}/result_adata.h5ad\")"
   ]
  }
 ],
 "metadata": {
  "kernelspec": {
   "display_name": "Python 3",
   "language": "python",
   "name": "python3"
  },
  "language_info": {
   "codemirror_mode": {
    "name": "ipython",
    "version": 3
   },
   "file_extension": ".py",
   "mimetype": "text/x-python",
   "name": "python",
   "nbconvert_exporter": "python",
   "pygments_lexer": "ipython3",
   "version": "3.7.6"
  }
 },
 "nbformat": 4,
 "nbformat_minor": 4
}
