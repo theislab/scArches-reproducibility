{
 "cells": [
  {
   "cell_type": "code",
   "execution_count": null,
   "metadata": {},
   "outputs": [],
   "source": [
    "import scanpy as sc\n",
    "import numpy as np\n",
    "import os\n",
    "import pandas as pd\n",
    "from scipy.sparse import csr_matrix\n",
    "from scipy.stats import entropy, itemfreq\n",
    "from sklearn.neighbors import NearestNeighbors\n",
    "from sklearn.cluster import KMeans\n",
    "from sklearn.mixture import GaussianMixture as GMM\n",
    "from sklearn.metrics import adjusted_rand_score as ARI\n",
    "from sklearn.metrics import normalized_mutual_info_score as NMI\n",
    "from sklearn.metrics import silhouette_score\n",
    "from sklearn.preprocessing import LabelEncoder"
   ]
  },
  {
   "cell_type": "code",
   "execution_count": null,
   "metadata": {},
   "outputs": [],
   "source": [
    "DATASETS = {\n",
    "    \"pancreas\": {\"name\": \"pancreas\", \"batch_key\": \"study\", \"cell_type_key\": \"cell_type\"},\n",
    "    \"brain\": {\"name\": \"mouse_brain\", \"batch_key\": \"study\", \"cell_type_key\": \"cell_type\"}\n",
    "}"
   ]
  },
  {
   "cell_type": "code",
   "execution_count": null,
   "metadata": {},
   "outputs": [],
   "source": [
    "sc.settings.autosave = True"
   ]
  },
  {
   "cell_type": "markdown",
   "metadata": {},
   "source": [
    "# Harmony"
   ]
  },
  {
   "cell_type": "code",
   "execution_count": null,
   "metadata": {},
   "outputs": [],
   "source": [
    "for data in [\"brain\", \"pancreas\"]:\n",
    "    data_dict = DATASETS[data]\n",
    "    data_name = data_dict['name']\n",
    "    batch_key = data_dict['batch_key']\n",
    "    cell_type_key = data_dict['cell_type_key']\n",
    "\n",
    "    adata = sc.read(f\"./data/{data_name}_normalized.h5ad\")\n",
    "\n",
    "    adata.obs['cell_types'] = adata.obs[cell_type_key]\n",
    "    \n",
    "    os.makedirs(f\"./results/Harmony/{data_name}/\", exist_ok=True)\n",
    "\n",
    "    sc.tl.pca(adata, svd_solver=\"arpack\", n_comps=20)\n",
    "    \n",
    "    os.makedirs(f\"./data/{data_name}/\", exist_ok=True) \n",
    "    \n",
    "    pd.DataFrame(adata.obsm['X_pca']).to_csv(f'./data/{data_name}/X.csv')\n",
    "    pd.DataFrame(adata.obs[batch_key]).to_csv(f'./data/{data_name}/Batch.csv')\n",
    "    adata.obs.to_csv(f'./data/{data_name}/Obs.csv')\n",
    "            \n",
    "            \n",
    "            "
   ]
  },
  {
   "cell_type": "markdown",
   "metadata": {},
   "source": [
    "\n",
    "### Now run the harmony-FI.R script, then continue\n",
    "\n",
    "<br>"
   ]
  },
  {
   "cell_type": "code",
   "execution_count": null,
   "metadata": {},
   "outputs": [],
   "source": [
    "for data in [\"brain\", \"pancreas\"]:\n",
    "    data_dict = DATASETS[data]\n",
    "    data_name = data_dict['name']\n",
    "    batch_key = data_dict['batch_key']\n",
    "    cell_type_key = data_dict['cell_type_key']\n",
    "\n",
    "    adata = sc.read(f\"./data/{data_name}_normalized.h5ad\")\n",
    "\n",
    "    adata.obs['cell_types'] = adata.obs[cell_type_key]\n",
    "    \n",
    "\n",
    "    obs = pd.read_csv(f'./data/{data_name}/Obs.csv', index_col=0)\n",
    "    x = pd.read_csv(f'./results/Harmony/{data_name}/harmonyCorrected.csv', index_col=0)\n",
    "    x.index = obs.index\n",
    "            \n",
    "    final_adata = sc.AnnData(X=x, obs=obs)\n",
    "\n",
    "\n",
    "    print(f\"after\")\n",
    "    sc.pp.neighbors(final_adata)\n",
    "    sc.tl.umap(final_adata)\n",
    "    sc.settings.figdir = f\"./results/Harmony/{data_name}/after\"\n",
    "    sc.pl.umap(final_adata, color=[batch_key, cell_type_key], wspace=.5)\n",
    "    final_adata.write(f\"./results/Harmony/{data_name}/result_adata.h5ad\")"
   ]
  }
 ],
 "metadata": {
  "kernelspec": {
   "display_name": "Python 3",
   "language": "python",
   "name": "python3"
  },
  "language_info": {
   "codemirror_mode": {
    "name": "ipython",
    "version": 3
   },
   "file_extension": ".py",
   "mimetype": "text/x-python",
   "name": "python",
   "nbconvert_exporter": "python",
   "pygments_lexer": "ipython3",
   "version": "3.7.6"
  }
 },
 "nbformat": 4,
 "nbformat_minor": 4
}
